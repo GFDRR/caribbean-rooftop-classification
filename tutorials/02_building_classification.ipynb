{
 "cells": [
  {
   "cell_type": "markdown",
   "id": "c8374384-b650-4efe-95e1-64935df095f1",
   "metadata": {},
   "source": [
    "# Rooftop Classification"
   ]
  },
  {
   "cell_type": "markdown",
   "id": "8df7bba6-963d-4165-8954-ae38afbc4fe8",
   "metadata": {},
   "source": [
    "## Install Dependencies"
   ]
  },
  {
   "cell_type": "code",
   "execution_count": null,
   "id": "51490afb-61d2-49ec-9746-64ef306d2662",
   "metadata": {},
   "outputs": [],
   "source": [
    "%%capture\n",
    "!git clone https://github.com/GFDRR/caribbean-rooftop-classification.git\n",
    "!pip -q install -U segment-geospatial\n",
    "!pip -q install -U git+https://github.com/IDEA-Research/GroundingDINO.git\n",
    "!pip -q install leafmap huggingface_hub"
   ]
  },
  {
   "cell_type": "code",
   "execution_count": null,
   "id": "3ff4871d-cd4c-4e04-a065-21a341730cf1",
   "metadata": {},
   "outputs": [],
   "source": [
    "%cd caribbean-rooftop-classification/\n",
    "!git checkout add/tutorials"
   ]
  },
  {
   "cell_type": "markdown",
   "id": "b3ac4add-caa8-4b02-a149-92112e2d9a5e",
   "metadata": {},
   "source": [
    "## Imports and Setup"
   ]
  },
  {
   "cell_type": "code",
   "execution_count": 2,
   "id": "c0049098-a941-4e67-8323-5897af06ab8c",
   "metadata": {
    "tags": []
   },
   "outputs": [],
   "source": [
    "import os\n",
    "import sys\n",
    "import joblib\n",
    "import subprocess\n",
    "\n",
    "import pandas as pd\n",
    "import numpy as np\n",
    "import geopandas as gpd\n",
    "from tqdm.notebook import tqdm\n",
    "\n",
    "sys.path.insert(0, \"../utils/\")\n",
    "import pred_utils\n",
    "\n",
    "%load_ext autoreload\n",
    "%autoreload 2"
   ]
  },
  {
   "cell_type": "markdown",
   "id": "a568b643-ee3b-4dfb-981b-33fa4dc9ffca",
   "metadata": {},
   "source": [
    "## File Locations"
   ]
  },
  {
   "cell_type": "code",
   "execution_count": null,
   "id": "cf4e9773-5c49-45cf-aa95-9536f3d8cc7d",
   "metadata": {},
   "outputs": [],
   "source": [
    "in_file = '../data/rasters/ortho/ortho_DOM.tif'\n",
    "exp_config = '../configs/cnn/cnn_11.yaml'"
   ]
  },
  {
   "cell_type": "code",
   "execution_count": null,
   "id": "28d8c974-1b6d-46cc-a422-e869402ed576",
   "metadata": {},
   "outputs": [],
   "source": [
    "preds = pred_utils.predict(bldgs, in_file, exp_config)\n",
    "preds.head(3)"
   ]
  }
 ],
 "metadata": {
  "kernelspec": {
   "display_name": "GFDRR",
   "language": "python",
   "name": "gfdrr"
  },
  "language_info": {
   "codemirror_mode": {
    "name": "ipython",
    "version": 3
   },
   "file_extension": ".py",
   "mimetype": "text/x-python",
   "name": "python",
   "nbconvert_exporter": "python",
   "pygments_lexer": "ipython3",
   "version": "3.10.10"
  }
 },
 "nbformat": 4,
 "nbformat_minor": 5
}
