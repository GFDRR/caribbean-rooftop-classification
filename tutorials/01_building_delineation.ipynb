{
 "cells": [
  {
   "cell_type": "markdown",
   "id": "f0b7fd12-506b-4de9-8ee8-989d36aa7a36",
   "metadata": {},
   "source": [
    "## Install Dependencies"
   ]
  },
  {
   "cell_type": "code",
   "execution_count": null,
   "id": "7d6a64a3-c884-4a06-bc59-8332796f6931",
   "metadata": {},
   "outputs": [],
   "source": [
    "#!git clone https://github.com/GFDRR/caribbean-rooftop-classification.git\n",
    "#!pip -q install -U segment-geospatial\n",
    "#!pip -q install -U git+https://github.com/IDEA-Research/GroundingDINO.git"
   ]
  },
  {
   "cell_type": "code",
   "execution_count": null,
   "id": "49a6c501-de2b-4488-936b-86498e22e1df",
   "metadata": {},
   "outputs": [],
   "source": [
    "#!pip -q install leafmap localtileserver huggingface_hub"
   ]
  },
  {
   "cell_type": "code",
   "execution_count": null,
   "id": "078ce6e6-87f0-4ac5-af48-738cde9f8603",
   "metadata": {},
   "outputs": [],
   "source": [
    "#%cd caribbean-rooftop-classification/\n",
    "#!git checkout add/tutorials\n",
    "#%cd tutorials"
   ]
  },
  {
   "cell_type": "markdown",
   "id": "70faa9bf-0532-4998-a3b0-ad67b1044d23",
   "metadata": {},
   "source": [
    "## Imports and Setup"
   ]
  },
  {
   "cell_type": "code",
   "execution_count": null,
   "id": "e8b5b22b-b2a4-443b-a2a0-a4c4232b3196",
   "metadata": {},
   "outputs": [],
   "source": [
    "import os\n",
    "import gdown\n",
    "\n",
    "import matplotlib.pyplot as plt\n",
    "import rasterio as rio\n",
    "import geopandas as gpd\n",
    "import leafmap\n",
    "\n",
    "from rasterio.plot import show\n",
    "from shapely.geometry import box\n",
    "from samgeo import SamGeo\n",
    "\n",
    "import sys\n",
    "sys.path.insert(0, \"../\")\n",
    "from utils import langsam_utils\n",
    "\n",
    "%load_ext autoreload\n",
    "%autoreload 2"
   ]
  },
  {
   "cell_type": "markdown",
   "id": "d741cfd7-7417-4127-887b-e7526d1a5d86",
   "metadata": {},
   "source": [
    "## Download Image"
   ]
  },
  {
   "cell_type": "code",
   "execution_count": null,
   "id": "1c69f4d6-b698-469d-ba90-d49a56a8059e",
   "metadata": {},
   "outputs": [],
   "source": [
    "image_dir = \"../data/rasters/drone/\"\n",
    "if not os.path.exists(image_dir):\n",
    "    os.makedirs(image_dir)\n",
    "\n",
    "filename = \"drone_salisbury_cropped_DOM.tif\"\n",
    "image_file = os.path.join(image_dir, filename)\n",
    "\n",
    "if not os.path.isfile(image_file):\n",
    "    url = \"https://drive.google.com/uc?id=1SBqJuGfCmrL9YXbwdoK3uOkbPSE4uFGJ\"\n",
    "    gdown.download(url, image_file, quiet=False)"
   ]
  },
  {
   "cell_type": "markdown",
   "id": "dab356ae-7512-4281-bdd9-1915aced0154",
   "metadata": {},
   "source": [
    "## Load Image"
   ]
  },
  {
   "cell_type": "code",
   "execution_count": null,
   "id": "06711fe2-789c-448b-bd63-f13d5b16f412",
   "metadata": {},
   "outputs": [],
   "source": [
    "image = rio.open(image_file)\n",
    "data = gpd.GeoDataFrame({\"id\":1,\"geometry\":[box(*image.bounds)]}, crs=image.crs)\n",
    "data = data.to_crs(\"EPSG:4326\")\n",
    "bbox = data.geometry.values[0]\n",
    "centroid = bbox.centroid"
   ]
  },
  {
   "cell_type": "code",
   "execution_count": null,
   "id": "8236c924-aebf-4928-827f-4596e64bfe10",
   "metadata": {},
   "outputs": [],
   "source": [
    "map = leafmap.Map(center=[centroid.y, centroid.x], zoom=20)\n",
    "map.add_raster(image_file, layer_name=\"Image\", zoom=20)\n",
    "map"
   ]
  },
  {
   "cell_type": "markdown",
   "id": "7ad69bb1-c68b-421a-81c2-22ecf983fead",
   "metadata": {},
   "source": [
    "## LangSAM"
   ]
  },
  {
   "cell_type": "code",
   "execution_count": null,
   "id": "c2f3c259-045a-4ece-8526-4688e94806f5",
   "metadata": {},
   "outputs": [],
   "source": [
    "model = langsam_utils.LangSAM()\n",
    "text_prompt = \"house\""
   ]
  },
  {
   "cell_type": "code",
   "execution_count": null,
   "id": "bd6c079e-bfa1-4141-a12a-875bdc0fcac2",
   "metadata": {},
   "outputs": [],
   "source": [
    "image_np, image_pil = langsam_utils.get_image_arrays(image_file)\n",
    "masks, boxes, phrases, logit = model.predict(\n",
    "    image_pil, text_prompt, box_threshold=0.3, text_threshold=0.3\n",
    ")"
   ]
  },
  {
   "cell_type": "code",
   "execution_count": null,
   "id": "fd95b1a1-c475-4d6a-a0ff-62ca95c66877",
   "metadata": {},
   "outputs": [],
   "source": [
    "langsam_utils.visualize(image_np, image_pil, boxes, masks)"
   ]
  },
  {
   "cell_type": "code",
   "execution_count": null,
   "id": "a779a18e-1450-4832-a0be-d0d56a10f298",
   "metadata": {},
   "outputs": [],
   "source": [
    "out_file = \"preds.gpkg\"\n",
    "langsam_utils.save_predictions(mask_overlay, out_file)"
   ]
  },
  {
   "cell_type": "code",
   "execution_count": null,
   "id": "f7a36c61-4240-4a59-b10f-603ebfd2a25f",
   "metadata": {},
   "outputs": [],
   "source": [
    "style = {\n",
    "    \"color\": \"#3388ff\",\n",
    "    \"weight\": 2,\n",
    "    \"fillColor\": \"#7c4185\",\n",
    "    \"fillOpacity\": 0.5,\n",
    "}\n",
    "map.add_vector(out_file, layer_name=\"Vector\", style=style)\n",
    "map"
   ]
  }
 ],
 "metadata": {
  "kernelspec": {
   "display_name": "GFDRR",
   "language": "python",
   "name": "gfdrr"
  },
  "language_info": {
   "codemirror_mode": {
    "name": "ipython",
    "version": 3
   },
   "file_extension": ".py",
   "mimetype": "text/x-python",
   "name": "python",
   "nbconvert_exporter": "python",
   "pygments_lexer": "ipython3",
   "version": "3.10.10"
  }
 },
 "nbformat": 4,
 "nbformat_minor": 5
}
