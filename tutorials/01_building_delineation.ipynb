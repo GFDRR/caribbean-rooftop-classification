{
 "cells": [
  {
   "cell_type": "markdown",
   "id": "f0b7fd12-506b-4de9-8ee8-989d36aa7a36",
   "metadata": {},
   "source": [
    "## Install Dependencies"
   ]
  },
  {
   "cell_type": "code",
   "execution_count": null,
   "id": "7d6a64a3-c884-4a06-bc59-8332796f6931",
   "metadata": {},
   "outputs": [],
   "source": [
    "!git clone https://github.com/GFDRR/caribbean-rooftop-classification.git\n",
    "!pip -q install -U segment-geospatial\n",
    "!pip -q install -U git+https://github.com/IDEA-Research/GroundingDINO.git"
   ]
  },
  {
   "cell_type": "code",
   "execution_count": null,
   "id": "49a6c501-de2b-4488-936b-86498e22e1df",
   "metadata": {},
   "outputs": [],
   "source": [
    "!pip -q install leafmap localtileserver huggingface_hub"
   ]
  },
  {
   "cell_type": "code",
   "execution_count": null,
   "id": "078ce6e6-87f0-4ac5-af48-738cde9f8603",
   "metadata": {},
   "outputs": [],
   "source": [
    "%cd caribbean-rooftop-classification/\n",
    "!git checkout add/tutorials\n",
    "%cd tutorials"
   ]
  },
  {
   "cell_type": "markdown",
   "id": "70faa9bf-0532-4998-a3b0-ad67b1044d23",
   "metadata": {},
   "source": [
    "## Imports and Setup"
   ]
  },
  {
   "cell_type": "code",
   "execution_count": null,
   "id": "e8b5b22b-b2a4-443b-a2a0-a4c4232b3196",
   "metadata": {},
   "outputs": [],
   "source": [
    "import os\n",
    "import gdown\n",
    "\n",
    "import matplotlib.pyplot as plt\n",
    "import rasterio as rio\n",
    "import geopandas as gpd\n",
    "import leafmap\n",
    "\n",
    "from rasterio.plot import show\n",
    "from shapely.geometry import box\n",
    "from samgeo import SamGeo\n",
    "\n",
    "import sys\n",
    "sys.path.insert(0, \"../\")\n",
    "from utils import langsam_utils\n",
    "\n",
    "%load_ext autoreload\n",
    "%autoreload 2"
   ]
  },
  {
   "cell_type": "markdown",
   "id": "d741cfd7-7417-4127-887b-e7526d1a5d86",
   "metadata": {},
   "source": [
    "## Download Image"
   ]
  },
  {
   "cell_type": "code",
   "execution_count": null,
   "id": "1c69f4d6-b698-469d-ba90-d49a56a8059e",
   "metadata": {},
   "outputs": [],
   "source": [
    "image_dir = \"../data/rasters/drone/\"\n",
    "if not os.path.exists(image_dir):\n",
    "    os.makedirs(image_dir)\n",
    "\n",
    "filename = \"drone.tif\"\n",
    "image_file = os.path.join(image_dir, filename)\n",
    "\n",
    "gid = \"1SBqJuGfCmrL9YXbwdoK3uOkbPSE4uFGJ\"\n",
    "if not os.path.isfile(image_file):\n",
    "    url = f\"https://drive.google.com/uc?id={gid}\"\n",
    "    gdown.download(url, image_file, quiet=False)"
   ]
  },
  {
   "cell_type": "markdown",
   "id": "dab356ae-7512-4281-bdd9-1915aced0154",
   "metadata": {},
   "source": [
    "## Load Image"
   ]
  },
  {
   "cell_type": "code",
   "execution_count": null,
   "id": "06711fe2-789c-448b-bd63-f13d5b16f412",
   "metadata": {},
   "outputs": [],
   "source": [
    "image = rio.open(image_file)\n",
    "data = gpd.GeoDataFrame({\"id\":1,\"geometry\":[box(*image.bounds)]}, crs=image.crs)\n",
    "data = data.to_crs(\"EPSG:4326\")\n",
    "bbox = data.geometry.values[0]\n",
    "centroid = bbox.centroid\n",
    "\n",
    "map = leafmap.Map(center=[centroid.y, centroid.x], zoom=20)\n",
    "map.add_raster(image_file, layer_name=\"Image\", zoom=20)\n",
    "map"
   ]
  },
  {
   "cell_type": "markdown",
   "id": "7ad69bb1-c68b-421a-81c2-22ecf983fead",
   "metadata": {},
   "source": [
    "## LangSAM"
   ]
  },
  {
   "cell_type": "code",
   "execution_count": null,
   "id": "c2f3c259-045a-4ece-8526-4688e94806f5",
   "metadata": {},
   "outputs": [],
   "source": [
    "text_prompt = \"house\"\n",
    "model = langsam_utils.LangSAM()"
   ]
  },
  {
   "cell_type": "code",
   "execution_count": null,
   "id": "78e509f2-7efb-4af3-bd0d-cdd8ab1e8724",
   "metadata": {},
   "outputs": [],
   "source": [
    "tiles = langsam_utils.generate_tiles(image_file, size=3000)\n",
    "print('Data dimensions: {}'.format(tiles.shape))\n",
    "tiles.head(3)"
   ]
  },
  {
   "cell_type": "code",
   "execution_count": null,
   "id": "10d37ab5-f5a3-4dde-8dad-3fa96950a53b",
   "metadata": {},
   "outputs": [],
   "source": [
    "image = rio.open(image_file)\n",
    "fig, ax = plt.subplots(figsize=(15,15))\n",
    "tiles.plot(facecolor=\"none\", edgecolor='red', ax=ax, aspect=1)\n",
    "show(image, ax=ax);"
   ]
  },
  {
   "cell_type": "code",
   "execution_count": null,
   "id": "4143eba7-2378-43d3-907f-3f116e4c890c",
   "metadata": {},
   "outputs": [],
   "source": [
    "langsam_utils.show_crop(image_file, [tiles.iloc[20]['geometry']])"
   ]
  },
  {
   "cell_type": "code",
   "execution_count": null,
   "id": "5f1caf46-1392-4c7c-af44-5fb9ee0d0db8",
   "metadata": {},
   "outputs": [],
   "source": [
    "out_dir = './temp/'\n",
    "out_file = 'merged.gpkg'\n",
    "\n",
    "for index in tqdm(range(len(tiles)), total=len(tiles)):\n",
    "    shape = [tiles.iloc[index]['geometry']]\n",
    "    langsam_utils.predict_crop(\n",
    "        image_file, shape, model, out_dir, index\n",
    "    )\n",
    "polygons = langsam_utils.merge_polygons(out_dir)\n",
    "langsam_utils.connect_polygons(polygons, merged_file=out_file, intersect_ratio=0.6)"
   ]
  },
  {
   "cell_type": "code",
   "execution_count": null,
   "id": "1904dcc8-63dd-43ed-b768-111e4644663e",
   "metadata": {},
   "outputs": [],
   "source": [
    "map = leafmap.Map(center=[centroid.y, centroid.x], zoom=20)\n",
    "map.add_raster(image_file, layer_name=\"Image\", zoom=20)\n",
    "style = {\n",
    "    \"color\": \"#3388ff\",\n",
    "    \"weight\": 2,\n",
    "    \"fillColor\": \"#7c4185\",\n",
    "    \"fillOpacity\": 0.5,\n",
    "}\n",
    "map.add_vector(out_file, layer_name=\"Vector\", style=style)\n",
    "map"
   ]
  }
 ],
 "metadata": {
  "kernelspec": {
   "display_name": "GFDRR",
   "language": "python",
   "name": "gfdrr"
  },
  "language_info": {
   "codemirror_mode": {
    "name": "ipython",
    "version": 3
   },
   "file_extension": ".py",
   "mimetype": "text/x-python",
   "name": "python",
   "nbconvert_exporter": "python",
   "pygments_lexer": "ipython3",
   "version": "3.10.10"
  }
 },
 "nbformat": 4,
 "nbformat_minor": 5
}
