{
 "cells": [
  {
   "cell_type": "markdown",
   "id": "acd2984c-3250-4346-8dac-3690bfe63693",
   "metadata": {},
   "source": [
    "## Install Dependencies"
   ]
  },
  {
   "cell_type": "code",
   "execution_count": null,
   "id": "123030f7-b85a-45ab-b05e-8d36b2935914",
   "metadata": {},
   "outputs": [],
   "source": [
    "#!git clone https://github.com/GFDRR/caribbean-rooftop-classification.git\n",
    "#!pip install -q segment-geospatial leafmap localtileserver"
   ]
  },
  {
   "cell_type": "code",
   "execution_count": null,
   "id": "1ab937c3-d6a5-4278-b386-f19e14158021",
   "metadata": {},
   "outputs": [],
   "source": [
    "#%cd caribbean-rooftop-classification/\n",
    "#!git checkout add/tutorials"
   ]
  },
  {
   "cell_type": "markdown",
   "id": "4e1ae4bd-dc31-4daa-a925-2439d65b67a4",
   "metadata": {},
   "source": [
    "## Imports and Setup"
   ]
  },
  {
   "cell_type": "code",
   "execution_count": null,
   "id": "ea43fc28-4487-4e1e-aecf-02248babb491",
   "metadata": {
    "tags": []
   },
   "outputs": [],
   "source": [
    "import os\n",
    "import matplotlib.pyplot as plt\n",
    "import rasterio as rio\n",
    "import geopandas as gpd\n",
    "import leafmap\n",
    "\n",
    "from rasterio.plot import show\n",
    "from shapely.geometry import box\n",
    "from samgeo import SamGeo"
   ]
  },
  {
   "cell_type": "markdown",
   "id": "23a5b5e2-0a97-44b9-8206-7f614e4145fc",
   "metadata": {},
   "source": [
    "## Download Image"
   ]
  },
  {
   "cell_type": "code",
   "execution_count": null,
   "id": "28b1d23c-ce31-49bf-8317-fb4f050f339a",
   "metadata": {
    "tags": []
   },
   "outputs": [],
   "source": [
    "image_dir = \"../data/rasters/drone/\"\n",
    "if not os.path.exists(image_dir):\n",
    "    os.makedirs(image_dir)\n",
    "\n",
    "filename = \"drone_salisbury_cropped_DOM.tif\"\n",
    "image_file = os.path.join(image_dir, filename)"
   ]
  },
  {
   "cell_type": "markdown",
   "id": "3c1da3f4-7276-476d-894d-5895ccebdf20",
   "metadata": {},
   "source": [
    "## Load Image"
   ]
  },
  {
   "cell_type": "code",
   "execution_count": null,
   "id": "93636f47-fa10-4ed1-b906-f787b10d7d6c",
   "metadata": {},
   "outputs": [],
   "source": [
    "image = rio.open(image_file)\n",
    "data = gpd.GeoDataFrame({\"id\":1,\"geometry\":[box(*image.bounds)]}, crs=image.crs)\n",
    "data = data.to_crs(\"EPSG:4326\")\n",
    "bbox = data.geometry.values[0]\n",
    "centroid = bbox.centroid"
   ]
  },
  {
   "cell_type": "code",
   "execution_count": null,
   "id": "40f71ae6-fc52-4db5-bc9e-46261d5aed6f",
   "metadata": {
    "tags": []
   },
   "outputs": [],
   "source": [
    "map = leafmap.Map(center=[centroid.y, centroid.x], zoom=20)\n",
    "map.add_raster(image_file, layer_name=\"Image\", zoom=20)\n",
    "map"
   ]
  },
  {
   "cell_type": "markdown",
   "id": "6cf63c3a-6274-43d9-9c8a-7eb84fad72d0",
   "metadata": {},
   "source": [
    "## Instantiate SamGeo"
   ]
  },
  {
   "cell_type": "code",
   "execution_count": null,
   "id": "e6ace92e-24c6-49f7-9d86-ab6aaeafd16d",
   "metadata": {
    "tags": []
   },
   "outputs": [],
   "source": [
    "sam = SamGeo(\n",
    "    model_type=\"vit_h\",\n",
    "    checkpoint=\"sam_vit_h_4b8939.pth\",\n",
    "    device='cpu',\n",
    "    sam_kwargs={\"points_per_batch\": 8},\n",
    ")"
   ]
  },
  {
   "cell_type": "markdown",
   "id": "cc3356fd-b22c-44f2-9a61-b9e37556b5c2",
   "metadata": {},
   "source": [
    "## Generate Prediction"
   ]
  },
  {
   "cell_type": "code",
   "execution_count": null,
   "id": "55687cdc-31b6-45de-958f-961ae1b221ba",
   "metadata": {
    "tags": []
   },
   "outputs": [],
   "source": [
    "mask = \"segment.tif\"\n",
    "image_file = \"../data/rasters/drone/drone_salisbury_cropped_DOM.tif\"\n",
    "sam.generate(image_file, mask, batch=True, foreground=True, mask_multiplier=255)"
   ]
  }
 ],
 "metadata": {
  "kernelspec": {
   "display_name": "GFDRR",
   "language": "python",
   "name": "gfdrr"
  },
  "language_info": {
   "codemirror_mode": {
    "name": "ipython",
    "version": 3
   },
   "file_extension": ".py",
   "mimetype": "text/x-python",
   "name": "python",
   "nbconvert_exporter": "python",
   "pygments_lexer": "ipython3",
   "version": "3.10.10"
  }
 },
 "nbformat": 4,
 "nbformat_minor": 5
}
