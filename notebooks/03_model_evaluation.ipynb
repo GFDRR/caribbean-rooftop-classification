{
 "cells": [
  {
   "cell_type": "markdown",
   "id": "ee0bd796-ff3c-400e-9316-53cb28e6084c",
   "metadata": {},
   "source": [
    "## Imports and Setup"
   ]
  },
  {
   "cell_type": "code",
   "execution_count": 1,
   "id": "77c07276-90dd-4971-ad81-e4fcee39d873",
   "metadata": {
    "tags": []
   },
   "outputs": [
    {
     "name": "stderr",
     "output_type": "stream",
     "text": [
      "C:\\Users\\Issa\\miniconda3\\envs\\GFDRR\\lib\\site-packages\\groundingdino\\models\\GroundingDINO\\ms_deform_attn.py:31: UserWarning: Failed to load custom C++ ops. Running on CPU mode Only!\n",
      "  warnings.warn(\"Failed to load custom C++ ops. Running on CPU mode Only!\")\n"
     ]
    }
   ],
   "source": [
    "import os\n",
    "import sys\n",
    "sys.path.insert(0, \"../utils/\")\n",
    "import geoutils\n",
    "import cnn_utils\n",
    "import pred_utils\n",
    "import config\n",
    "\n",
    "import pandas as pd\n",
    "import numpy as np\n",
    "import geopandas as gpd\n",
    "from huggingface_hub import PyTorchModelHubMixin\n",
    "\n",
    "import torch\n",
    "import torchsummary\n",
    "import logging\n",
    "\n",
    "pd.set_option('mode.chained_assignment', None)\n",
    "device = torch.device(\"cuda:0\" if torch.cuda.is_available() else \"cpu\")\n",
    "\n",
    "%load_ext autoreload\n",
    "%autoreload 2"
   ]
  },
  {
   "cell_type": "markdown",
   "id": "6541713c-3efe-4d8f-850c-92cdbffbe3cd",
   "metadata": {},
   "source": [
    "## Load Configs: Roof Type"
   ]
  },
  {
   "cell_type": "code",
   "execution_count": 24,
   "id": "2629fe9b-db4c-4e55-b070-194ece14b997",
   "metadata": {
    "tags": []
   },
   "outputs": [
    {
     "name": "stderr",
     "output_type": "stream",
     "text": [
      "INFO:root:{'NO_ROOF': 0, 'GABLE': 1, 'HIP': 2, 'FLAT': 3}\n"
     ]
    },
    {
     "name": "stdout",
     "output_type": "stream",
     "text": [
      "Config: {'attribute': 'roof_type', 'data': 'RGB_DOM', 'mode': 'RGB', 'batch_size': 32, 'n_workers': 4, 'n_epochs': 60, 'model': 'efficientnetb0', 'pretrained': True, 'resampler': 'RandomOverSampler', 'scheduler': 'ReduceLROnPlateau', 'optimizer': 'Adam', 'label_smoothing': 0.1, 'lr': 1e-05, 'img_size': 224, 'momentum': None, 'gamma': None, 'step_size': None, 'patience': 7, 'dropout': None, 'config_name': 'cnn-roof_type-efficientnetb0-RGB_DOM', 'rasters_dir': '../data/rasters/', 'vectors_dir': '../data/vectors/', 'tile_dir': '../data/tiles/', 'csv_dir': '../data/csv/', 'out_dir': '../outputs/', 'exp_dir': '../exp/', 'log_dir': '../logs/'}\n"
     ]
    }
   ],
   "source": [
    "prefix = '.'\n",
    "phases = [\"TRAIN\", \"TEST\"]\n",
    "config_file = \"../configs/cnn/cnn-roof_type-efficientnetb0-RGB_DOM.yaml\"\n",
    "dom_c = config.load_config(config_file, prefix=prefix)\n",
    "print(f\"Config: {dom_c}\")\n",
    "dom_data, dom_data_loader, dom_classes = cnn_utils.load_dataset(dom_c, phases, prefix)"
   ]
  },
  {
   "cell_type": "code",
   "execution_count": 25,
   "id": "56aa76d3-59e4-441c-95cc-9f37f442fc28",
   "metadata": {
    "tags": []
   },
   "outputs": [
    {
     "name": "stderr",
     "output_type": "stream",
     "text": [
      "INFO:root:{'NO_ROOF': 0, 'GABLE': 1, 'HIP': 2, 'FLAT': 3}\n"
     ]
    },
    {
     "name": "stdout",
     "output_type": "stream",
     "text": [
      "Config: {'attribute': 'roof_type', 'data': 'RGB_LCA', 'mode': 'RGB', 'batch_size': 32, 'n_workers': 4, 'n_epochs': 60, 'model': 'resnet50', 'pretrained': True, 'resampler': 'RandomOverSampler', 'scheduler': 'ReduceLROnPlateau', 'optimizer': 'Adam', 'label_smoothing': 0.1, 'lr': 1e-05, 'img_size': 224, 'momentum': None, 'gamma': None, 'step_size': None, 'patience': 7, 'dropout': 0.5, 'config_name': 'cnn-roof_type-resnet50-RGB_LCA', 'rasters_dir': '../data/rasters/', 'vectors_dir': '../data/vectors/', 'tile_dir': '../data/tiles/', 'csv_dir': '../data/csv/', 'out_dir': '../outputs/', 'exp_dir': '../exp/', 'log_dir': '../logs/'}\n"
     ]
    }
   ],
   "source": [
    "config_file = \"../configs/cnn/cnn-roof_type-resnet50-RGB_LCA.yaml\"\n",
    "lca_c = config.load_config(config_file, prefix=prefix)\n",
    "print(f\"Config: {lca_c}\")\n",
    "lca_data, lca_data_loader, lca_classes = cnn_utils.load_dataset(lca_c, phases, prefix)"
   ]
  },
  {
   "cell_type": "code",
   "execution_count": 26,
   "id": "5ecb4495-01f8-4311-9c01-e25e91029a40",
   "metadata": {
    "tags": []
   },
   "outputs": [
    {
     "name": "stderr",
     "output_type": "stream",
     "text": [
      "INFO:root:{'NO_ROOF': 0, 'GABLE': 1, 'HIP': 2, 'FLAT': 3}\n"
     ]
    },
    {
     "name": "stdout",
     "output_type": "stream",
     "text": [
      "Config: {'attribute': 'roof_type', 'data': 'RGB_DOM_LCA', 'mode': 'RGB', 'batch_size': 32, 'n_workers': 4, 'n_epochs': 60, 'model': 'efficientnetb0', 'pretrained': True, 'resampler': 'RandomOverSampler', 'scheduler': 'ReduceLROnPlateau', 'optimizer': 'Adam', 'label_smoothing': 0.1, 'lr': 1e-05, 'img_size': 224, 'momentum': None, 'gamma': None, 'step_size': None, 'patience': 7, 'dropout': None, 'config_name': 'cnn-roof_type-efficientnetb0-RGB_DOM_LCA', 'rasters_dir': '../data/rasters/', 'vectors_dir': '../data/vectors/', 'tile_dir': '../data/tiles/', 'csv_dir': '../data/csv/', 'out_dir': '../outputs/', 'exp_dir': '../exp/', 'log_dir': '../logs/'}\n"
     ]
    }
   ],
   "source": [
    "config_file = \"../configs/cnn/cnn-roof_type-efficientnetb0-RGB_DOM_LCA.yaml\"\n",
    "com_c = config.load_config(config_file, prefix=prefix)\n",
    "print(f\"Config: {com_c}\")\n",
    "com_data, com_data_loader, com_classes = cnn_utils.load_dataset(com_c, phases, prefix)"
   ]
  },
  {
   "cell_type": "markdown",
   "id": "046c1922-6ce4-4d72-8cd6-50214f826ae6",
   "metadata": {},
   "source": [
    "## Load Models: Roof Type"
   ]
  },
  {
   "cell_type": "code",
   "execution_count": 30,
   "id": "27d07184-c9c0-4bb8-a5ed-6beda5d74c57",
   "metadata": {
    "tags": []
   },
   "outputs": [
    {
     "name": "stderr",
     "output_type": "stream",
     "text": [
      "INFO:root:{'model_type': 'resnet50', 'n_classes': 4, 'mode': 'RGB', 'dropout': 0.5}\n",
      "INFO:root:Model file ../exp/cnn-roof_type-resnet50-RGB_LCA\\cnn-roof_type-resnet50-RGB_LCA.pth successfully loaded.\n",
      "INFO:root:{'model_type': 'efficientnetb0', 'n_classes': 4, 'mode': 'RGB', 'dropout': None}\n",
      "INFO:root:Model file ../exp/cnn-roof_type-efficientnetb0-RGB_DOM\\cnn-roof_type-efficientnetb0-RGB_DOM.pth successfully loaded.\n",
      "INFO:root:{'model_type': 'efficientnetb0', 'n_classes': 4, 'mode': 'RGB', 'dropout': None}\n",
      "INFO:root:Model file ../exp/cnn-roof_type-efficientnetb0-RGB_DOM_LCA\\cnn-roof_type-efficientnetb0-RGB_DOM_LCA.pth successfully loaded.\n"
     ]
    }
   ],
   "source": [
    "lca_model = pred_utils.load_model(lca_c, lca_classes)\n",
    "dom_model = pred_utils.load_model(dom_c, dom_classes)\n",
    "com_model = pred_utils.load_model(com_c, com_classes, push_to_hf=True)\n",
    "criterion = torch.nn.CrossEntropyLoss()"
   ]
  },
  {
   "cell_type": "code",
   "execution_count": null,
   "id": "a48e41c6-978e-4717-b5cf-c4c102ef9bfd",
   "metadata": {
    "tags": []
   },
   "outputs": [],
   "source": [
    "com_model.push_to_hub(f\"issatingzon/{com_c['config_name']}\")"
   ]
  },
  {
   "cell_type": "code",
   "execution_count": 5,
   "id": "d526acca-4509-4ceb-bfc5-1202e2ee77db",
   "metadata": {
    "tags": []
   },
   "outputs": [
    {
     "data": {
      "application/vnd.jupyter.widget-view+json": {
       "model_id": "9d69417b9cce4809b2394b74fbe1deb9",
       "version_major": 2,
       "version_minor": 0
      },
      "text/plain": [
       "VBox(children=(HTML(value='<center> <img\\nsrc=https://huggingface.co/front/assets/huggingface_logo-noborder.sv…"
      ]
     },
     "metadata": {},
     "output_type": "display_data"
    }
   ],
   "source": [
    "from huggingface_hub import notebook_login\n",
    "notebook_login()"
   ]
  },
  {
   "cell_type": "code",
   "execution_count": 31,
   "id": "044d89c4-eba2-4347-bb59-fc218fc8c4f6",
   "metadata": {
    "tags": []
   },
   "outputs": [
    {
     "name": "stderr",
     "output_type": "stream",
     "text": [
      "INFO:root:{'model_type': 'efficientnetb0', 'n_classes': 4, 'mode': 'RGB', 'dropout': None}\n"
     ]
    },
    {
     "name": "stdout",
     "output_type": "stream",
     "text": [
      "Loading weights from local directory\n"
     ]
    }
   ],
   "source": [
    "from cnn_utils import GFDRRModel\n",
    "model = GFDRRModel.from_pretrained(f\"issatingzon/{com_c['config_name']}\")"
   ]
  },
  {
   "cell_type": "markdown",
   "id": "a804a397-3127-4bac-9adf-2a81c954ec39",
   "metadata": {},
   "source": [
    "## Generate Results: Roof Type"
   ]
  },
  {
   "cell_type": "code",
   "execution_count": null,
   "id": "863f61bb-1341-4e5c-a752-7241efa8ca0e",
   "metadata": {
    "tags": []
   },
   "outputs": [
    {
     "name": "stderr",
     "output_type": "stream",
     "text": [
      " 59%|████████████████████████████████████████████████▎                                 | 33/56 [02:38<01:31,  3.99s/it]"
     ]
    }
   ],
   "source": [
    "test_results, test_cm = cnn_utils.evaluate(\n",
    "    dom_data_loader[\"TEST\"], \n",
    "    dom_classes, \n",
    "    com_model, \n",
    "    criterion, \n",
    "    device=device,\n",
    "    logging=logging\n",
    ")"
   ]
  },
  {
   "cell_type": "code",
   "execution_count": 12,
   "id": "331f92dc-903e-4b29-a933-ecee344b7860",
   "metadata": {
    "tags": []
   },
   "outputs": [
    {
     "name": "stderr",
     "output_type": "stream",
     "text": [
      "100%|██████████████████████████████████████████████████████████████████████████████████| 56/56 [01:31<00:00,  1.63s/it]\n",
      "INFO:root:Val Loss: 12.651954744543348 {'overall_accuracy': 87.38839285714286, 'balanced_accuracy': 88.01062436126446, 'f1_score_micro': 87.38839285714286, 'f1_score': 88.01571234605231, 'precision_score': 88.51167631057467, 'recall_score': 88.01062436126446, 'f1_per_class': array([91.69550173, 87.87632221, 89.93288591, 82.55813953]), 'precision_per_class': array([92.98245614, 92.46575342, 92.79778393, 75.80071174]), 'recall_per_class': array([90.44368601, 83.72093023, 87.23958333, 90.63829787]), 'loss': 12.651954744543348}\n"
     ]
    }
   ],
   "source": [
    "test_results, test_cm = cnn_utils.evaluate(\n",
    "    dom_data_loader[\"TEST\"], \n",
    "    dom_classes, \n",
    "    com_model, \n",
    "    criterion, \n",
    "    device=device,\n",
    "    logging=logging\n",
    ")"
   ]
  },
  {
   "cell_type": "code",
   "execution_count": 13,
   "id": "e983e842-c69f-41d2-a49d-3fb6b99f37b2",
   "metadata": {
    "tags": []
   },
   "outputs": [
    {
     "name": "stderr",
     "output_type": "stream",
     "text": [
      "100%|██████████████████████████████████████████████████████████████████████████████████| 31/31 [01:00<00:00,  1.96s/it]\n",
      "INFO:root:Val Loss: 5.9891297817230225 {'overall_accuracy': 95.66532258064517, 'balanced_accuracy': 90.35619988626395, 'f1_score_micro': 95.66532258064517, 'f1_score': 91.9153002027303, 'precision_score': 93.63181188914643, 'recall_score': 90.35619988626395, 'f1_per_class': array([87.75510204, 97.17707442, 97.8805395 , 84.84848485]), 'precision_per_class': array([91.4893617 , 95.7841484 , 98.83268482, 88.42105263]), 'recall_per_class': array([84.31372549, 98.61111111, 96.94656489, 81.55339806]), 'loss': 5.9891297817230225}\n"
     ]
    }
   ],
   "source": [
    "test_results, test_cm = cnn_utils.evaluate(\n",
    "    lca_data_loader[\"TEST\"], \n",
    "    lca_classes, \n",
    "    com_model, \n",
    "    criterion, \n",
    "    device=device,\n",
    "    logging=logging\n",
    ")"
   ]
  },
  {
   "cell_type": "code",
   "execution_count": 6,
   "id": "c56d5c73-52a3-489b-a05d-dce76617bf0d",
   "metadata": {
    "tags": []
   },
   "outputs": [
    {
     "name": "stderr",
     "output_type": "stream",
     "text": [
      "100%|██████████████████████████████████████████████████████████████████████████████████| 56/56 [03:52<00:00,  4.15s/it]\n",
      "INFO:root:Val Loss: 16.294595309666224 {'overall_accuracy': 82.31026785714286, 'balanced_accuracy': 81.39380528491141, 'f1_score_micro': 82.31026785714286, 'f1_score': 82.59474845208263, 'precision_score': 84.72277098268908, 'recall_score': 81.39380528491141, 'f1_per_class': array([85.2398524 , 82.84697509, 86.04651163, 76.24565469]), 'precision_per_class': array([92.4       , 76.07843137, 86.26943005, 84.14322251]), 'recall_per_class': array([79.10958904, 90.9375    , 85.82474227, 69.70338983]), 'loss': 16.294595309666224}\n"
     ]
    }
   ],
   "source": [
    "test_results, test_cm = cnn_utils.evaluate(\n",
    "    dom_data_loader[\"TEST\"], \n",
    "    dom_classes, \n",
    "    lca_model, \n",
    "    criterion, \n",
    "    device=device,\n",
    "    logging=logging\n",
    ")"
   ]
  },
  {
   "cell_type": "code",
   "execution_count": 7,
   "id": "7402e508-b57b-44ef-94db-d5e6945f32f3",
   "metadata": {
    "tags": []
   },
   "outputs": [
    {
     "name": "stderr",
     "output_type": "stream",
     "text": [
      "100%|██████████████████████████████████████████████████████████████████████████████████| 31/31 [01:10<00:00,  2.28s/it]\n",
      "INFO:root:Val Loss: 7.619411330069265 {'overall_accuracy': 93.04435483870968, 'balanced_accuracy': 87.92150614511655, 'f1_score_micro': 93.04435483870968, 'f1_score': 88.39089483448461, 'precision_score': 88.92682726496521, 'recall_score': 87.92150614511655, 'f1_per_class': array([81.25      , 95.25452977, 94.59459459, 82.46445498]), 'precision_per_class': array([82.9787234 , 94.19795222, 97.22222222, 81.30841121]), 'recall_per_class': array([79.59183673, 96.33507853, 92.10526316, 83.65384615]), 'loss': 7.619411330069265}\n"
     ]
    }
   ],
   "source": [
    "test_results, test_cm = cnn_utils.evaluate(\n",
    "    lca_data_loader[\"TEST\"], \n",
    "    lca_classes, \n",
    "    dom_model, \n",
    "    criterion, \n",
    "    device=device,\n",
    "    logging=logging\n",
    ")"
   ]
  },
  {
   "cell_type": "markdown",
   "id": "8b958f7e-01c1-451c-b05a-ec0972bc1b8f",
   "metadata": {},
   "source": [
    "## Load Configs: Roof Material"
   ]
  },
  {
   "cell_type": "code",
   "execution_count": 10,
   "id": "a88eb465-b851-4f5a-b2e0-0d89e02f28b5",
   "metadata": {
    "tags": []
   },
   "outputs": [
    {
     "name": "stderr",
     "output_type": "stream",
     "text": [
      "INFO:root:{'INCOMPLETE': 0, 'HEALTHY_METAL': 1, 'IRREGULAR_METAL': 2, 'CONCRETE_CEMENT': 3, 'BLUE_TARP': 4}\n"
     ]
    },
    {
     "name": "stdout",
     "output_type": "stream",
     "text": [
      "Config: {'attribute': 'roof_material', 'data': 'RGB_DOM', 'mode': 'RGB', 'batch_size': 32, 'n_workers': 4, 'n_epochs': 60, 'model': 'resnet50', 'resampler': 'RandomOverSampler', 'pretrained': True, 'scheduler': 'ReduceLROnPlateau', 'optimizer': 'Adam', 'label_smoothing': 0.1, 'lr': 1e-05, 'img_size': 224, 'patience': 7, 'dropout': 0.5, 'momentum': None, 'gamma': None, 'step_size': None, 'config_name': 'cnn-roof_material-resnet50-RGB_DOM', 'rasters_dir': '../data/rasters/', 'vectors_dir': '../data/vectors/', 'tile_dir': '../data/tiles/', 'csv_dir': '../data/csv/', 'out_dir': '../outputs/', 'exp_dir': '../exp/', 'log_dir': '../logs/'}\n"
     ]
    }
   ],
   "source": [
    "prefix = '.'\n",
    "phases = [\"TRAIN\", \"TEST\"]\n",
    "config_file = \"../configs/cnn/cnn-roof_material-resnet50-RGB_DOM.yaml\"\n",
    "dom_c = config.load_config(config_file, prefix=prefix)\n",
    "print(f\"Config: {dom_c}\")\n",
    "dom_data, dom_data_loader, dom_classes = cnn_utils.load_dataset(dom_c, phases, prefix)"
   ]
  },
  {
   "cell_type": "code",
   "execution_count": 11,
   "id": "9a7594a8-3998-4203-9bb9-b3bdc907d407",
   "metadata": {
    "tags": []
   },
   "outputs": [
    {
     "name": "stderr",
     "output_type": "stream",
     "text": [
      "INFO:root:{'INCOMPLETE': 0, 'HEALTHY_METAL': 1, 'IRREGULAR_METAL': 2, 'CONCRETE_CEMENT': 3}\n"
     ]
    },
    {
     "name": "stdout",
     "output_type": "stream",
     "text": [
      "Config: {'data': 'RGB_LCA', 'mode': 'RGB', 'attribute': 'roof_material', 'batch_size': 32, 'n_workers': 4, 'n_epochs': 60, 'model': 'efficientnetb0', 'pretrained': True, 'resampler': 'RandomOverSampler', 'scheduler': 'ReduceLROnPlateau', 'optimizer': 'Adam', 'label_smoothing': 0.1, 'lr': 1e-05, 'img_size': 224, 'momentum': None, 'gamma': None, 'step_size': None, 'patience': 7, 'dropout': None, 'config_name': 'cnn-roof_material-efficientnetb0-RGB_LCA', 'rasters_dir': '../data/rasters/', 'vectors_dir': '../data/vectors/', 'tile_dir': '../data/tiles/', 'csv_dir': '../data/csv/', 'out_dir': '../outputs/', 'exp_dir': '../exp/', 'log_dir': '../logs/'}\n"
     ]
    }
   ],
   "source": [
    "config_file = \"../configs/cnn/cnn-roof_material-efficientnetb0-RGB_LCA.yaml\"\n",
    "lca_c = config.load_config(config_file, prefix=prefix)\n",
    "print(f\"Config: {lca_c}\")\n",
    "lca_data, lca_data_loader, lca_classes = cnn_utils.load_dataset(lca_c, phases, prefix)"
   ]
  },
  {
   "cell_type": "code",
   "execution_count": 12,
   "id": "8545cdd0-26a5-478a-b4a5-790fe09b8ef7",
   "metadata": {
    "tags": []
   },
   "outputs": [
    {
     "name": "stderr",
     "output_type": "stream",
     "text": [
      "INFO:root:{'INCOMPLETE': 0, 'HEALTHY_METAL': 1, 'IRREGULAR_METAL': 2, 'CONCRETE_CEMENT': 3, 'BLUE_TARP': 4}\n"
     ]
    },
    {
     "name": "stdout",
     "output_type": "stream",
     "text": [
      "Config: {'attribute': 'roof_material', 'data': 'RGB_DOM_LCA', 'mode': 'RGB', 'batch_size': 32, 'n_workers': 4, 'n_epochs': 60, 'model': 'inceptionv3', 'pretrained': True, 'resampler': 'RandomOverSampler', 'scheduler': 'ReduceLROnPlateau', 'optimizer': 'Adam', 'label_smoothing': 0.1, 'lr': 1e-05, 'img_size': 299, 'momentum': None, 'gamma': None, 'step_size': None, 'patience': 7, 'dropout': None, 'config_name': 'cnn-roof_material-inceptionv3-RGB_DOM_LCA', 'rasters_dir': '../data/rasters/', 'vectors_dir': '../data/vectors/', 'tile_dir': '../data/tiles/', 'csv_dir': '../data/csv/', 'out_dir': '../outputs/', 'exp_dir': '../exp/', 'log_dir': '../logs/'}\n"
     ]
    }
   ],
   "source": [
    "config_file = \"../configs/cnn/cnn-roof_material-inceptionv3-RGB_DOM_LCA.yaml\"\n",
    "com_c = config.load_config(config_file, prefix=prefix)\n",
    "print(f\"Config: {com_c}\")\n",
    "com_data, com_data_loader, com_classes = cnn_utils.load_dataset(com_c, phases, prefix)"
   ]
  },
  {
   "cell_type": "markdown",
   "id": "d327337b-096d-4b6c-a036-5bf2d66a0b7f",
   "metadata": {},
   "source": [
    "## Load Models: Roof Material"
   ]
  },
  {
   "cell_type": "code",
   "execution_count": 37,
   "id": "0f854e42-3174-48cf-a6ac-0734c3dabda4",
   "metadata": {
    "tags": []
   },
   "outputs": [
    {
     "name": "stderr",
     "output_type": "stream",
     "text": [
      "INFO:root:{'model_type': 'efficientnetb0', 'n_classes': 4, 'mode': 'RGB', 'dropout': None, 'model_file': '../exp/cnn-roof_material-efficientnetb0-RGB_LCA\\\\cnn-roof_material-efficientnetb0-RGB_LCA.pth'}\n"
     ]
    },
    {
     "data": {
      "application/vnd.jupyter.widget-view+json": {
       "model_id": "8e6a46f18e8d4280b04e784ee9deab64",
       "version_major": 2,
       "version_minor": 0
      },
      "text/plain": [
       "model.safetensors:   0%|          | 0.00/16.3M [00:00<?, ?B/s]"
      ]
     },
     "metadata": {},
     "output_type": "display_data"
    },
    {
     "name": "stderr",
     "output_type": "stream",
     "text": [
      "INFO:root:Model file ../exp/cnn-roof_material-efficientnetb0-RGB_LCA\\cnn-roof_material-efficientnetb0-RGB_LCA.pth successfully loaded.\n",
      "INFO:root:{'model_type': 'resnet50', 'n_classes': 5, 'mode': 'RGB', 'dropout': 0.5, 'model_file': '../exp/cnn-roof_material-resnet50-RGB_DOM\\\\cnn-roof_material-resnet50-RGB_DOM.pth'}\n"
     ]
    },
    {
     "data": {
      "application/vnd.jupyter.widget-view+json": {
       "model_id": "6a75032544994d0ca067a2acc9eec969",
       "version_major": 2,
       "version_minor": 0
      },
      "text/plain": [
       "model.safetensors:   0%|          | 0.00/94.3M [00:00<?, ?B/s]"
      ]
     },
     "metadata": {},
     "output_type": "display_data"
    },
    {
     "name": "stderr",
     "output_type": "stream",
     "text": [
      "INFO:root:Model file ../exp/cnn-roof_material-resnet50-RGB_DOM\\cnn-roof_material-resnet50-RGB_DOM.pth successfully loaded.\n",
      "INFO:root:{'model_type': 'inceptionv3', 'n_classes': 5, 'mode': 'RGB', 'dropout': None, 'model_file': '../exp/cnn-roof_material-inceptionv3-RGB_DOM_LCA\\\\cnn-roof_material-inceptionv3-RGB_DOM_LCA.pth'}\n",
      "INFO:root:Model file ../exp/cnn-roof_material-inceptionv3-RGB_DOM_LCA\\cnn-roof_material-inceptionv3-RGB_DOM_LCA.pth successfully loaded.\n"
     ]
    }
   ],
   "source": [
    "lca_model = pred_utils.load_model(lca_c, lca_classes, push_to_hf=True)\n",
    "dom_model = pred_utils.load_model(dom_c, dom_classes, push_to_hf=True)\n",
    "com_model = pred_utils.load_model(com_c, com_classes)\n",
    "criterion = torch.nn.CrossEntropyLoss()"
   ]
  },
  {
   "cell_type": "code",
   "execution_count": 15,
   "id": "18323464-6010-4768-b21b-10dd860c3e50",
   "metadata": {
    "tags": []
   },
   "outputs": [
    {
     "name": "stderr",
     "output_type": "stream",
     "text": [
      "INFO:root:{'model_type': 'efficientnetb0', 'n_classes': 4, 'mode': 'RGB', 'dropout': None, 'model_file': '../exp/cnn-roof_material-efficientnetb0-RGB_LCA\\\\cnn-roof_material-efficientnetb0-RGB_LCA.pth'}\n"
     ]
    },
    {
     "name": "stdout",
     "output_type": "stream",
     "text": [
      "Loading weights from local directory\n"
     ]
    }
   ],
   "source": [
    "from cnn_utils import GFDRRModel\n",
    "model = GFDRRModel.from_pretrained(f\"issatingzon/{lca_c['config_name']}\")"
   ]
  },
  {
   "cell_type": "markdown",
   "id": "de06dfbf-c99c-40d0-a36a-e373da078586",
   "metadata": {},
   "source": [
    "## Generate Results: Roof Material"
   ]
  },
  {
   "cell_type": "code",
   "execution_count": 50,
   "id": "580cc167-b6e8-4c19-88c9-fe73358c43af",
   "metadata": {
    "tags": []
   },
   "outputs": [
    {
     "name": "stderr",
     "output_type": "stream",
     "text": [
      "100%|██████████████████████████████████████████████████████████████████████████████████| 56/56 [02:39<00:00,  2.85s/it]\n",
      "INFO:root:{'overall_accuracy': 87.77901785714286, 'balanced_accuracy': 87.16112127987732, 'f1_score_micro': 87.77901785714286, 'f1_score': 88.1732889593871, 'precision_score': 89.66324243659379, 'recall_score': 87.16112127987732, 'f1_per_class': array([88.96      , 88.27037773, 82.95454545, 92.35880399, 88.32271762]), 'precision_per_class': array([92.66666667, 83.77358491, 80.57395143, 94.55782313, 96.74418605]), 'recall_per_class': array([85.53846154, 93.27731092, 85.48009368, 90.25974026, 81.25      ])}\n"
     ]
    }
   ],
   "source": [
    "test_results, test_cm = cnn_utils.evaluate(\n",
    "    dom_data_loader[\"TEST\"], \n",
    "    dom_classes, \n",
    "    com_model, \n",
    "    criterion, \n",
    "    device=device,\n",
    "    logging=logging\n",
    ")"
   ]
  },
  {
   "cell_type": "code",
   "execution_count": 51,
   "id": "d27a6177-6aa4-4c00-827c-a0e99b524c7e",
   "metadata": {
    "tags": []
   },
   "outputs": [
    {
     "name": "stderr",
     "output_type": "stream",
     "text": [
      "100%|██████████████████████████████████████████████████████████████████████████████████| 31/31 [01:39<00:00,  3.19s/it]\n",
      "INFO:root:{'overall_accuracy': 93.54838709677419, 'balanced_accuracy': 88.5796428872457, 'f1_score_micro': 93.54838709677419, 'f1_score': 90.37059656950322, 'precision_score': 93.10433578972257, 'recall_score': 88.5796428872457, 'f1_per_class': array([82.14285714, 95.9933222 , 90.63097514, 92.71523179]), 'precision_per_class': array([95.83333333, 94.26229508, 92.578125  , 89.74358974]), 'recall_per_class': array([71.875     , 97.78911565, 88.76404494, 95.89041096])}\n"
     ]
    }
   ],
   "source": [
    "test_results, test_cm = cnn_utils.evaluate(\n",
    "    lca_data_loader[\"TEST\"], \n",
    "    lca_classes, \n",
    "    com_model, \n",
    "    criterion, \n",
    "    device=device,\n",
    "    logging=logging\n",
    ")"
   ]
  },
  {
   "cell_type": "code",
   "execution_count": 45,
   "id": "d3fe12f8-57f5-493d-bfef-5976d3306c63",
   "metadata": {
    "tags": []
   },
   "outputs": [
    {
     "name": "stderr",
     "output_type": "stream",
     "text": [
      "100%|██████████████████████████████████████████████████████████████████████████████████| 56/56 [01:52<00:00,  2.01s/it]\n",
      "INFO:root:{'overall_accuracy': 72.99107142857143, 'balanced_accuracy': 67.31608263730821, 'f1_score_micro': 72.99107142857143, 'f1_score': 64.1471309573423, 'precision_score': 63.138147235238584, 'recall_score': 67.31608263730821, 'f1_per_class': array([83.0449827 , 79.57371226, 69.03846154, 89.07849829,  0.        ]), 'precision_per_class': array([94.48818898, 69.13580247, 58.85245902, 93.21428571,  0.        ]), 'recall_per_class': array([74.07407407, 93.72384937, 83.48837209, 85.29411765,  0.        ])}\n"
     ]
    }
   ],
   "source": [
    "lca_model = pred_utils.load_model(lca_c, lca_classes)\n",
    "test_results, test_cm = cnn_utils.evaluate(\n",
    "    dom_data_loader[\"TEST\"], \n",
    "    dom_classes, \n",
    "    lca_model, \n",
    "    criterion, \n",
    "    device=device,\n",
    "    logging=logging\n",
    ")"
   ]
  },
  {
   "cell_type": "code",
   "execution_count": 29,
   "id": "a790a87a-94d0-44e6-827d-4444ad3e163b",
   "metadata": {
    "tags": []
   },
   "outputs": [
    {
     "name": "stderr",
     "output_type": "stream",
     "text": [
      "100%|██████████████████████████████████████████████████████████████████████████████████| 31/31 [01:56<00:00,  3.77s/it]\n",
      "C:\\Users\\Issa\\AppData\\Roaming\\Python\\Python310\\site-packages\\sklearn\\metrics\\_classification.py:2394: UserWarning: y_pred contains classes not in y_true\n",
      "  warnings.warn(\"y_pred contains classes not in y_true\")\n",
      "INFO:root:Val Loss: 9.074963600404802 {'overall_accuracy': 92.94354838709677, 'balanced_accuracy': 89.92859672747534, 'f1_score_micro': 92.94354838709677, 'f1_score': 90.83461005781342, 'precision_score': 73.62926547137074, 'recall_score': 89.92859672747534, 'f1_per_class': array([85.71428571,         nan, 95.57226399, 89.53488372, 92.5170068 ]), 'precision_per_class': array([91.07142857,  0.        , 94.07894737, 93.52226721, 89.47368421]), 'recall_per_class': array([80.95238095,         nan, 97.11375212, 85.87360595, 95.77464789]), 'loss': 9.074963600404802}\n"
     ]
    }
   ],
   "source": [
    "dom_model = pred_utils.load_model(dom_c, dom_classes)\n",
    "test_results, test_cm = cnn_utils.evaluate(\n",
    "    lca_data_loader[\"TEST\"], \n",
    "    lca_classes, \n",
    "    dom_model, \n",
    "    criterion, \n",
    "    device=device,\n",
    "    logging=logging\n",
    ")"
   ]
  }
 ],
 "metadata": {
  "kernelspec": {
   "display_name": "GFDRR",
   "language": "python",
   "name": "gfdrr"
  },
  "language_info": {
   "codemirror_mode": {
    "name": "ipython",
    "version": 3
   },
   "file_extension": ".py",
   "mimetype": "text/x-python",
   "name": "python",
   "nbconvert_exporter": "python",
   "pygments_lexer": "ipython3",
   "version": "3.10.10"
  }
 },
 "nbformat": 4,
 "nbformat_minor": 5
}
