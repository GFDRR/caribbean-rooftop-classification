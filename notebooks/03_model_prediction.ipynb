{
 "cells": [
  {
   "cell_type": "markdown",
   "id": "b4f80cd1-c02b-4e83-be53-b44042b4e76f",
   "metadata": {},
   "source": [
    "## Imports and Setup"
   ]
  },
  {
   "cell_type": "code",
   "execution_count": 1,
   "id": "21005e6c-9716-4ad6-bcb8-211a090f12eb",
   "metadata": {
    "tags": []
   },
   "outputs": [],
   "source": [
    "import os\n",
    "import sys\n",
    "import joblib\n",
    "import subprocess\n",
    "\n",
    "import pandas as pd\n",
    "import numpy as np\n",
    "import geopandas as gpd\n",
    "from tqdm.notebook import tqdm\n",
    "\n",
    "sys.path.insert(0, \"../utils/\")\n",
    "import pred_utils\n",
    "import config\n",
    "import geoutils\n",
    "import eval_utils\n",
    "import fusion_utils\n",
    "\n",
    "import logging\n",
    "logging.basicConfig(level=logging.INFO)\n",
    "pd.set_option('mode.chained_assignment', None)\n",
    "\n",
    "%load_ext autoreload\n",
    "%autoreload 2"
   ]
  },
  {
   "cell_type": "markdown",
   "id": "101b4cdd-4ac8-4764-ab45-8765578194ba",
   "metadata": {},
   "source": [
    "## Load Dataset"
   ]
  },
  {
   "cell_type": "code",
   "execution_count": 2,
   "id": "7273e0aa-9051-4838-9894-684e637a0019",
   "metadata": {},
   "outputs": [
    {
     "name": "stderr",
     "output_type": "stream",
     "text": [
      "INFO:root:Dimensions: (522, 5)\n",
      "INFO:root:Dimensions (non-null): (373, 5)\n",
      "INFO:root:roof_material\n",
      "HEALTHY_METAL      187\n",
      "IRREGULAR_METAL    130\n",
      "CONCRETE_CEMENT     46\n",
      "INCOMPLETE          10\n",
      "Name: count, dtype: int64\n",
      "INFO:root:roof_type\n",
      "GABLE      247\n",
      "FLAT        72\n",
      "HIP         44\n",
      "NO_ROOF     10\n",
      "Name: count, dtype: int64\n"
     ]
    },
    {
     "data": {
      "text/html": [
       "<div>\n",
       "<style scoped>\n",
       "    .dataframe tbody tr th:only-of-type {\n",
       "        vertical-align: middle;\n",
       "    }\n",
       "\n",
       "    .dataframe tbody tr th {\n",
       "        vertical-align: top;\n",
       "    }\n",
       "\n",
       "    .dataframe thead th {\n",
       "        text-align: right;\n",
       "    }\n",
       "</style>\n",
       "<table border=\"1\" class=\"dataframe\">\n",
       "  <thead>\n",
       "    <tr style=\"text-align: right;\">\n",
       "      <th></th>\n",
       "      <th>UID</th>\n",
       "      <th>roof_type</th>\n",
       "      <th>roof_material</th>\n",
       "      <th>roof_condition</th>\n",
       "      <th>geometry</th>\n",
       "    </tr>\n",
       "  </thead>\n",
       "  <tbody>\n",
       "    <tr>\n",
       "      <th>0</th>\n",
       "      <td>34856</td>\n",
       "      <td>NaN</td>\n",
       "      <td>NaN</td>\n",
       "      <td>NaN</td>\n",
       "      <td>POLYGON Z ((664865.095 1712450.406 3.039, 6648...</td>\n",
       "    </tr>\n",
       "    <tr>\n",
       "      <th>1</th>\n",
       "      <td>34869</td>\n",
       "      <td>NaN</td>\n",
       "      <td>NaN</td>\n",
       "      <td>NaN</td>\n",
       "      <td>POLYGON Z ((664898.239 1712467.912 4.035, 6648...</td>\n",
       "    </tr>\n",
       "    <tr>\n",
       "      <th>2</th>\n",
       "      <td>34871</td>\n",
       "      <td>NaN</td>\n",
       "      <td>NaN</td>\n",
       "      <td>NaN</td>\n",
       "      <td>POLYGON Z ((664921.622 1712474.439 5.993, 6649...</td>\n",
       "    </tr>\n",
       "  </tbody>\n",
       "</table>\n",
       "</div>"
      ],
      "text/plain": [
       "     UID roof_type roof_material  roof_condition   \n",
       "0  34856       NaN           NaN             NaN  \\\n",
       "1  34869       NaN           NaN             NaN   \n",
       "2  34871       NaN           NaN             NaN   \n",
       "\n",
       "                                            geometry  \n",
       "0  POLYGON Z ((664865.095 1712450.406 3.039, 6648...  \n",
       "1  POLYGON Z ((664898.239 1712467.912 4.035, 6648...  \n",
       "2  POLYGON Z ((664921.622 1712474.439 5.993, 6649...  "
      ]
     },
     "execution_count": 2,
     "metadata": {},
     "output_type": "execute_result"
    }
   ],
   "source": [
    "config_file = '../configs/datagen/datagen_COLIHAUT.yaml'\n",
    "c = config.create_config(config_file, prefix='.')\n",
    "bldgs = geoutils.get_annotated_bldgs(c)\n",
    "#bldgs = bldgs[bldgs.shape_name == 'Saint Peter']\n",
    "bldgs.head(3)"
   ]
  },
  {
   "cell_type": "markdown",
   "id": "ebac135f-bb1c-4527-85a5-cac442ea90e6",
   "metadata": {},
   "source": [
    "## Generate Post-disaster Predictions"
   ]
  },
  {
   "cell_type": "code",
   "execution_count": 8,
   "id": "4c21818e-c742-4986-ab6d-be28d76fc5b0",
   "metadata": {
    "tags": []
   },
   "outputs": [
    {
     "name": "stderr",
     "output_type": "stream",
     "text": [
      "INFO:root:Config: {'rasters_dir': '../data/rasters/', 'csv_dir': '../data/csv/', 'exp_dir': '../exp/', 'version': 'version_02', 'attribute': 'roof_material', 'exp_name': 'exp_11', 'mode': 'RGB', 'batch_size': 32, 'n_workers': 4, 'n_epochs': 30, 'model': 'resnet50', 'resampler': 'RandomOverSampler', 'pretrained': True, 'scheduler': 'ReduceLROnPlateau', 'optimizer': 'Adam', 'label_smoothing': 0.1, 'lr': 1e-05, 'img_size': 224, 'patience': 7, 'dropout': 0.5, 'momentum': None, 'gamma': None, 'step_size': None}\n",
      "INFO:root:Model file ../exp/version_02\\exp_11\\best_model.pth successfully loaded.\n",
      "100%|███████████████| 522/522 [04:47<00:00,  1.82it/s]                                                                 \n"
     ]
    },
    {
     "data": {
      "text/html": [
       "<div>\n",
       "<style scoped>\n",
       "    .dataframe tbody tr th:only-of-type {\n",
       "        vertical-align: middle;\n",
       "    }\n",
       "\n",
       "    .dataframe tbody tr th {\n",
       "        vertical-align: top;\n",
       "    }\n",
       "\n",
       "    .dataframe thead th {\n",
       "        text-align: right;\n",
       "    }\n",
       "</style>\n",
       "<table border=\"1\" class=\"dataframe\">\n",
       "  <thead>\n",
       "    <tr style=\"text-align: right;\">\n",
       "      <th></th>\n",
       "      <th>UID</th>\n",
       "      <th>roof_type</th>\n",
       "      <th>roof_material</th>\n",
       "      <th>roof_condition</th>\n",
       "      <th>geometry</th>\n",
       "      <th>BLUE_TARP_PROB</th>\n",
       "      <th>CONCRETE_CEMENT_PROB</th>\n",
       "      <th>HEALTHY_METAL_PROB</th>\n",
       "      <th>INCOMPLETE_PROB</th>\n",
       "      <th>IRREGULAR_METAL_PROB</th>\n",
       "    </tr>\n",
       "  </thead>\n",
       "  <tbody>\n",
       "    <tr>\n",
       "      <th>0</th>\n",
       "      <td>34856</td>\n",
       "      <td>NaN</td>\n",
       "      <td>CONCRETE_CEMENT</td>\n",
       "      <td>NaN</td>\n",
       "      <td>POLYGON Z ((664865.095 1712450.406 3.039, 6648...</td>\n",
       "      <td>0.018568</td>\n",
       "      <td>0.934198</td>\n",
       "      <td>0.014461</td>\n",
       "      <td>0.012563</td>\n",
       "      <td>0.020210</td>\n",
       "    </tr>\n",
       "    <tr>\n",
       "      <th>1</th>\n",
       "      <td>34869</td>\n",
       "      <td>NaN</td>\n",
       "      <td>HEALTHY_METAL</td>\n",
       "      <td>NaN</td>\n",
       "      <td>POLYGON Z ((664898.239 1712467.912 4.035, 6648...</td>\n",
       "      <td>0.022339</td>\n",
       "      <td>0.029571</td>\n",
       "      <td>0.907237</td>\n",
       "      <td>0.014723</td>\n",
       "      <td>0.026130</td>\n",
       "    </tr>\n",
       "    <tr>\n",
       "      <th>2</th>\n",
       "      <td>34871</td>\n",
       "      <td>NaN</td>\n",
       "      <td>CONCRETE_CEMENT</td>\n",
       "      <td>NaN</td>\n",
       "      <td>POLYGON Z ((664921.622 1712474.439 5.993, 6649...</td>\n",
       "      <td>0.014157</td>\n",
       "      <td>0.918398</td>\n",
       "      <td>0.015416</td>\n",
       "      <td>0.036072</td>\n",
       "      <td>0.015957</td>\n",
       "    </tr>\n",
       "  </tbody>\n",
       "</table>\n",
       "</div>"
      ],
      "text/plain": [
       "     UID roof_type    roof_material  roof_condition   \n",
       "0  34856       NaN  CONCRETE_CEMENT             NaN  \\\n",
       "1  34869       NaN    HEALTHY_METAL             NaN   \n",
       "2  34871       NaN  CONCRETE_CEMENT             NaN   \n",
       "\n",
       "                                            geometry  BLUE_TARP_PROB   \n",
       "0  POLYGON Z ((664865.095 1712450.406 3.039, 6648...        0.018568  \\\n",
       "1  POLYGON Z ((664898.239 1712467.912 4.035, 6648...        0.022339   \n",
       "2  POLYGON Z ((664921.622 1712474.439 5.993, 6649...        0.014157   \n",
       "\n",
       "   CONCRETE_CEMENT_PROB  HEALTHY_METAL_PROB  INCOMPLETE_PROB   \n",
       "0              0.934198            0.014461         0.012563  \\\n",
       "1              0.029571            0.907237         0.014723   \n",
       "2              0.918398            0.015416         0.036072   \n",
       "\n",
       "   IRREGULAR_METAL_PROB  \n",
       "0              0.020210  \n",
       "1              0.026130  \n",
       "2              0.015957  "
      ]
     },
     "execution_count": 8,
     "metadata": {},
     "output_type": "execute_result"
    }
   ],
   "source": [
    "in_file = '../data/rasters/ortho/ortho_DOM.tif'\n",
    "exp_config = '../configs/cnn/cnn_11.yaml'\n",
    "bldgs = pred_utils.predict(bldgs, in_file, exp_config, prefix='.')\n",
    "bldgs.head(3)"
   ]
  },
  {
   "cell_type": "code",
   "execution_count": 10,
   "id": "eea61d71-e42c-44dc-ab17-4ee120643cf9",
   "metadata": {
    "tags": []
   },
   "outputs": [
    {
     "name": "stderr",
     "output_type": "stream",
     "text": [
      "INFO:root:Config: {'data_dir': '../data/rasters/tiles/', 'csv_dir': '../data/csv/', 'exp_dir': '../exp/', 'version': 'version_01', 'attribute': 'roof_type', 'mode': 'LIDAR', 'exp_name': 'exp_05', 'batch_size': 32, 'n_workers': 4, 'n_epochs': 30, 'model': 'resnet50', 'pretrained': True, 'scheduler': 'ReduceLROnPlateau', 'optimizer': 'Adam', 'label_smoothing': 0.1, 'lr': 1e-05, 'img_size': 224, 'momentum': None, 'gamma': None, 'step_size': None, 'patience': 7, 'dropout': 0.5}\n",
      "INFO:root:Model file ../exp/version_01\\exp_05\\best_model.pth successfully loaded.\n",
      "100%|███████████████| 522/522 [04:45<00:00,  1.83it/s]                                                                 \n"
     ]
    },
    {
     "data": {
      "text/html": [
       "<div>\n",
       "<style scoped>\n",
       "    .dataframe tbody tr th:only-of-type {\n",
       "        vertical-align: middle;\n",
       "    }\n",
       "\n",
       "    .dataframe tbody tr th {\n",
       "        vertical-align: top;\n",
       "    }\n",
       "\n",
       "    .dataframe thead th {\n",
       "        text-align: right;\n",
       "    }\n",
       "</style>\n",
       "<table border=\"1\" class=\"dataframe\">\n",
       "  <thead>\n",
       "    <tr style=\"text-align: right;\">\n",
       "      <th></th>\n",
       "      <th>UID</th>\n",
       "      <th>roof_type</th>\n",
       "      <th>roof_material</th>\n",
       "      <th>roof_condition</th>\n",
       "      <th>geometry</th>\n",
       "      <th>BLUE_TARP_PROB</th>\n",
       "      <th>CONCRETE_CEMENT_PROB</th>\n",
       "      <th>HEALTHY_METAL_PROB</th>\n",
       "      <th>INCOMPLETE_PROB</th>\n",
       "      <th>IRREGULAR_METAL_PROB</th>\n",
       "      <th>FLAT_PROB</th>\n",
       "      <th>GABLE_PROB</th>\n",
       "      <th>HIP_PROB</th>\n",
       "      <th>NO_ROOF_PROB</th>\n",
       "    </tr>\n",
       "  </thead>\n",
       "  <tbody>\n",
       "    <tr>\n",
       "      <th>0</th>\n",
       "      <td>34856</td>\n",
       "      <td>FLAT</td>\n",
       "      <td>CONCRETE_CEMENT</td>\n",
       "      <td>NaN</td>\n",
       "      <td>POLYGON Z ((664865.095 1712450.406 3.039, 6648...</td>\n",
       "      <td>0.018568</td>\n",
       "      <td>0.934198</td>\n",
       "      <td>0.014461</td>\n",
       "      <td>0.012563</td>\n",
       "      <td>0.020210</td>\n",
       "      <td>0.997483</td>\n",
       "      <td>0.001140</td>\n",
       "      <td>0.000552</td>\n",
       "      <td>0.000825</td>\n",
       "    </tr>\n",
       "    <tr>\n",
       "      <th>1</th>\n",
       "      <td>34869</td>\n",
       "      <td>GABLE</td>\n",
       "      <td>HEALTHY_METAL</td>\n",
       "      <td>NaN</td>\n",
       "      <td>POLYGON Z ((664898.239 1712467.912 4.035, 6648...</td>\n",
       "      <td>0.022339</td>\n",
       "      <td>0.029571</td>\n",
       "      <td>0.907237</td>\n",
       "      <td>0.014723</td>\n",
       "      <td>0.026130</td>\n",
       "      <td>0.001214</td>\n",
       "      <td>0.996188</td>\n",
       "      <td>0.002186</td>\n",
       "      <td>0.000412</td>\n",
       "    </tr>\n",
       "    <tr>\n",
       "      <th>2</th>\n",
       "      <td>34871</td>\n",
       "      <td>NO_ROOF</td>\n",
       "      <td>CONCRETE_CEMENT</td>\n",
       "      <td>NaN</td>\n",
       "      <td>POLYGON Z ((664921.622 1712474.439 5.993, 6649...</td>\n",
       "      <td>0.014157</td>\n",
       "      <td>0.918398</td>\n",
       "      <td>0.015416</td>\n",
       "      <td>0.036072</td>\n",
       "      <td>0.015957</td>\n",
       "      <td>0.059678</td>\n",
       "      <td>0.014156</td>\n",
       "      <td>0.008419</td>\n",
       "      <td>0.917748</td>\n",
       "    </tr>\n",
       "  </tbody>\n",
       "</table>\n",
       "</div>"
      ],
      "text/plain": [
       "     UID roof_type    roof_material  roof_condition   \n",
       "0  34856      FLAT  CONCRETE_CEMENT             NaN  \\\n",
       "1  34869     GABLE    HEALTHY_METAL             NaN   \n",
       "2  34871   NO_ROOF  CONCRETE_CEMENT             NaN   \n",
       "\n",
       "                                            geometry  BLUE_TARP_PROB   \n",
       "0  POLYGON Z ((664865.095 1712450.406 3.039, 6648...        0.018568  \\\n",
       "1  POLYGON Z ((664898.239 1712467.912 4.035, 6648...        0.022339   \n",
       "2  POLYGON Z ((664921.622 1712474.439 5.993, 6649...        0.014157   \n",
       "\n",
       "   CONCRETE_CEMENT_PROB  HEALTHY_METAL_PROB  INCOMPLETE_PROB   \n",
       "0              0.934198            0.014461         0.012563  \\\n",
       "1              0.029571            0.907237         0.014723   \n",
       "2              0.918398            0.015416         0.036072   \n",
       "\n",
       "   IRREGULAR_METAL_PROB  FLAT_PROB  GABLE_PROB  HIP_PROB  NO_ROOF_PROB  \n",
       "0              0.020210   0.997483    0.001140  0.000552      0.000825  \n",
       "1              0.026130   0.001214    0.996188  0.002186      0.000412  \n",
       "2              0.015957   0.059678    0.014156  0.008419      0.917748  "
      ]
     },
     "execution_count": 10,
     "metadata": {},
     "output_type": "execute_result"
    }
   ],
   "source": [
    "in_file = '../data/rasters/lidar/ndsm_DOM.tif'\n",
    "exp_config = '../configs/cnn/cnn_05.yaml'\n",
    "bldgs = pred_utils.predict(bldgs, in_file, exp_config, prefix='.')\n",
    "bldgs.head(3)"
   ]
  },
  {
   "cell_type": "code",
   "execution_count": 4,
   "id": "6c231200-d1ad-48eb-94d5-fd51c2cb368f",
   "metadata": {
    "tags": []
   },
   "outputs": [],
   "source": [
    "out_path = f\"../output/{c['version']}\"\n",
    "if not os.path.isdir(out_path):\n",
    "    os.makedirs(out_path)\n",
    "out_file = os.path.join(out_path, f'Colihaut_rgb_20230626.gpkg')\n",
    "bldgs.to_file(out_file, driver='GPKG')"
   ]
  },
  {
   "cell_type": "markdown",
   "id": "e4deb8ff-02b6-4075-8ef4-3a56a62f9502",
   "metadata": {},
   "source": [
    "## Generate Pre-disaster Predictions"
   ]
  },
  {
   "cell_type": "code",
   "execution_count": 5,
   "id": "8deca654-48af-4d21-9953-2409c21a5a64",
   "metadata": {
    "tags": []
   },
   "outputs": [
    {
     "name": "stdout",
     "output_type": "stream",
     "text": [
      "Config: {'rasters_dir': '../data/rasters/', 'csv_dir': '../data/csv/', 'exp_dir': '../exp/', 'version': 'version_02', 'attribute': 'roof_material', 'exp_name': 'exp_11', 'mode': 'RGB', 'batch_size': 32, 'n_workers': 4, 'n_epochs': 30, 'model': 'resnet50', 'resampler': 'RandomOverSampler', 'pretrained': True, 'scheduler': 'ReduceLROnPlateau', 'optimizer': 'Adam', 'label_smoothing': 0.1, 'lr': 1e-05, 'img_size': 224, 'patience': 7, 'dropout': 0.5, 'momentum': None, 'gamma': None, 'step_size': None}\n"
     ]
    },
    {
     "name": "stderr",
     "output_type": "stream",
     "text": [
      "INFO:root:Model file ../exp/version_02\\exp_11\\best_model.pth successfully loaded.\n",
      "100%|███████████████| 522/522 [06:40<00:00,  1.30it/s]                                                                 \n"
     ]
    },
    {
     "data": {
      "text/html": [
       "<div>\n",
       "<style scoped>\n",
       "    .dataframe tbody tr th:only-of-type {\n",
       "        vertical-align: middle;\n",
       "    }\n",
       "\n",
       "    .dataframe tbody tr th {\n",
       "        vertical-align: top;\n",
       "    }\n",
       "\n",
       "    .dataframe thead th {\n",
       "        text-align: right;\n",
       "    }\n",
       "</style>\n",
       "<table border=\"1\" class=\"dataframe\">\n",
       "  <thead>\n",
       "    <tr style=\"text-align: right;\">\n",
       "      <th></th>\n",
       "      <th>UID</th>\n",
       "      <th>roof_type</th>\n",
       "      <th>roof_material</th>\n",
       "      <th>roof_condition</th>\n",
       "      <th>geometry</th>\n",
       "      <th>BLUE_TARP_PROB</th>\n",
       "      <th>CONCRETE_CEMENT_PROB</th>\n",
       "      <th>HEALTHY_METAL_PROB</th>\n",
       "      <th>INCOMPLETE_PROB</th>\n",
       "      <th>IRREGULAR_METAL_PROB</th>\n",
       "      <th>BLUE_TARP_PROB</th>\n",
       "      <th>CONCRETE_CEMENT_PROB</th>\n",
       "      <th>HEALTHY_METAL_PROB</th>\n",
       "      <th>INCOMPLETE_PROB</th>\n",
       "      <th>IRREGULAR_METAL_PROB</th>\n",
       "    </tr>\n",
       "  </thead>\n",
       "  <tbody>\n",
       "    <tr>\n",
       "      <th>0</th>\n",
       "      <td>34856</td>\n",
       "      <td>NaN</td>\n",
       "      <td>CONCRETE_CEMENT</td>\n",
       "      <td>NaN</td>\n",
       "      <td>POLYGON Z ((664865.095 1712450.406 3.039, 6648...</td>\n",
       "      <td>0.018568</td>\n",
       "      <td>0.934198</td>\n",
       "      <td>0.014461</td>\n",
       "      <td>0.012563</td>\n",
       "      <td>0.020210</td>\n",
       "      <td>0.018733</td>\n",
       "      <td>0.850857</td>\n",
       "      <td>0.108882</td>\n",
       "      <td>0.010298</td>\n",
       "      <td>0.011230</td>\n",
       "    </tr>\n",
       "    <tr>\n",
       "      <th>1</th>\n",
       "      <td>34869</td>\n",
       "      <td>NaN</td>\n",
       "      <td>HEALTHY_METAL</td>\n",
       "      <td>NaN</td>\n",
       "      <td>POLYGON Z ((664898.239 1712467.912 4.035, 6648...</td>\n",
       "      <td>0.022339</td>\n",
       "      <td>0.029571</td>\n",
       "      <td>0.907237</td>\n",
       "      <td>0.014723</td>\n",
       "      <td>0.026130</td>\n",
       "      <td>0.033398</td>\n",
       "      <td>0.036099</td>\n",
       "      <td>0.877389</td>\n",
       "      <td>0.018740</td>\n",
       "      <td>0.034373</td>\n",
       "    </tr>\n",
       "    <tr>\n",
       "      <th>2</th>\n",
       "      <td>34871</td>\n",
       "      <td>NaN</td>\n",
       "      <td>INCOMPLETE</td>\n",
       "      <td>NaN</td>\n",
       "      <td>POLYGON Z ((664921.622 1712474.439 5.993, 6649...</td>\n",
       "      <td>0.014157</td>\n",
       "      <td>0.918398</td>\n",
       "      <td>0.015416</td>\n",
       "      <td>0.036072</td>\n",
       "      <td>0.015957</td>\n",
       "      <td>0.072086</td>\n",
       "      <td>0.016228</td>\n",
       "      <td>0.053231</td>\n",
       "      <td>0.551563</td>\n",
       "      <td>0.306892</td>\n",
       "    </tr>\n",
       "  </tbody>\n",
       "</table>\n",
       "</div>"
      ],
      "text/plain": [
       "     UID roof_type    roof_material  roof_condition   \n",
       "0  34856       NaN  CONCRETE_CEMENT             NaN  \\\n",
       "1  34869       NaN    HEALTHY_METAL             NaN   \n",
       "2  34871       NaN       INCOMPLETE             NaN   \n",
       "\n",
       "                                            geometry  BLUE_TARP_PROB   \n",
       "0  POLYGON Z ((664865.095 1712450.406 3.039, 6648...        0.018568  \\\n",
       "1  POLYGON Z ((664898.239 1712467.912 4.035, 6648...        0.022339   \n",
       "2  POLYGON Z ((664921.622 1712474.439 5.993, 6649...        0.014157   \n",
       "\n",
       "   CONCRETE_CEMENT_PROB  HEALTHY_METAL_PROB  INCOMPLETE_PROB   \n",
       "0              0.934198            0.014461         0.012563  \\\n",
       "1              0.029571            0.907237         0.014723   \n",
       "2              0.918398            0.015416         0.036072   \n",
       "\n",
       "   IRREGULAR_METAL_PROB  BLUE_TARP_PROB  CONCRETE_CEMENT_PROB   \n",
       "0              0.020210        0.018733              0.850857  \\\n",
       "1              0.026130        0.033398              0.036099   \n",
       "2              0.015957        0.072086              0.016228   \n",
       "\n",
       "   HEALTHY_METAL_PROB  INCOMPLETE_PROB  IRREGULAR_METAL_PROB  \n",
       "0            0.108882         0.010298              0.011230  \n",
       "1            0.877389         0.018740              0.034373  \n",
       "2            0.053231         0.551563              0.306892  "
      ]
     },
     "execution_count": 5,
     "metadata": {},
     "output_type": "execute_result"
    }
   ],
   "source": [
    "in_file = '../data/rasters/drone/drone_colihaut_DOM.tif'\n",
    "exp_config = '../configs/cnn/cnn_11.yaml'\n",
    "bldgs = pred_utils.predict(bldgs, in_file, exp_config, prefix='.')\n",
    "bldgs.head(3)"
   ]
  },
  {
   "cell_type": "code",
   "execution_count": 4,
   "id": "7b09e03c-96fc-4ed5-a972-9c2c4f77b6d5",
   "metadata": {
    "tags": []
   },
   "outputs": [
    {
     "name": "stdout",
     "output_type": "stream",
     "text": [
      "Config: {'data_dir': './data/rasters/Tiles/ortho/', 'csv_dir': './data/csv/', 'attribute': 'roof_type', 'exp_name': 'exp-04', 'mode': 'RGB', 'batch_size': 32, 'n_workers': 4, 'n_epochs': 30, 'model': 'inceptionv3', 'pretrained': True, 'scheduler': 'ReduceLROnPlateau', 'optimizer': 'Adam', 'lr': 1e-05, 'img_size': 299, 'momentum': None, 'gamma': None, 'step_size': None, 'patience': 7, 'dropout': None}\n",
      "Model file ../exp/exp-04/best_model.pth successfully loaded.\n"
     ]
    },
    {
     "name": "stderr",
     "output_type": "stream",
     "text": [
      "100%|███████████████| 373/373 [06:07<00:00,  1.01it/s]                                                                 \n"
     ]
    },
    {
     "data": {
      "text/html": [
       "<div>\n",
       "<style scoped>\n",
       "    .dataframe tbody tr th:only-of-type {\n",
       "        vertical-align: middle;\n",
       "    }\n",
       "\n",
       "    .dataframe tbody tr th {\n",
       "        vertical-align: top;\n",
       "    }\n",
       "\n",
       "    .dataframe thead th {\n",
       "        text-align: right;\n",
       "    }\n",
       "</style>\n",
       "<table border=\"1\" class=\"dataframe\">\n",
       "  <thead>\n",
       "    <tr style=\"text-align: right;\">\n",
       "      <th></th>\n",
       "      <th>UID</th>\n",
       "      <th>roof_type</th>\n",
       "      <th>roof_material</th>\n",
       "      <th>geometry</th>\n",
       "    </tr>\n",
       "  </thead>\n",
       "  <tbody>\n",
       "    <tr>\n",
       "      <th>4</th>\n",
       "      <td>34876</td>\n",
       "      <td>NO_ROOF</td>\n",
       "      <td>CONCRETE_CEMENT</td>\n",
       "      <td>POLYGON Z ((665060.888 1712479.780 35.786, 665...</td>\n",
       "    </tr>\n",
       "    <tr>\n",
       "      <th>5</th>\n",
       "      <td>34887</td>\n",
       "      <td>GABLE</td>\n",
       "      <td>HEALTHY_METAL</td>\n",
       "      <td>POLYGON Z ((665078.259 1712486.585 32.366, 665...</td>\n",
       "    </tr>\n",
       "    <tr>\n",
       "      <th>6</th>\n",
       "      <td>34890</td>\n",
       "      <td>GABLE</td>\n",
       "      <td>HEALTHY_METAL</td>\n",
       "      <td>POLYGON Z ((665070.715 1712492.135 27.175, 665...</td>\n",
       "    </tr>\n",
       "  </tbody>\n",
       "</table>\n",
       "</div>"
      ],
      "text/plain": [
       "     UID roof_type    roof_material   \n",
       "4  34876   NO_ROOF  CONCRETE_CEMENT  \\\n",
       "5  34887     GABLE    HEALTHY_METAL   \n",
       "6  34890     GABLE    HEALTHY_METAL   \n",
       "\n",
       "                                            geometry  \n",
       "4  POLYGON Z ((665060.888 1712479.780 35.786, 665...  \n",
       "5  POLYGON Z ((665078.259 1712486.585 32.366, 665...  \n",
       "6  POLYGON Z ((665070.715 1712492.135 27.175, 665...  "
      ]
     },
     "execution_count": 4,
     "metadata": {},
     "output_type": "execute_result"
    }
   ],
   "source": [
    "in_file = '../data/rasters/Drone/drone_colihaut_DOM.tif'\n",
    "exp_config = '../configs/config_04.yaml'\n",
    "bldgs = pred_utils.predict(bldgs, in_file, exp_config, prefix='.')\n",
    "bldgs.head(3)"
   ]
  },
  {
   "cell_type": "code",
   "execution_count": 13,
   "id": "cbf20b01-6bd6-46ed-aa2a-6d209984a961",
   "metadata": {
    "tags": []
   },
   "outputs": [
    {
     "name": "stdout",
     "output_type": "stream",
     "text": [
      "Config: {'data_dir': './data/rasters/Tiles/ndsm/', 'csv_dir': './data/csv/', 'attribute': 'roof_type', 'mode': 'GRAYSCALE', 'exp_name': 'exp-05', 'batch_size': 32, 'n_workers': 4, 'n_epochs': 30, 'model': 'resnet50', 'pretrained': True, 'scheduler': 'ReduceLROnPlateau', 'optimizer': 'Adam', 'lr': 1e-05, 'img_size': 224, 'momentum': None, 'gamma': None, 'step_size': None, 'patience': 7, 'dropout': 0.5}\n",
      "Model file ../exp/exp-05/best_model.pth successfully loaded.\n"
     ]
    },
    {
     "name": "stderr",
     "output_type": "stream",
     "text": [
      "100%|███████████████| 1272/1272 [11:39<00:00,  1.82it/s]                                                               \n"
     ]
    },
    {
     "data": {
      "text/html": [
       "<div>\n",
       "<style scoped>\n",
       "    .dataframe tbody tr th:only-of-type {\n",
       "        vertical-align: middle;\n",
       "    }\n",
       "\n",
       "    .dataframe tbody tr th {\n",
       "        vertical-align: top;\n",
       "    }\n",
       "\n",
       "    .dataframe thead th {\n",
       "        text-align: right;\n",
       "    }\n",
       "</style>\n",
       "<table border=\"1\" class=\"dataframe\">\n",
       "  <thead>\n",
       "    <tr style=\"text-align: right;\">\n",
       "      <th></th>\n",
       "      <th>UID</th>\n",
       "      <th>Elevation</th>\n",
       "      <th>Layer</th>\n",
       "      <th>roof_type</th>\n",
       "      <th>roof_material</th>\n",
       "      <th>roof_condition</th>\n",
       "      <th>shape_name</th>\n",
       "      <th>geometry</th>\n",
       "    </tr>\n",
       "  </thead>\n",
       "  <tbody>\n",
       "    <tr>\n",
       "      <th>34411</th>\n",
       "      <td>34413</td>\n",
       "      <td>17.535746</td>\n",
       "      <td>BLD_GEN_OUTLINE</td>\n",
       "      <td>HIP</td>\n",
       "      <td>CONCRETE_CEMENT</td>\n",
       "      <td>NaN</td>\n",
       "      <td>Saint Peter</td>\n",
       "      <td>MULTIPOLYGON Z (((665583.468 1710787.345 14.89...</td>\n",
       "    </tr>\n",
       "    <tr>\n",
       "      <th>34476</th>\n",
       "      <td>34478</td>\n",
       "      <td>5.934477</td>\n",
       "      <td>BLD_GEN_OUTLINE</td>\n",
       "      <td>GABLE</td>\n",
       "      <td>CONCRETE_CEMENT</td>\n",
       "      <td>NaN</td>\n",
       "      <td>Saint Peter</td>\n",
       "      <td>MULTIPOLYGON Z (((665565.273 1710859.963 5.669...</td>\n",
       "    </tr>\n",
       "    <tr>\n",
       "      <th>34487</th>\n",
       "      <td>34489</td>\n",
       "      <td>6.699960</td>\n",
       "      <td>BLD_RESIDENTIAL_TRAILER</td>\n",
       "      <td>FLAT</td>\n",
       "      <td>CONCRETE_CEMENT</td>\n",
       "      <td>NaN</td>\n",
       "      <td>Saint Peter</td>\n",
       "      <td>MULTIPOLYGON Z (((665534.946 1710892.122 6.222...</td>\n",
       "    </tr>\n",
       "  </tbody>\n",
       "</table>\n",
       "</div>"
      ],
      "text/plain": [
       "         UID  Elevation                    Layer roof_type    roof_material   \n",
       "34411  34413  17.535746          BLD_GEN_OUTLINE       HIP  CONCRETE_CEMENT  \\\n",
       "34476  34478   5.934477          BLD_GEN_OUTLINE     GABLE  CONCRETE_CEMENT   \n",
       "34487  34489   6.699960  BLD_RESIDENTIAL_TRAILER      FLAT  CONCRETE_CEMENT   \n",
       "\n",
       "       roof_condition   shape_name   \n",
       "34411             NaN  Saint Peter  \\\n",
       "34476             NaN  Saint Peter   \n",
       "34487             NaN  Saint Peter   \n",
       "\n",
       "                                                geometry  \n",
       "34411  MULTIPOLYGON Z (((665583.468 1710787.345 14.89...  \n",
       "34476  MULTIPOLYGON Z (((665565.273 1710859.963 5.669...  \n",
       "34487  MULTIPOLYGON Z (((665534.946 1710892.122 6.222...  "
      ]
     },
     "execution_count": 13,
     "metadata": {},
     "output_type": "execute_result"
    }
   ],
   "source": [
    "in_file = '../data/rasters/DSM/ndsm_DOM.tif'\n",
    "exp_config = '../configs/config_05.yaml'\n",
    "bldgs = pred_utils.predict(bldgs, in_file, exp_config, prefix='.')\n",
    "bldgs.head(3)"
   ]
  },
  {
   "cell_type": "code",
   "execution_count": 6,
   "id": "cd4209ad-70c1-46a4-84e9-f92488ec2d5e",
   "metadata": {
    "tags": []
   },
   "outputs": [],
   "source": [
    "name = 'Colihaut'\n",
    "out_path = '../output/'\n",
    "if not os.path.isdir(out_path):\n",
    "    os.makedirs(out_path)\n",
    "out_file = os.path.join(out_path, f'{name}-drone-20230616.gpkg')\n",
    "bldgs.to_file(out_file, driver='GPKG')"
   ]
  },
  {
   "cell_type": "markdown",
   "id": "cb2d412b-e299-44a1-963b-5b49910a585d",
   "metadata": {},
   "source": [
    "## Model Evaluation"
   ]
  },
  {
   "cell_type": "code",
   "execution_count": 19,
   "id": "695fc091-3e21-4c89-aa4f-03d591150297",
   "metadata": {
    "tags": []
   },
   "outputs": [
    {
     "name": "stdout",
     "output_type": "stream",
     "text": [
      "Data dimensions: (373, 4)\n",
      "roof_type\n",
      "GABLE      247\n",
      "FLAT        72\n",
      "HIP         44\n",
      "NO_ROOF     10\n",
      "Name: count, dtype: int64\n",
      "roof_material\n",
      "HEALTHY_METAL      187\n",
      "IRREGULAR_METAL    130\n",
      "CONCRETE_CEMENT     46\n",
      "INCOMPLETE          10\n",
      "Name: count, dtype: int64\n"
     ]
    },
    {
     "data": {
      "text/html": [
       "<div>\n",
       "<style scoped>\n",
       "    .dataframe tbody tr th:only-of-type {\n",
       "        vertical-align: middle;\n",
       "    }\n",
       "\n",
       "    .dataframe tbody tr th {\n",
       "        vertical-align: top;\n",
       "    }\n",
       "\n",
       "    .dataframe thead th {\n",
       "        text-align: right;\n",
       "    }\n",
       "</style>\n",
       "<table border=\"1\" class=\"dataframe\">\n",
       "  <thead>\n",
       "    <tr style=\"text-align: right;\">\n",
       "      <th></th>\n",
       "      <th>UID</th>\n",
       "      <th>roof_type</th>\n",
       "      <th>roof_material</th>\n",
       "      <th>geometry</th>\n",
       "    </tr>\n",
       "  </thead>\n",
       "  <tbody>\n",
       "    <tr>\n",
       "      <th>4</th>\n",
       "      <td>34876</td>\n",
       "      <td>NO_ROOF</td>\n",
       "      <td>INCOMPLETE</td>\n",
       "      <td>POLYGON Z ((665060.888 1712479.780 35.786, 665...</td>\n",
       "    </tr>\n",
       "    <tr>\n",
       "      <th>5</th>\n",
       "      <td>34887</td>\n",
       "      <td>GABLE</td>\n",
       "      <td>HEALTHY_METAL</td>\n",
       "      <td>POLYGON Z ((665078.259 1712486.585 32.366, 665...</td>\n",
       "    </tr>\n",
       "    <tr>\n",
       "      <th>6</th>\n",
       "      <td>34890</td>\n",
       "      <td>GABLE</td>\n",
       "      <td>IRREGULAR_METAL</td>\n",
       "      <td>POLYGON Z ((665070.715 1712492.135 27.175, 665...</td>\n",
       "    </tr>\n",
       "  </tbody>\n",
       "</table>\n",
       "</div>"
      ],
      "text/plain": [
       "     UID roof_type    roof_material   \n",
       "4  34876   NO_ROOF       INCOMPLETE  \\\n",
       "5  34887     GABLE    HEALTHY_METAL   \n",
       "6  34890     GABLE  IRREGULAR_METAL   \n",
       "\n",
       "                                            geometry  \n",
       "4  POLYGON Z ((665060.888 1712479.780 35.786, 665...  \n",
       "5  POLYGON Z ((665078.259 1712486.585 32.366, 665...  \n",
       "6  POLYGON Z ((665070.715 1712492.135 27.175, 665...  "
      ]
     },
     "execution_count": 19,
     "metadata": {},
     "output_type": "execute_result"
    }
   ],
   "source": [
    "ytrue_file = '../data/vectors/building_footprints_annotated_COLIHAUT.gpkg'\n",
    "ytrue = gpd.read_file(ytrue_file)[['UID', 'roof_type', 'roof_material', 'geometry']].dropna()\n",
    "ytrue.roof_type = ytrue.roof_type.replace({'PYRAMID': 'HIP', 'HALF_HIP': 'HIP'})\n",
    "print(f\"Data dimensions: {ytrue.shape}\")\n",
    "print(ytrue.roof_type.value_counts())\n",
    "print(ytrue.roof_material.value_counts())\n",
    "ytrue.head(3)"
   ]
  },
  {
   "cell_type": "code",
   "execution_count": 18,
   "id": "76080552-0265-4bc8-9e43-a3b21e1b386e",
   "metadata": {
    "tags": []
   },
   "outputs": [
    {
     "name": "stdout",
     "output_type": "stream",
     "text": [
      "Data dimensions: (373, 4)\n",
      "roof_type\n",
      "GABLE      250\n",
      "HIP         59\n",
      "FLAT        54\n",
      "NO_ROOF     10\n",
      "Name: count, dtype: int64\n",
      "roof_material\n",
      "HEALTHY_METAL      204\n",
      "IRREGULAR_METAL    113\n",
      "CONCRETE_CEMENT     48\n",
      "INCOMPLETE           7\n",
      "BLUE_TARP            1\n",
      "Name: count, dtype: int64\n"
     ]
    },
    {
     "data": {
      "text/html": [
       "<div>\n",
       "<style scoped>\n",
       "    .dataframe tbody tr th:only-of-type {\n",
       "        vertical-align: middle;\n",
       "    }\n",
       "\n",
       "    .dataframe tbody tr th {\n",
       "        vertical-align: top;\n",
       "    }\n",
       "\n",
       "    .dataframe thead th {\n",
       "        text-align: right;\n",
       "    }\n",
       "</style>\n",
       "<table border=\"1\" class=\"dataframe\">\n",
       "  <thead>\n",
       "    <tr style=\"text-align: right;\">\n",
       "      <th></th>\n",
       "      <th>UID</th>\n",
       "      <th>roof_type</th>\n",
       "      <th>roof_material</th>\n",
       "      <th>geometry</th>\n",
       "    </tr>\n",
       "  </thead>\n",
       "  <tbody>\n",
       "    <tr>\n",
       "      <th>0</th>\n",
       "      <td>34876</td>\n",
       "      <td>NO_ROOF</td>\n",
       "      <td>CONCRETE_CEMENT</td>\n",
       "      <td>POLYGON Z ((665060.888 1712479.780 35.786, 665...</td>\n",
       "    </tr>\n",
       "    <tr>\n",
       "      <th>1</th>\n",
       "      <td>34887</td>\n",
       "      <td>GABLE</td>\n",
       "      <td>HEALTHY_METAL</td>\n",
       "      <td>POLYGON Z ((665078.259 1712486.585 32.366, 665...</td>\n",
       "    </tr>\n",
       "    <tr>\n",
       "      <th>2</th>\n",
       "      <td>34890</td>\n",
       "      <td>GABLE</td>\n",
       "      <td>HEALTHY_METAL</td>\n",
       "      <td>POLYGON Z ((665070.715 1712492.135 27.175, 665...</td>\n",
       "    </tr>\n",
       "  </tbody>\n",
       "</table>\n",
       "</div>"
      ],
      "text/plain": [
       "     UID roof_type    roof_material   \n",
       "0  34876   NO_ROOF  CONCRETE_CEMENT  \\\n",
       "1  34887     GABLE    HEALTHY_METAL   \n",
       "2  34890     GABLE    HEALTHY_METAL   \n",
       "\n",
       "                                            geometry  \n",
       "0  POLYGON Z ((665060.888 1712479.780 35.786, 665...  \n",
       "1  POLYGON Z ((665078.259 1712486.585 32.366, 665...  \n",
       "2  POLYGON Z ((665070.715 1712492.135 27.175, 665...  "
      ]
     },
     "execution_count": 18,
     "metadata": {},
     "output_type": "execute_result"
    }
   ],
   "source": [
    "ypred_file = f'../output/{name}-drone-20230616.gpkg'\n",
    "ypred = gpd.read_file(ypred_file)[['UID', 'roof_type', 'roof_material', 'geometry']].dropna()\n",
    "print(f\"Data dimensions: {ypred.shape}\")\n",
    "print(ypred.roof_type.value_counts())\n",
    "print(ypred.roof_material.value_counts())\n",
    "ypred.head(3)"
   ]
  },
  {
   "cell_type": "code",
   "execution_count": 26,
   "id": "1fb41696-ef38-4735-877b-f55d2978dd1e",
   "metadata": {
    "tags": []
   },
   "outputs": [
    {
     "data": {
      "text/plain": [
       "{'overall_accuracy': 89.27613941018767,\n",
       " 'balanced_accuracy': 87.45253649858913,\n",
       " 'f1_score_micro': 89.27613941018767,\n",
       " 'f1_score': 86.36588137237665,\n",
       " 'precision_score': 87.00772128060264,\n",
       " 'recall_score': 87.45253649858913,\n",
       " 'f1_per_class': array([80.95238095, 92.95774648, 81.55339806, 90.        ]),\n",
       " 'precision_per_class': array([94.44444444, 92.4       , 71.18644068, 90.        ]),\n",
       " 'recall_per_class': array([70.83333333, 93.52226721, 95.45454545, 90.        ])}"
      ]
     },
     "execution_count": 26,
     "metadata": {},
     "output_type": "execute_result"
    }
   ],
   "source": [
    "attribute = 'roof_type'\n",
    "classes = geoutils.classes_dict[attribute]\n",
    "cm = eval_utils.get_confusion_matrix(ytrue[attribute], ypred[attribute], classes)\n",
    "eval_utils.evaluate(ytrue[attribute], ypred[attribute])"
   ]
  },
  {
   "cell_type": "markdown",
   "id": "66e9536e-43f0-462b-9420-198b32e09d55",
   "metadata": {},
   "source": [
    "## Data Fusion"
   ]
  },
  {
   "cell_type": "code",
   "execution_count": 8,
   "id": "c9401d87-f819-44f8-9cef-2fd4056e70cd",
   "metadata": {
    "tags": []
   },
   "outputs": [
    {
     "name": "stdout",
     "output_type": "stream",
     "text": [
      "Model file ../exp/exp-09\\best_model.pth successfully loaded.\n",
      "{'data_dir': '../data/rasters/Tiles/ortho/', 'csv_dir': '../data/csv/', 'attribute': 'roof_material', 'exp_name': 'exp-09', 'mode': 'RGB', 'batch_size': 32, 'n_workers': 4, 'n_epochs': 30, 'model': 'efficientnetb0', 'pretrained': True, 'scheduler': 'ReduceLROnPlateau', 'optimizer': 'Adam', 'lr': 1e-05, 'img_size': 224, 'momentum': None, 'gamma': None, 'step_size': None, 'patience': 7, 'dropout': None}\n",
      "Model file ../exp/exp-06\\best_model.pth successfully loaded.\n",
      "{'data_dir': '../data/rasters/Tiles/ndsm/', 'csv_dir': '../data/csv/', 'attribute': 'roof_material', 'exp_name': 'exp-06', 'mode': 'GRAYSCALE', 'batch_size': 32, 'n_workers': 4, 'n_epochs': 30, 'model': 'inceptionv3', 'pretrained': True, 'scheduler': 'ReduceLROnPlateau', 'optimizer': 'Adam', 'lr': 1e-05, 'img_size': 299, 'momentum': None, 'gamma': None, 'step_size': None, 'patience': 7, 'dropout': None}\n"
     ]
    }
   ],
   "source": [
    "c = config.create_config(\"../configs/fusion_06.yaml\")\n",
    "c = {key: '.' + value if 'config' in key or 'dir' in key else value for key, value in c.items()}\n",
    "\n",
    "c1 = config.create_config(c['config1'])\n",
    "c1 = {key: '.' + value if 'dir' in key else value for key, value in c1.items()}\n",
    "classes = geoutils.classes_dict[c1['attribute']]\n",
    "exp_dir = os.path.join(c['exp_dir'], c1['exp_name'])\n",
    "model1 = pred_utils.load_model(c1, exp_dir=exp_dir , n_classes=len(classes))\n",
    "print(c1)\n",
    "\n",
    "c2 = config.create_config(c['config2'])\n",
    "exp_dir = os.path.join(c['exp_dir'], c2['exp_name'])\n",
    "c2 = {key: '.' + value if 'dir' in key else value for key, value in c2.items()}\n",
    "model2 = pred_utils.load_model(c2, exp_dir=exp_dir, n_classes=len(classes))\n",
    "print(c2)"
   ]
  },
  {
   "cell_type": "code",
   "execution_count": 101,
   "id": "343b3b81-e3ec-4383-98dc-e0c6a241797a",
   "metadata": {
    "tags": []
   },
   "outputs": [
    {
     "name": "stderr",
     "output_type": "stream",
     "text": [
      "100%|███████████████| 522/522 [11:29<00:00,  1.32s/it]                                                                 \n"
     ]
    }
   ],
   "source": [
    "source1 = '../data/rasters/Ortho/ortho_DOM.tif'\n",
    "source2 = '../data/rasters/DSM/ndsm_DOM.tif'\n",
    "data = fusion.predict(bldgs, c1, c2, model1, model2, source1=source1, source2=source2)"
   ]
  },
  {
   "cell_type": "code",
   "execution_count": 9,
   "id": "690d0367-3f2e-41af-917b-52e092f02060",
   "metadata": {
    "tags": []
   },
   "outputs": [
    {
     "data": {
      "text/html": [
       "<style>#sk-container-id-2 {color: black;background-color: white;}#sk-container-id-2 pre{padding: 0;}#sk-container-id-2 div.sk-toggleable {background-color: white;}#sk-container-id-2 label.sk-toggleable__label {cursor: pointer;display: block;width: 100%;margin-bottom: 0;padding: 0.3em;box-sizing: border-box;text-align: center;}#sk-container-id-2 label.sk-toggleable__label-arrow:before {content: \"▸\";float: left;margin-right: 0.25em;color: #696969;}#sk-container-id-2 label.sk-toggleable__label-arrow:hover:before {color: black;}#sk-container-id-2 div.sk-estimator:hover label.sk-toggleable__label-arrow:before {color: black;}#sk-container-id-2 div.sk-toggleable__content {max-height: 0;max-width: 0;overflow: hidden;text-align: left;background-color: #f0f8ff;}#sk-container-id-2 div.sk-toggleable__content pre {margin: 0.2em;color: black;border-radius: 0.25em;background-color: #f0f8ff;}#sk-container-id-2 input.sk-toggleable__control:checked~div.sk-toggleable__content {max-height: 200px;max-width: 100%;overflow: auto;}#sk-container-id-2 input.sk-toggleable__control:checked~label.sk-toggleable__label-arrow:before {content: \"▾\";}#sk-container-id-2 div.sk-estimator input.sk-toggleable__control:checked~label.sk-toggleable__label {background-color: #d4ebff;}#sk-container-id-2 div.sk-label input.sk-toggleable__control:checked~label.sk-toggleable__label {background-color: #d4ebff;}#sk-container-id-2 input.sk-hidden--visually {border: 0;clip: rect(1px 1px 1px 1px);clip: rect(1px, 1px, 1px, 1px);height: 1px;margin: -1px;overflow: hidden;padding: 0;position: absolute;width: 1px;}#sk-container-id-2 div.sk-estimator {font-family: monospace;background-color: #f0f8ff;border: 1px dotted black;border-radius: 0.25em;box-sizing: border-box;margin-bottom: 0.5em;}#sk-container-id-2 div.sk-estimator:hover {background-color: #d4ebff;}#sk-container-id-2 div.sk-parallel-item::after {content: \"\";width: 100%;border-bottom: 1px solid gray;flex-grow: 1;}#sk-container-id-2 div.sk-label:hover label.sk-toggleable__label {background-color: #d4ebff;}#sk-container-id-2 div.sk-serial::before {content: \"\";position: absolute;border-left: 1px solid gray;box-sizing: border-box;top: 0;bottom: 0;left: 50%;z-index: 0;}#sk-container-id-2 div.sk-serial {display: flex;flex-direction: column;align-items: center;background-color: white;padding-right: 0.2em;padding-left: 0.2em;position: relative;}#sk-container-id-2 div.sk-item {position: relative;z-index: 1;}#sk-container-id-2 div.sk-parallel {display: flex;align-items: stretch;justify-content: center;background-color: white;position: relative;}#sk-container-id-2 div.sk-item::before, #sk-container-id-2 div.sk-parallel-item::before {content: \"\";position: absolute;border-left: 1px solid gray;box-sizing: border-box;top: 0;bottom: 0;left: 50%;z-index: -1;}#sk-container-id-2 div.sk-parallel-item {display: flex;flex-direction: column;z-index: 1;position: relative;background-color: white;}#sk-container-id-2 div.sk-parallel-item:first-child::after {align-self: flex-end;width: 50%;}#sk-container-id-2 div.sk-parallel-item:last-child::after {align-self: flex-start;width: 50%;}#sk-container-id-2 div.sk-parallel-item:only-child::after {width: 0;}#sk-container-id-2 div.sk-dashed-wrapped {border: 1px dashed gray;margin: 0 0.4em 0.5em 0.4em;box-sizing: border-box;padding-bottom: 0.4em;background-color: white;}#sk-container-id-2 div.sk-label label {font-family: monospace;font-weight: bold;display: inline-block;line-height: 1.2em;}#sk-container-id-2 div.sk-label-container {text-align: center;}#sk-container-id-2 div.sk-container {/* jupyter's `normalize.less` sets `[hidden] { display: none; }` but bootstrap.min.css set `[hidden] { display: none !important; }` so we also need the `!important` here to be able to override the default hidden behavior on the sphinx rendered scikit-learn.org. See: https://github.com/scikit-learn/scikit-learn/issues/21755 */display: inline-block !important;position: relative;}#sk-container-id-2 div.sk-text-repr-fallback {display: none;}</style><div id=\"sk-container-id-2\" class=\"sk-top-container\"><div class=\"sk-text-repr-fallback\"><pre>Pipeline(steps=[(&#x27;scaler&#x27;, MinMaxScaler()), (&#x27;selector&#x27;, None),\n",
       "                (&#x27;model&#x27;,\n",
       "                 RandomForestClassifier(bootstrap=False, criterion=&#x27;entropy&#x27;,\n",
       "                                        max_depth=9, n_estimators=450,\n",
       "                                        n_jobs=-1, random_state=42,\n",
       "                                        verbose=1))])</pre><b>In a Jupyter environment, please rerun this cell to show the HTML representation or trust the notebook. <br />On GitHub, the HTML representation is unable to render, please try loading this page with nbviewer.org.</b></div><div class=\"sk-container\" hidden><div class=\"sk-item sk-dashed-wrapped\"><div class=\"sk-label-container\"><div class=\"sk-label sk-toggleable\"><input class=\"sk-toggleable__control sk-hidden--visually\" id=\"sk-estimator-id-5\" type=\"checkbox\" ><label for=\"sk-estimator-id-5\" class=\"sk-toggleable__label sk-toggleable__label-arrow\">Pipeline</label><div class=\"sk-toggleable__content\"><pre>Pipeline(steps=[(&#x27;scaler&#x27;, MinMaxScaler()), (&#x27;selector&#x27;, None),\n",
       "                (&#x27;model&#x27;,\n",
       "                 RandomForestClassifier(bootstrap=False, criterion=&#x27;entropy&#x27;,\n",
       "                                        max_depth=9, n_estimators=450,\n",
       "                                        n_jobs=-1, random_state=42,\n",
       "                                        verbose=1))])</pre></div></div></div><div class=\"sk-serial\"><div class=\"sk-item\"><div class=\"sk-estimator sk-toggleable\"><input class=\"sk-toggleable__control sk-hidden--visually\" id=\"sk-estimator-id-6\" type=\"checkbox\" ><label for=\"sk-estimator-id-6\" class=\"sk-toggleable__label sk-toggleable__label-arrow\">MinMaxScaler</label><div class=\"sk-toggleable__content\"><pre>MinMaxScaler()</pre></div></div></div><div class=\"sk-item\"><div class=\"sk-estimator sk-toggleable\"><input class=\"sk-toggleable__control sk-hidden--visually\" id=\"sk-estimator-id-7\" type=\"checkbox\" ><label for=\"sk-estimator-id-7\" class=\"sk-toggleable__label sk-toggleable__label-arrow\">None</label><div class=\"sk-toggleable__content\"><pre>None</pre></div></div></div><div class=\"sk-item\"><div class=\"sk-estimator sk-toggleable\"><input class=\"sk-toggleable__control sk-hidden--visually\" id=\"sk-estimator-id-8\" type=\"checkbox\" ><label for=\"sk-estimator-id-8\" class=\"sk-toggleable__label sk-toggleable__label-arrow\">RandomForestClassifier</label><div class=\"sk-toggleable__content\"><pre>RandomForestClassifier(bootstrap=False, criterion=&#x27;entropy&#x27;, max_depth=9,\n",
       "                       n_estimators=450, n_jobs=-1, random_state=42, verbose=1)</pre></div></div></div></div></div></div></div>"
      ],
      "text/plain": [
       "Pipeline(steps=[('scaler', MinMaxScaler()), ('selector', None),\n",
       "                ('model',\n",
       "                 RandomForestClassifier(bootstrap=False, criterion='entropy',\n",
       "                                        max_depth=9, n_estimators=450,\n",
       "                                        n_jobs=-1, random_state=42,\n",
       "                                        verbose=1))])"
      ]
     },
     "execution_count": 9,
     "metadata": {},
     "output_type": "execute_result"
    }
   ],
   "source": [
    "features = fusion.get_features(c, data)\n",
    "model_file = os.path.join(c['exp_dir'], c['exp_name'], c['mode'], c['model'], 'best_model.pkl')\n",
    "model = joblib.load(model_file)\n",
    "preds = model.predict(data[features])"
   ]
  },
  {
   "cell_type": "code",
   "execution_count": 104,
   "id": "42eedc1b-7f38-4c9c-a2dc-700836aed0fd",
   "metadata": {
    "tags": []
   },
   "outputs": [],
   "source": [
    "bldgs['roof_material'] = preds\n",
    "out_path = '../output/'\n",
    "if not os.path.isdir(out_path):\n",
    "    os.makedirs(out_path)\n",
    "out_file = os.path.join(out_path, f'{name}-ortho-20230613.gpkg')\n",
    "bldgs.to_file(out_file, driver='GPKG')"
   ]
  }
 ],
 "metadata": {
  "kernelspec": {
   "display_name": "GFDRR",
   "language": "python",
   "name": "gfdrr"
  },
  "language_info": {
   "codemirror_mode": {
    "name": "ipython",
    "version": 3
   },
   "file_extension": ".py",
   "mimetype": "text/x-python",
   "name": "python",
   "nbconvert_exporter": "python",
   "pygments_lexer": "ipython3",
   "version": "3.10.10"
  }
 },
 "nbformat": 4,
 "nbformat_minor": 5
}
