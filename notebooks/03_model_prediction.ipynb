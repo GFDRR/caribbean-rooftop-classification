{
 "cells": [
  {
   "cell_type": "markdown",
   "id": "b4f80cd1-c02b-4e83-be53-b44042b4e76f",
   "metadata": {},
   "source": [
    "## Imports and Setup"
   ]
  },
  {
   "cell_type": "code",
   "execution_count": 1,
   "id": "21005e6c-9716-4ad6-bcb8-211a090f12eb",
   "metadata": {
    "tags": []
   },
   "outputs": [],
   "source": [
    "import os\n",
    "import sys\n",
    "import joblib\n",
    "import subprocess\n",
    "sys.path.insert(0, \"../utils/\")\n",
    "import pred_utils\n",
    "import config\n",
    "import geoutils\n",
    "import eval_utils\n",
    "sys.path.insert(0, \"../\")\n",
    "import fusion\n",
    "\n",
    "import pandas as pd\n",
    "import numpy as np\n",
    "import geopandas as gpd\n",
    "from tqdm.notebook import tqdm\n",
    "\n",
    "pd.set_option('mode.chained_assignment', None)\n",
    "\n",
    "%load_ext autoreload\n",
    "%autoreload 2"
   ]
  },
  {
   "cell_type": "markdown",
   "id": "101b4cdd-4ac8-4764-ab45-8765578194ba",
   "metadata": {},
   "source": [
    "## Load Dataset"
   ]
  },
  {
   "cell_type": "code",
   "execution_count": 6,
   "id": "7273e0aa-9051-4838-9894-684e637a0019",
   "metadata": {},
   "outputs": [
    {
     "name": "stdout",
     "output_type": "stream",
     "text": [
      "Data dimensions: (1272, 8)\n",
      "roof_type\n",
      "GABLE       55\n",
      "FLAT        12\n",
      "HIP          9\n",
      "NO_ROOF      6\n",
      "HALF_HIP     1\n",
      "Name: count, dtype: int64\n"
     ]
    },
    {
     "data": {
      "text/html": [
       "<div>\n",
       "<style scoped>\n",
       "    .dataframe tbody tr th:only-of-type {\n",
       "        vertical-align: middle;\n",
       "    }\n",
       "\n",
       "    .dataframe tbody tr th {\n",
       "        vertical-align: top;\n",
       "    }\n",
       "\n",
       "    .dataframe thead th {\n",
       "        text-align: right;\n",
       "    }\n",
       "</style>\n",
       "<table border=\"1\" class=\"dataframe\">\n",
       "  <thead>\n",
       "    <tr style=\"text-align: right;\">\n",
       "      <th></th>\n",
       "      <th>UID</th>\n",
       "      <th>Elevation</th>\n",
       "      <th>Layer</th>\n",
       "      <th>roof_type</th>\n",
       "      <th>roof_material</th>\n",
       "      <th>roof_condition</th>\n",
       "      <th>shape_name</th>\n",
       "      <th>geometry</th>\n",
       "    </tr>\n",
       "  </thead>\n",
       "  <tbody>\n",
       "    <tr>\n",
       "      <th>34411</th>\n",
       "      <td>34413</td>\n",
       "      <td>17.535746</td>\n",
       "      <td>BLD_GEN_OUTLINE</td>\n",
       "      <td>NaN</td>\n",
       "      <td>NaN</td>\n",
       "      <td>NaN</td>\n",
       "      <td>Saint Peter</td>\n",
       "      <td>MULTIPOLYGON Z (((665583.468 1710787.345 14.89...</td>\n",
       "    </tr>\n",
       "    <tr>\n",
       "      <th>34476</th>\n",
       "      <td>34478</td>\n",
       "      <td>5.934477</td>\n",
       "      <td>BLD_GEN_OUTLINE</td>\n",
       "      <td>NaN</td>\n",
       "      <td>NaN</td>\n",
       "      <td>NaN</td>\n",
       "      <td>Saint Peter</td>\n",
       "      <td>MULTIPOLYGON Z (((665565.273 1710859.963 5.669...</td>\n",
       "    </tr>\n",
       "    <tr>\n",
       "      <th>34487</th>\n",
       "      <td>34489</td>\n",
       "      <td>6.699960</td>\n",
       "      <td>BLD_RESIDENTIAL_TRAILER</td>\n",
       "      <td>NaN</td>\n",
       "      <td>NaN</td>\n",
       "      <td>NaN</td>\n",
       "      <td>Saint Peter</td>\n",
       "      <td>MULTIPOLYGON Z (((665534.946 1710892.122 6.222...</td>\n",
       "    </tr>\n",
       "  </tbody>\n",
       "</table>\n",
       "</div>"
      ],
      "text/plain": [
       "         UID  Elevation                    Layer roof_type roof_material   \n",
       "34411  34413  17.535746          BLD_GEN_OUTLINE       NaN           NaN  \\\n",
       "34476  34478   5.934477          BLD_GEN_OUTLINE       NaN           NaN   \n",
       "34487  34489   6.699960  BLD_RESIDENTIAL_TRAILER       NaN           NaN   \n",
       "\n",
       "       roof_condition   shape_name   \n",
       "34411             NaN  Saint Peter  \\\n",
       "34476             NaN  Saint Peter   \n",
       "34487             NaN  Saint Peter   \n",
       "\n",
       "                                                geometry  \n",
       "34411  MULTIPOLYGON Z (((665583.468 1710787.345 14.89...  \n",
       "34476  MULTIPOLYGON Z (((665565.273 1710859.963 5.669...  \n",
       "34487  MULTIPOLYGON Z (((665534.946 1710892.122 6.222...  "
      ]
     },
     "execution_count": 6,
     "metadata": {},
     "output_type": "execute_result"
    }
   ],
   "source": [
    "name = 'Saint Peter'\n",
    "bldgs_file = '../data/vectors/building_footprints_annotated_DOM.gpkg'\n",
    "bldgs = gpd.read_file(bldgs_file)\n",
    "\n",
    "bldgs = bldgs[bldgs.shape_name == name]\n",
    "print(f\"Data dimensions: {bldgs.shape}\")\n",
    "print(bldgs.roof_type.value_counts())\n",
    "bldgs.head(3)"
   ]
  },
  {
   "cell_type": "markdown",
   "id": "ebac135f-bb1c-4527-85a5-cac442ea90e6",
   "metadata": {},
   "source": [
    "## Generate Post-disaster Predictions"
   ]
  },
  {
   "cell_type": "code",
   "execution_count": 8,
   "id": "4c21818e-c742-4986-ab6d-be28d76fc5b0",
   "metadata": {
    "tags": []
   },
   "outputs": [
    {
     "name": "stdout",
     "output_type": "stream",
     "text": [
      "Config: {'data_dir': './data/rasters/Tiles/ortho/', 'csv_dir': './data/csv/', 'attribute': 'roof_material', 'exp_name': 'exp-09', 'mode': 'RGB', 'batch_size': 32, 'n_workers': 4, 'n_epochs': 30, 'model': 'efficientnetb0', 'pretrained': True, 'scheduler': 'ReduceLROnPlateau', 'optimizer': 'Adam', 'lr': 1e-05, 'img_size': 224, 'momentum': None, 'gamma': None, 'step_size': None, 'patience': 7, 'dropout': None}\n",
      "Model file ../exp/exp-09/best_model.pth successfully loaded.\n"
     ]
    },
    {
     "data": {
      "text/plain": [
       "\u001b[1;31mSignature:\u001b[0m       \u001b[0mmodel\u001b[0m\u001b[1;33m(\u001b[0m\u001b[1;33m*\u001b[0m\u001b[0margs\u001b[0m\u001b[1;33m,\u001b[0m \u001b[1;33m**\u001b[0m\u001b[0mkwargs\u001b[0m\u001b[1;33m)\u001b[0m\u001b[1;33m\u001b[0m\u001b[1;33m\u001b[0m\u001b[0m\n",
       "\u001b[1;31mType:\u001b[0m            EfficientNet\n",
       "\u001b[1;31mString form:\u001b[0m    \n",
       "EfficientNet(\n",
       "           (features): Sequential(\n",
       "           (0): Conv2dNormActivation(\n",
       "           (0): Conv2d(3, 32, k <...> : Dropout(p=0.2, inplace=True)\n",
       "           (1): Linear(in_features=1280, out_features=5, bias=True)\n",
       "           )\n",
       "           )\n",
       "\u001b[1;31mFile:\u001b[0m            c:\\users\\issa\\miniconda3\\envs\\gfdrr\\lib\\site-packages\\torchvision\\models\\efficientnet.py\n",
       "\u001b[1;31mDocstring:\u001b[0m       <no docstring>\n",
       "\u001b[1;31mClass docstring:\u001b[0m\n",
       "Base class for all neural network modules.\n",
       "\n",
       "Your models should also subclass this class.\n",
       "\n",
       "Modules can also contain other Modules, allowing to nest them in\n",
       "a tree structure. You can assign the submodules as regular attributes::\n",
       "\n",
       "    import torch.nn as nn\n",
       "    import torch.nn.functional as F\n",
       "\n",
       "    class Model(nn.Module):\n",
       "        def __init__(self):\n",
       "            super().__init__()\n",
       "            self.conv1 = nn.Conv2d(1, 20, 5)\n",
       "            self.conv2 = nn.Conv2d(20, 20, 5)\n",
       "\n",
       "        def forward(self, x):\n",
       "            x = F.relu(self.conv1(x))\n",
       "            return F.relu(self.conv2(x))\n",
       "\n",
       "Submodules assigned in this way will be registered, and will have their\n",
       "parameters converted too when you call :meth:`to`, etc.\n",
       "\n",
       ".. note::\n",
       "    As per the example above, an ``__init__()`` call to the parent class\n",
       "    must be made before assignment on the child.\n",
       "\n",
       ":ivar training: Boolean represents whether this module is in training or\n",
       "                evaluation mode.\n",
       ":vartype training: bool\n",
       "\u001b[1;31mInit docstring:\u001b[0m \n",
       "EfficientNet V1 and V2 main class\n",
       "\n",
       "Args:\n",
       "    inverted_residual_setting (Sequence[Union[MBConvConfig, FusedMBConvConfig]]): Network structure\n",
       "    dropout (float): The droupout probability\n",
       "    stochastic_depth_prob (float): The stochastic depth probability\n",
       "    num_classes (int): Number of classes\n",
       "    norm_layer (Optional[Callable[..., nn.Module]]): Module specifying the normalization layer to use\n",
       "    last_channel (int): The number of channels on the penultimate layer"
      ]
     },
     "metadata": {},
     "output_type": "display_data"
    }
   ],
   "source": [
    "in_file = '../data/rasters/Ortho/ortho_DOM.tif'\n",
    "exp_config = '../configs/config_09.yaml'\n",
    "c = config.create_config(exp_config)\n",
    "exp_dir = f\"../exp/{c['exp_name']}/\"\n",
    "classes = geoutils.classes_dict[c['attribute']]\n",
    "print(f\"Config: {c}\")\n",
    "\n",
    "model = pred_utils.load_model(c, exp_dir, n_classes=len(classes))\n",
    "#bldgs = pred_utils.generate_predictions(bldgs, model, c, in_file, exp_dir, classes=classes)   \n",
    "#bldgs.head(3)\n",
    "?model"
   ]
  },
  {
   "cell_type": "code",
   "execution_count": 7,
   "id": "eea61d71-e42c-44dc-ab17-4ee120643cf9",
   "metadata": {
    "tags": []
   },
   "outputs": [
    {
     "name": "stdout",
     "output_type": "stream",
     "text": [
      "Config: {'data_dir': './data/rasters/Tiles/ndsm/', 'csv_dir': './data/csv/', 'attribute': 'roof_type', 'mode': 'GRAYSCALE', 'exp_name': 'exp-05', 'batch_size': 32, 'n_workers': 4, 'n_epochs': 30, 'model': 'resnet50', 'pretrained': True, 'scheduler': 'ReduceLROnPlateau', 'optimizer': 'Adam', 'lr': 1e-05, 'img_size': 224, 'momentum': None, 'gamma': None, 'step_size': None, 'patience': 7, 'dropout': 0.5}\n",
      "Model file ../exp/exp-05/best_model.pth successfully loaded.\n"
     ]
    },
    {
     "name": "stderr",
     "output_type": "stream",
     "text": [
      "100%|███████████████| 1272/1272 [09:37<00:00,  2.20it/s]                                                               \n"
     ]
    },
    {
     "data": {
      "text/html": [
       "<div>\n",
       "<style scoped>\n",
       "    .dataframe tbody tr th:only-of-type {\n",
       "        vertical-align: middle;\n",
       "    }\n",
       "\n",
       "    .dataframe tbody tr th {\n",
       "        vertical-align: top;\n",
       "    }\n",
       "\n",
       "    .dataframe thead th {\n",
       "        text-align: right;\n",
       "    }\n",
       "</style>\n",
       "<table border=\"1\" class=\"dataframe\">\n",
       "  <thead>\n",
       "    <tr style=\"text-align: right;\">\n",
       "      <th></th>\n",
       "      <th>UID</th>\n",
       "      <th>Elevation</th>\n",
       "      <th>Layer</th>\n",
       "      <th>roof_type</th>\n",
       "      <th>roof_material</th>\n",
       "      <th>roof_condition</th>\n",
       "      <th>shape_name</th>\n",
       "      <th>geometry</th>\n",
       "    </tr>\n",
       "  </thead>\n",
       "  <tbody>\n",
       "    <tr>\n",
       "      <th>34411</th>\n",
       "      <td>34413</td>\n",
       "      <td>17.535746</td>\n",
       "      <td>BLD_GEN_OUTLINE</td>\n",
       "      <td>HIP</td>\n",
       "      <td>HEALTHY_METAL</td>\n",
       "      <td>NaN</td>\n",
       "      <td>Saint Peter</td>\n",
       "      <td>MULTIPOLYGON Z (((665583.468 1710787.345 14.89...</td>\n",
       "    </tr>\n",
       "    <tr>\n",
       "      <th>34476</th>\n",
       "      <td>34478</td>\n",
       "      <td>5.934477</td>\n",
       "      <td>BLD_GEN_OUTLINE</td>\n",
       "      <td>GABLE</td>\n",
       "      <td>HEALTHY_METAL</td>\n",
       "      <td>NaN</td>\n",
       "      <td>Saint Peter</td>\n",
       "      <td>MULTIPOLYGON Z (((665565.273 1710859.963 5.669...</td>\n",
       "    </tr>\n",
       "    <tr>\n",
       "      <th>34487</th>\n",
       "      <td>34489</td>\n",
       "      <td>6.699960</td>\n",
       "      <td>BLD_RESIDENTIAL_TRAILER</td>\n",
       "      <td>FLAT</td>\n",
       "      <td>HEALTHY_METAL</td>\n",
       "      <td>NaN</td>\n",
       "      <td>Saint Peter</td>\n",
       "      <td>MULTIPOLYGON Z (((665534.946 1710892.122 6.222...</td>\n",
       "    </tr>\n",
       "  </tbody>\n",
       "</table>\n",
       "</div>"
      ],
      "text/plain": [
       "         UID  Elevation                    Layer roof_type  roof_material   \n",
       "34411  34413  17.535746          BLD_GEN_OUTLINE       HIP  HEALTHY_METAL  \\\n",
       "34476  34478   5.934477          BLD_GEN_OUTLINE     GABLE  HEALTHY_METAL   \n",
       "34487  34489   6.699960  BLD_RESIDENTIAL_TRAILER      FLAT  HEALTHY_METAL   \n",
       "\n",
       "       roof_condition   shape_name   \n",
       "34411             NaN  Saint Peter  \\\n",
       "34476             NaN  Saint Peter   \n",
       "34487             NaN  Saint Peter   \n",
       "\n",
       "                                                geometry  \n",
       "34411  MULTIPOLYGON Z (((665583.468 1710787.345 14.89...  \n",
       "34476  MULTIPOLYGON Z (((665565.273 1710859.963 5.669...  \n",
       "34487  MULTIPOLYGON Z (((665534.946 1710892.122 6.222...  "
      ]
     },
     "execution_count": 7,
     "metadata": {},
     "output_type": "execute_result"
    }
   ],
   "source": [
    "in_file = '../data/rasters/DSM/ndsm_DOM.tif'\n",
    "exp_config = '../configs/config_05.yaml'\n",
    "c = config.create_config(exp_config)\n",
    "exp_dir = f\"../exp/{c['exp_name']}/\"\n",
    "classes = geoutils.classes_dict[c['attribute']]\n",
    "print(f\"Config: {c}\")\n",
    "\n",
    "model = pred_utils.load_model(c, exp_dir, n_classes=len(classes))\n",
    "bldgs = pred_utils.generate_predictions(bldgs, model, c, in_file, exp_dir, classes=classes)   \n",
    "bldgs.head(3)"
   ]
  },
  {
   "cell_type": "code",
   "execution_count": 4,
   "id": "6c231200-d1ad-48eb-94d5-fd51c2cb368f",
   "metadata": {
    "tags": []
   },
   "outputs": [],
   "source": [
    "out_path = '../output/'\n",
    "if not os.path.isdir(out_path):\n",
    "    os.makedirs(out_path)\n",
    "out_file = os.path.join(out_path, f'{name}-ortho-20230612.gpkg')\n",
    "bldgs.to_file(out_file, driver='GPKG')"
   ]
  },
  {
   "cell_type": "markdown",
   "id": "e4deb8ff-02b6-4075-8ef4-3a56a62f9502",
   "metadata": {},
   "source": [
    "## Generate Pre-disaster Predictions"
   ]
  },
  {
   "cell_type": "code",
   "execution_count": 3,
   "id": "8deca654-48af-4d21-9953-2409c21a5a64",
   "metadata": {
    "tags": []
   },
   "outputs": [
    {
     "name": "stdout",
     "output_type": "stream",
     "text": [
      "Config: {'data_dir': './data/rasters/Tiles/ortho/', 'csv_dir': './data/csv/', 'attribute': 'roof_material', 'exp_name': 'exp-09', 'mode': 'RGB', 'batch_size': 32, 'n_workers': 4, 'n_epochs': 30, 'model': 'efficientnetb0', 'pretrained': True, 'scheduler': 'ReduceLROnPlateau', 'optimizer': 'Adam', 'lr': 1e-05, 'img_size': 224, 'momentum': None, 'gamma': None, 'step_size': None, 'patience': 7, 'dropout': None}\n",
      "Model file ../exp/exp-09/best_model.pth successfully loaded.\n"
     ]
    },
    {
     "name": "stderr",
     "output_type": "stream",
     "text": [
      "100%|███████████████| 373/373 [04:09<00:00,  1.49it/s]                                                                 \n"
     ]
    },
    {
     "data": {
      "text/html": [
       "<div>\n",
       "<style scoped>\n",
       "    .dataframe tbody tr th:only-of-type {\n",
       "        vertical-align: middle;\n",
       "    }\n",
       "\n",
       "    .dataframe tbody tr th {\n",
       "        vertical-align: top;\n",
       "    }\n",
       "\n",
       "    .dataframe thead th {\n",
       "        text-align: right;\n",
       "    }\n",
       "</style>\n",
       "<table border=\"1\" class=\"dataframe\">\n",
       "  <thead>\n",
       "    <tr style=\"text-align: right;\">\n",
       "      <th></th>\n",
       "      <th>UID</th>\n",
       "      <th>roof_type</th>\n",
       "      <th>roof_material</th>\n",
       "      <th>geometry</th>\n",
       "    </tr>\n",
       "  </thead>\n",
       "  <tbody>\n",
       "    <tr>\n",
       "      <th>4</th>\n",
       "      <td>34876</td>\n",
       "      <td>NO_ROOF</td>\n",
       "      <td>CONCRETE_CEMENT</td>\n",
       "      <td>POLYGON Z ((665060.888 1712479.780 35.786, 665...</td>\n",
       "    </tr>\n",
       "    <tr>\n",
       "      <th>5</th>\n",
       "      <td>34887</td>\n",
       "      <td>GABLE</td>\n",
       "      <td>HEALTHY_METAL</td>\n",
       "      <td>POLYGON Z ((665078.259 1712486.585 32.366, 665...</td>\n",
       "    </tr>\n",
       "    <tr>\n",
       "      <th>6</th>\n",
       "      <td>34890</td>\n",
       "      <td>GABLE</td>\n",
       "      <td>HEALTHY_METAL</td>\n",
       "      <td>POLYGON Z ((665070.715 1712492.135 27.175, 665...</td>\n",
       "    </tr>\n",
       "  </tbody>\n",
       "</table>\n",
       "</div>"
      ],
      "text/plain": [
       "     UID roof_type    roof_material   \n",
       "4  34876   NO_ROOF  CONCRETE_CEMENT  \\\n",
       "5  34887     GABLE    HEALTHY_METAL   \n",
       "6  34890     GABLE    HEALTHY_METAL   \n",
       "\n",
       "                                            geometry  \n",
       "4  POLYGON Z ((665060.888 1712479.780 35.786, 665...  \n",
       "5  POLYGON Z ((665078.259 1712486.585 32.366, 665...  \n",
       "6  POLYGON Z ((665070.715 1712492.135 27.175, 665...  "
      ]
     },
     "execution_count": 3,
     "metadata": {},
     "output_type": "execute_result"
    }
   ],
   "source": [
    "in_file = '../data/rasters/Drone/drone_colihaut_DOM.tif'\n",
    "exp_config = '../configs/config_09.yaml'\n",
    "c = config.create_config(exp_config)\n",
    "exp_dir = f\"../exp/{c['exp_name']}/\"\n",
    "classes = geoutils.classes_dict[c['attribute']]\n",
    "print(f\"Config: {c}\")\n",
    "\n",
    "model = pred_utils.load_model(c, exp_dir, n_classes=len(classes))\n",
    "bldgs = pred_utils.generate_predictions(bldgs, model, c, in_file, exp_dir, classes=classes)   \n",
    "bldgs.head(3)"
   ]
  },
  {
   "cell_type": "code",
   "execution_count": 4,
   "id": "7b09e03c-96fc-4ed5-a972-9c2c4f77b6d5",
   "metadata": {
    "tags": []
   },
   "outputs": [
    {
     "name": "stdout",
     "output_type": "stream",
     "text": [
      "Config: {'data_dir': './data/rasters/Tiles/ortho/', 'csv_dir': './data/csv/', 'attribute': 'roof_type', 'exp_name': 'exp-04', 'mode': 'RGB', 'batch_size': 32, 'n_workers': 4, 'n_epochs': 30, 'model': 'inceptionv3', 'pretrained': True, 'scheduler': 'ReduceLROnPlateau', 'optimizer': 'Adam', 'lr': 1e-05, 'img_size': 299, 'momentum': None, 'gamma': None, 'step_size': None, 'patience': 7, 'dropout': None}\n",
      "Model file ../exp/exp-04/best_model.pth successfully loaded.\n"
     ]
    },
    {
     "name": "stderr",
     "output_type": "stream",
     "text": [
      "100%|███████████████| 373/373 [06:07<00:00,  1.01it/s]                                                                 \n"
     ]
    },
    {
     "data": {
      "text/html": [
       "<div>\n",
       "<style scoped>\n",
       "    .dataframe tbody tr th:only-of-type {\n",
       "        vertical-align: middle;\n",
       "    }\n",
       "\n",
       "    .dataframe tbody tr th {\n",
       "        vertical-align: top;\n",
       "    }\n",
       "\n",
       "    .dataframe thead th {\n",
       "        text-align: right;\n",
       "    }\n",
       "</style>\n",
       "<table border=\"1\" class=\"dataframe\">\n",
       "  <thead>\n",
       "    <tr style=\"text-align: right;\">\n",
       "      <th></th>\n",
       "      <th>UID</th>\n",
       "      <th>roof_type</th>\n",
       "      <th>roof_material</th>\n",
       "      <th>geometry</th>\n",
       "    </tr>\n",
       "  </thead>\n",
       "  <tbody>\n",
       "    <tr>\n",
       "      <th>4</th>\n",
       "      <td>34876</td>\n",
       "      <td>NO_ROOF</td>\n",
       "      <td>CONCRETE_CEMENT</td>\n",
       "      <td>POLYGON Z ((665060.888 1712479.780 35.786, 665...</td>\n",
       "    </tr>\n",
       "    <tr>\n",
       "      <th>5</th>\n",
       "      <td>34887</td>\n",
       "      <td>GABLE</td>\n",
       "      <td>HEALTHY_METAL</td>\n",
       "      <td>POLYGON Z ((665078.259 1712486.585 32.366, 665...</td>\n",
       "    </tr>\n",
       "    <tr>\n",
       "      <th>6</th>\n",
       "      <td>34890</td>\n",
       "      <td>GABLE</td>\n",
       "      <td>HEALTHY_METAL</td>\n",
       "      <td>POLYGON Z ((665070.715 1712492.135 27.175, 665...</td>\n",
       "    </tr>\n",
       "  </tbody>\n",
       "</table>\n",
       "</div>"
      ],
      "text/plain": [
       "     UID roof_type    roof_material   \n",
       "4  34876   NO_ROOF  CONCRETE_CEMENT  \\\n",
       "5  34887     GABLE    HEALTHY_METAL   \n",
       "6  34890     GABLE    HEALTHY_METAL   \n",
       "\n",
       "                                            geometry  \n",
       "4  POLYGON Z ((665060.888 1712479.780 35.786, 665...  \n",
       "5  POLYGON Z ((665078.259 1712486.585 32.366, 665...  \n",
       "6  POLYGON Z ((665070.715 1712492.135 27.175, 665...  "
      ]
     },
     "execution_count": 4,
     "metadata": {},
     "output_type": "execute_result"
    }
   ],
   "source": [
    "in_file = '../data/rasters/Drone/drone_colihaut_DOM.tif'\n",
    "exp_config = '../configs/config_04.yaml'\n",
    "c = config.create_config(exp_config)\n",
    "exp_dir = f\"../exp/{c['exp_name']}/\"\n",
    "classes = geoutils.classes_dict[c['attribute']]\n",
    "print(f\"Config: {c}\")\n",
    "\n",
    "model = pred_utils.load_model(c, exp_dir, n_classes=len(classes))\n",
    "bldgs = pred_utils.generate_predictions(bldgs, model, c, in_file, exp_dir, classes=classes)   \n",
    "bldgs.head(3)"
   ]
  },
  {
   "cell_type": "code",
   "execution_count": 13,
   "id": "cbf20b01-6bd6-46ed-aa2a-6d209984a961",
   "metadata": {
    "tags": []
   },
   "outputs": [
    {
     "name": "stdout",
     "output_type": "stream",
     "text": [
      "Config: {'data_dir': './data/rasters/Tiles/ndsm/', 'csv_dir': './data/csv/', 'attribute': 'roof_type', 'mode': 'GRAYSCALE', 'exp_name': 'exp-05', 'batch_size': 32, 'n_workers': 4, 'n_epochs': 30, 'model': 'resnet50', 'pretrained': True, 'scheduler': 'ReduceLROnPlateau', 'optimizer': 'Adam', 'lr': 1e-05, 'img_size': 224, 'momentum': None, 'gamma': None, 'step_size': None, 'patience': 7, 'dropout': 0.5}\n",
      "Model file ../exp/exp-05/best_model.pth successfully loaded.\n"
     ]
    },
    {
     "name": "stderr",
     "output_type": "stream",
     "text": [
      "100%|███████████████| 1272/1272 [11:39<00:00,  1.82it/s]                                                               \n"
     ]
    },
    {
     "data": {
      "text/html": [
       "<div>\n",
       "<style scoped>\n",
       "    .dataframe tbody tr th:only-of-type {\n",
       "        vertical-align: middle;\n",
       "    }\n",
       "\n",
       "    .dataframe tbody tr th {\n",
       "        vertical-align: top;\n",
       "    }\n",
       "\n",
       "    .dataframe thead th {\n",
       "        text-align: right;\n",
       "    }\n",
       "</style>\n",
       "<table border=\"1\" class=\"dataframe\">\n",
       "  <thead>\n",
       "    <tr style=\"text-align: right;\">\n",
       "      <th></th>\n",
       "      <th>UID</th>\n",
       "      <th>Elevation</th>\n",
       "      <th>Layer</th>\n",
       "      <th>roof_type</th>\n",
       "      <th>roof_material</th>\n",
       "      <th>roof_condition</th>\n",
       "      <th>shape_name</th>\n",
       "      <th>geometry</th>\n",
       "    </tr>\n",
       "  </thead>\n",
       "  <tbody>\n",
       "    <tr>\n",
       "      <th>34411</th>\n",
       "      <td>34413</td>\n",
       "      <td>17.535746</td>\n",
       "      <td>BLD_GEN_OUTLINE</td>\n",
       "      <td>HIP</td>\n",
       "      <td>CONCRETE_CEMENT</td>\n",
       "      <td>NaN</td>\n",
       "      <td>Saint Peter</td>\n",
       "      <td>MULTIPOLYGON Z (((665583.468 1710787.345 14.89...</td>\n",
       "    </tr>\n",
       "    <tr>\n",
       "      <th>34476</th>\n",
       "      <td>34478</td>\n",
       "      <td>5.934477</td>\n",
       "      <td>BLD_GEN_OUTLINE</td>\n",
       "      <td>GABLE</td>\n",
       "      <td>CONCRETE_CEMENT</td>\n",
       "      <td>NaN</td>\n",
       "      <td>Saint Peter</td>\n",
       "      <td>MULTIPOLYGON Z (((665565.273 1710859.963 5.669...</td>\n",
       "    </tr>\n",
       "    <tr>\n",
       "      <th>34487</th>\n",
       "      <td>34489</td>\n",
       "      <td>6.699960</td>\n",
       "      <td>BLD_RESIDENTIAL_TRAILER</td>\n",
       "      <td>FLAT</td>\n",
       "      <td>CONCRETE_CEMENT</td>\n",
       "      <td>NaN</td>\n",
       "      <td>Saint Peter</td>\n",
       "      <td>MULTIPOLYGON Z (((665534.946 1710892.122 6.222...</td>\n",
       "    </tr>\n",
       "  </tbody>\n",
       "</table>\n",
       "</div>"
      ],
      "text/plain": [
       "         UID  Elevation                    Layer roof_type    roof_material   \n",
       "34411  34413  17.535746          BLD_GEN_OUTLINE       HIP  CONCRETE_CEMENT  \\\n",
       "34476  34478   5.934477          BLD_GEN_OUTLINE     GABLE  CONCRETE_CEMENT   \n",
       "34487  34489   6.699960  BLD_RESIDENTIAL_TRAILER      FLAT  CONCRETE_CEMENT   \n",
       "\n",
       "       roof_condition   shape_name   \n",
       "34411             NaN  Saint Peter  \\\n",
       "34476             NaN  Saint Peter   \n",
       "34487             NaN  Saint Peter   \n",
       "\n",
       "                                                geometry  \n",
       "34411  MULTIPOLYGON Z (((665583.468 1710787.345 14.89...  \n",
       "34476  MULTIPOLYGON Z (((665565.273 1710859.963 5.669...  \n",
       "34487  MULTIPOLYGON Z (((665534.946 1710892.122 6.222...  "
      ]
     },
     "execution_count": 13,
     "metadata": {},
     "output_type": "execute_result"
    }
   ],
   "source": [
    "in_file = '../data/rasters/DSM/ndsm_DOM.tif'\n",
    "exp_config = '../configs/config_05.yaml'\n",
    "c = config.create_config(exp_config)\n",
    "exp_dir = f\"../exp/{c['exp_name']}/\"\n",
    "classes = geoutils.classes_dict[c['attribute']]\n",
    "print(f\"Config: {c}\")\n",
    "\n",
    "model = pred_utils.load_model(c, exp_dir, n_classes=len(classes))\n",
    "bldgs = pred_utils.generate_predictions(bldgs, model, c, in_file, exp_dir, classes=classes)   \n",
    "bldgs.head(3)"
   ]
  },
  {
   "cell_type": "code",
   "execution_count": 6,
   "id": "cd4209ad-70c1-46a4-84e9-f92488ec2d5e",
   "metadata": {
    "tags": []
   },
   "outputs": [],
   "source": [
    "name = 'Colihaut'\n",
    "out_path = '../output/'\n",
    "if not os.path.isdir(out_path):\n",
    "    os.makedirs(out_path)\n",
    "out_file = os.path.join(out_path, f'{name}-drone-20230616.gpkg')\n",
    "bldgs.to_file(out_file, driver='GPKG')"
   ]
  },
  {
   "cell_type": "markdown",
   "id": "cb2d412b-e299-44a1-963b-5b49910a585d",
   "metadata": {},
   "source": [
    "## Model Evaluation"
   ]
  },
  {
   "cell_type": "code",
   "execution_count": 19,
   "id": "695fc091-3e21-4c89-aa4f-03d591150297",
   "metadata": {
    "tags": []
   },
   "outputs": [
    {
     "name": "stdout",
     "output_type": "stream",
     "text": [
      "Data dimensions: (373, 4)\n",
      "roof_type\n",
      "GABLE      247\n",
      "FLAT        72\n",
      "HIP         44\n",
      "NO_ROOF     10\n",
      "Name: count, dtype: int64\n",
      "roof_material\n",
      "HEALTHY_METAL      187\n",
      "IRREGULAR_METAL    130\n",
      "CONCRETE_CEMENT     46\n",
      "INCOMPLETE          10\n",
      "Name: count, dtype: int64\n"
     ]
    },
    {
     "data": {
      "text/html": [
       "<div>\n",
       "<style scoped>\n",
       "    .dataframe tbody tr th:only-of-type {\n",
       "        vertical-align: middle;\n",
       "    }\n",
       "\n",
       "    .dataframe tbody tr th {\n",
       "        vertical-align: top;\n",
       "    }\n",
       "\n",
       "    .dataframe thead th {\n",
       "        text-align: right;\n",
       "    }\n",
       "</style>\n",
       "<table border=\"1\" class=\"dataframe\">\n",
       "  <thead>\n",
       "    <tr style=\"text-align: right;\">\n",
       "      <th></th>\n",
       "      <th>UID</th>\n",
       "      <th>roof_type</th>\n",
       "      <th>roof_material</th>\n",
       "      <th>geometry</th>\n",
       "    </tr>\n",
       "  </thead>\n",
       "  <tbody>\n",
       "    <tr>\n",
       "      <th>4</th>\n",
       "      <td>34876</td>\n",
       "      <td>NO_ROOF</td>\n",
       "      <td>INCOMPLETE</td>\n",
       "      <td>POLYGON Z ((665060.888 1712479.780 35.786, 665...</td>\n",
       "    </tr>\n",
       "    <tr>\n",
       "      <th>5</th>\n",
       "      <td>34887</td>\n",
       "      <td>GABLE</td>\n",
       "      <td>HEALTHY_METAL</td>\n",
       "      <td>POLYGON Z ((665078.259 1712486.585 32.366, 665...</td>\n",
       "    </tr>\n",
       "    <tr>\n",
       "      <th>6</th>\n",
       "      <td>34890</td>\n",
       "      <td>GABLE</td>\n",
       "      <td>IRREGULAR_METAL</td>\n",
       "      <td>POLYGON Z ((665070.715 1712492.135 27.175, 665...</td>\n",
       "    </tr>\n",
       "  </tbody>\n",
       "</table>\n",
       "</div>"
      ],
      "text/plain": [
       "     UID roof_type    roof_material   \n",
       "4  34876   NO_ROOF       INCOMPLETE  \\\n",
       "5  34887     GABLE    HEALTHY_METAL   \n",
       "6  34890     GABLE  IRREGULAR_METAL   \n",
       "\n",
       "                                            geometry  \n",
       "4  POLYGON Z ((665060.888 1712479.780 35.786, 665...  \n",
       "5  POLYGON Z ((665078.259 1712486.585 32.366, 665...  \n",
       "6  POLYGON Z ((665070.715 1712492.135 27.175, 665...  "
      ]
     },
     "execution_count": 19,
     "metadata": {},
     "output_type": "execute_result"
    }
   ],
   "source": [
    "ytrue_file = '../data/vectors/building_footprints_annotated_COLIHAUT.gpkg'\n",
    "ytrue = gpd.read_file(ytrue_file)[['UID', 'roof_type', 'roof_material', 'geometry']].dropna()\n",
    "ytrue.roof_type = ytrue.roof_type.replace({'PYRAMID': 'HIP', 'HALF_HIP': 'HIP'})\n",
    "print(f\"Data dimensions: {ytrue.shape}\")\n",
    "print(ytrue.roof_type.value_counts())\n",
    "print(ytrue.roof_material.value_counts())\n",
    "ytrue.head(3)"
   ]
  },
  {
   "cell_type": "code",
   "execution_count": 18,
   "id": "76080552-0265-4bc8-9e43-a3b21e1b386e",
   "metadata": {
    "tags": []
   },
   "outputs": [
    {
     "name": "stdout",
     "output_type": "stream",
     "text": [
      "Data dimensions: (373, 4)\n",
      "roof_type\n",
      "GABLE      250\n",
      "HIP         59\n",
      "FLAT        54\n",
      "NO_ROOF     10\n",
      "Name: count, dtype: int64\n",
      "roof_material\n",
      "HEALTHY_METAL      204\n",
      "IRREGULAR_METAL    113\n",
      "CONCRETE_CEMENT     48\n",
      "INCOMPLETE           7\n",
      "BLUE_TARP            1\n",
      "Name: count, dtype: int64\n"
     ]
    },
    {
     "data": {
      "text/html": [
       "<div>\n",
       "<style scoped>\n",
       "    .dataframe tbody tr th:only-of-type {\n",
       "        vertical-align: middle;\n",
       "    }\n",
       "\n",
       "    .dataframe tbody tr th {\n",
       "        vertical-align: top;\n",
       "    }\n",
       "\n",
       "    .dataframe thead th {\n",
       "        text-align: right;\n",
       "    }\n",
       "</style>\n",
       "<table border=\"1\" class=\"dataframe\">\n",
       "  <thead>\n",
       "    <tr style=\"text-align: right;\">\n",
       "      <th></th>\n",
       "      <th>UID</th>\n",
       "      <th>roof_type</th>\n",
       "      <th>roof_material</th>\n",
       "      <th>geometry</th>\n",
       "    </tr>\n",
       "  </thead>\n",
       "  <tbody>\n",
       "    <tr>\n",
       "      <th>0</th>\n",
       "      <td>34876</td>\n",
       "      <td>NO_ROOF</td>\n",
       "      <td>CONCRETE_CEMENT</td>\n",
       "      <td>POLYGON Z ((665060.888 1712479.780 35.786, 665...</td>\n",
       "    </tr>\n",
       "    <tr>\n",
       "      <th>1</th>\n",
       "      <td>34887</td>\n",
       "      <td>GABLE</td>\n",
       "      <td>HEALTHY_METAL</td>\n",
       "      <td>POLYGON Z ((665078.259 1712486.585 32.366, 665...</td>\n",
       "    </tr>\n",
       "    <tr>\n",
       "      <th>2</th>\n",
       "      <td>34890</td>\n",
       "      <td>GABLE</td>\n",
       "      <td>HEALTHY_METAL</td>\n",
       "      <td>POLYGON Z ((665070.715 1712492.135 27.175, 665...</td>\n",
       "    </tr>\n",
       "  </tbody>\n",
       "</table>\n",
       "</div>"
      ],
      "text/plain": [
       "     UID roof_type    roof_material   \n",
       "0  34876   NO_ROOF  CONCRETE_CEMENT  \\\n",
       "1  34887     GABLE    HEALTHY_METAL   \n",
       "2  34890     GABLE    HEALTHY_METAL   \n",
       "\n",
       "                                            geometry  \n",
       "0  POLYGON Z ((665060.888 1712479.780 35.786, 665...  \n",
       "1  POLYGON Z ((665078.259 1712486.585 32.366, 665...  \n",
       "2  POLYGON Z ((665070.715 1712492.135 27.175, 665...  "
      ]
     },
     "execution_count": 18,
     "metadata": {},
     "output_type": "execute_result"
    }
   ],
   "source": [
    "ypred_file = f'../output/{name}-drone-20230616.gpkg'\n",
    "ypred = gpd.read_file(ypred_file)[['UID', 'roof_type', 'roof_material', 'geometry']].dropna()\n",
    "print(f\"Data dimensions: {ypred.shape}\")\n",
    "print(ypred.roof_type.value_counts())\n",
    "print(ypred.roof_material.value_counts())\n",
    "ypred.head(3)"
   ]
  },
  {
   "cell_type": "code",
   "execution_count": 22,
   "id": "567a1950-ada6-4a96-bf3f-473e0d0c5cd8",
   "metadata": {
    "tags": []
   },
   "outputs": [
    {
     "data": {
      "text/plain": [
       "['FLAT', 'GABLE', 'HIP', 'NO_ROOF']"
      ]
     },
     "execution_count": 22,
     "metadata": {},
     "output_type": "execute_result"
    }
   ],
   "source": [
    "classes"
   ]
  },
  {
   "cell_type": "code",
   "execution_count": 26,
   "id": "1fb41696-ef38-4735-877b-f55d2978dd1e",
   "metadata": {
    "tags": []
   },
   "outputs": [
    {
     "data": {
      "text/plain": [
       "{'overall_accuracy': 89.27613941018767,\n",
       " 'balanced_accuracy': 87.45253649858913,\n",
       " 'f1_score_micro': 89.27613941018767,\n",
       " 'f1_score': 86.36588137237665,\n",
       " 'precision_score': 87.00772128060264,\n",
       " 'recall_score': 87.45253649858913,\n",
       " 'f1_per_class': array([80.95238095, 92.95774648, 81.55339806, 90.        ]),\n",
       " 'precision_per_class': array([94.44444444, 92.4       , 71.18644068, 90.        ]),\n",
       " 'recall_per_class': array([70.83333333, 93.52226721, 95.45454545, 90.        ])}"
      ]
     },
     "execution_count": 26,
     "metadata": {},
     "output_type": "execute_result"
    }
   ],
   "source": [
    "attribute = 'roof_type'\n",
    "classes = geoutils.classes_dict[attribute]\n",
    "#cm = eval_utils.get_confusion_matrix(ytrue[attribute], ypred[attribute], classes)\n",
    "eval_utils.evaluate(ytrue[attribute], ypred[attribute])"
   ]
  },
  {
   "cell_type": "markdown",
   "id": "66e9536e-43f0-462b-9420-198b32e09d55",
   "metadata": {},
   "source": [
    "## Data Fusion"
   ]
  },
  {
   "cell_type": "code",
   "execution_count": 8,
   "id": "c9401d87-f819-44f8-9cef-2fd4056e70cd",
   "metadata": {
    "tags": []
   },
   "outputs": [
    {
     "name": "stdout",
     "output_type": "stream",
     "text": [
      "Model file ../exp/exp-09\\best_model.pth successfully loaded.\n",
      "{'data_dir': '../data/rasters/Tiles/ortho/', 'csv_dir': '../data/csv/', 'attribute': 'roof_material', 'exp_name': 'exp-09', 'mode': 'RGB', 'batch_size': 32, 'n_workers': 4, 'n_epochs': 30, 'model': 'efficientnetb0', 'pretrained': True, 'scheduler': 'ReduceLROnPlateau', 'optimizer': 'Adam', 'lr': 1e-05, 'img_size': 224, 'momentum': None, 'gamma': None, 'step_size': None, 'patience': 7, 'dropout': None}\n",
      "Model file ../exp/exp-06\\best_model.pth successfully loaded.\n",
      "{'data_dir': '../data/rasters/Tiles/ndsm/', 'csv_dir': '../data/csv/', 'attribute': 'roof_material', 'exp_name': 'exp-06', 'mode': 'GRAYSCALE', 'batch_size': 32, 'n_workers': 4, 'n_epochs': 30, 'model': 'inceptionv3', 'pretrained': True, 'scheduler': 'ReduceLROnPlateau', 'optimizer': 'Adam', 'lr': 1e-05, 'img_size': 299, 'momentum': None, 'gamma': None, 'step_size': None, 'patience': 7, 'dropout': None}\n"
     ]
    }
   ],
   "source": [
    "c = config.create_config(\"../configs/fusion_06.yaml\")\n",
    "c = {key: '.' + value if 'config' in key or 'dir' in key else value for key, value in c.items()}\n",
    "\n",
    "c1 = config.create_config(c['config1'])\n",
    "c1 = {key: '.' + value if 'dir' in key else value for key, value in c1.items()}\n",
    "classes = geoutils.classes_dict[c1['attribute']]\n",
    "exp_dir = os.path.join(c['exp_dir'], c1['exp_name'])\n",
    "model1 = pred_utils.load_model(c1, exp_dir=exp_dir , n_classes=len(classes))\n",
    "print(c1)\n",
    "\n",
    "c2 = config.create_config(c['config2'])\n",
    "exp_dir = os.path.join(c['exp_dir'], c2['exp_name'])\n",
    "c2 = {key: '.' + value if 'dir' in key else value for key, value in c2.items()}\n",
    "model2 = pred_utils.load_model(c2, exp_dir=exp_dir, n_classes=len(classes))\n",
    "print(c2)"
   ]
  },
  {
   "cell_type": "code",
   "execution_count": 101,
   "id": "343b3b81-e3ec-4383-98dc-e0c6a241797a",
   "metadata": {
    "tags": []
   },
   "outputs": [
    {
     "name": "stderr",
     "output_type": "stream",
     "text": [
      "100%|███████████████| 522/522 [11:29<00:00,  1.32s/it]                                                                 \n"
     ]
    }
   ],
   "source": [
    "source1 = '../data/rasters/Ortho/ortho_DOM.tif'\n",
    "source2 = '../data/rasters/DSM/ndsm_DOM.tif'\n",
    "data = fusion.predict(bldgs, c1, c2, model1, model2, source1=source1, source2=source2)"
   ]
  },
  {
   "cell_type": "code",
   "execution_count": 9,
   "id": "690d0367-3f2e-41af-917b-52e092f02060",
   "metadata": {
    "tags": []
   },
   "outputs": [
    {
     "data": {
      "text/html": [
       "<style>#sk-container-id-2 {color: black;background-color: white;}#sk-container-id-2 pre{padding: 0;}#sk-container-id-2 div.sk-toggleable {background-color: white;}#sk-container-id-2 label.sk-toggleable__label {cursor: pointer;display: block;width: 100%;margin-bottom: 0;padding: 0.3em;box-sizing: border-box;text-align: center;}#sk-container-id-2 label.sk-toggleable__label-arrow:before {content: \"▸\";float: left;margin-right: 0.25em;color: #696969;}#sk-container-id-2 label.sk-toggleable__label-arrow:hover:before {color: black;}#sk-container-id-2 div.sk-estimator:hover label.sk-toggleable__label-arrow:before {color: black;}#sk-container-id-2 div.sk-toggleable__content {max-height: 0;max-width: 0;overflow: hidden;text-align: left;background-color: #f0f8ff;}#sk-container-id-2 div.sk-toggleable__content pre {margin: 0.2em;color: black;border-radius: 0.25em;background-color: #f0f8ff;}#sk-container-id-2 input.sk-toggleable__control:checked~div.sk-toggleable__content {max-height: 200px;max-width: 100%;overflow: auto;}#sk-container-id-2 input.sk-toggleable__control:checked~label.sk-toggleable__label-arrow:before {content: \"▾\";}#sk-container-id-2 div.sk-estimator input.sk-toggleable__control:checked~label.sk-toggleable__label {background-color: #d4ebff;}#sk-container-id-2 div.sk-label input.sk-toggleable__control:checked~label.sk-toggleable__label {background-color: #d4ebff;}#sk-container-id-2 input.sk-hidden--visually {border: 0;clip: rect(1px 1px 1px 1px);clip: rect(1px, 1px, 1px, 1px);height: 1px;margin: -1px;overflow: hidden;padding: 0;position: absolute;width: 1px;}#sk-container-id-2 div.sk-estimator {font-family: monospace;background-color: #f0f8ff;border: 1px dotted black;border-radius: 0.25em;box-sizing: border-box;margin-bottom: 0.5em;}#sk-container-id-2 div.sk-estimator:hover {background-color: #d4ebff;}#sk-container-id-2 div.sk-parallel-item::after {content: \"\";width: 100%;border-bottom: 1px solid gray;flex-grow: 1;}#sk-container-id-2 div.sk-label:hover label.sk-toggleable__label {background-color: #d4ebff;}#sk-container-id-2 div.sk-serial::before {content: \"\";position: absolute;border-left: 1px solid gray;box-sizing: border-box;top: 0;bottom: 0;left: 50%;z-index: 0;}#sk-container-id-2 div.sk-serial {display: flex;flex-direction: column;align-items: center;background-color: white;padding-right: 0.2em;padding-left: 0.2em;position: relative;}#sk-container-id-2 div.sk-item {position: relative;z-index: 1;}#sk-container-id-2 div.sk-parallel {display: flex;align-items: stretch;justify-content: center;background-color: white;position: relative;}#sk-container-id-2 div.sk-item::before, #sk-container-id-2 div.sk-parallel-item::before {content: \"\";position: absolute;border-left: 1px solid gray;box-sizing: border-box;top: 0;bottom: 0;left: 50%;z-index: -1;}#sk-container-id-2 div.sk-parallel-item {display: flex;flex-direction: column;z-index: 1;position: relative;background-color: white;}#sk-container-id-2 div.sk-parallel-item:first-child::after {align-self: flex-end;width: 50%;}#sk-container-id-2 div.sk-parallel-item:last-child::after {align-self: flex-start;width: 50%;}#sk-container-id-2 div.sk-parallel-item:only-child::after {width: 0;}#sk-container-id-2 div.sk-dashed-wrapped {border: 1px dashed gray;margin: 0 0.4em 0.5em 0.4em;box-sizing: border-box;padding-bottom: 0.4em;background-color: white;}#sk-container-id-2 div.sk-label label {font-family: monospace;font-weight: bold;display: inline-block;line-height: 1.2em;}#sk-container-id-2 div.sk-label-container {text-align: center;}#sk-container-id-2 div.sk-container {/* jupyter's `normalize.less` sets `[hidden] { display: none; }` but bootstrap.min.css set `[hidden] { display: none !important; }` so we also need the `!important` here to be able to override the default hidden behavior on the sphinx rendered scikit-learn.org. See: https://github.com/scikit-learn/scikit-learn/issues/21755 */display: inline-block !important;position: relative;}#sk-container-id-2 div.sk-text-repr-fallback {display: none;}</style><div id=\"sk-container-id-2\" class=\"sk-top-container\"><div class=\"sk-text-repr-fallback\"><pre>Pipeline(steps=[(&#x27;scaler&#x27;, MinMaxScaler()), (&#x27;selector&#x27;, None),\n",
       "                (&#x27;model&#x27;,\n",
       "                 RandomForestClassifier(bootstrap=False, criterion=&#x27;entropy&#x27;,\n",
       "                                        max_depth=9, n_estimators=450,\n",
       "                                        n_jobs=-1, random_state=42,\n",
       "                                        verbose=1))])</pre><b>In a Jupyter environment, please rerun this cell to show the HTML representation or trust the notebook. <br />On GitHub, the HTML representation is unable to render, please try loading this page with nbviewer.org.</b></div><div class=\"sk-container\" hidden><div class=\"sk-item sk-dashed-wrapped\"><div class=\"sk-label-container\"><div class=\"sk-label sk-toggleable\"><input class=\"sk-toggleable__control sk-hidden--visually\" id=\"sk-estimator-id-5\" type=\"checkbox\" ><label for=\"sk-estimator-id-5\" class=\"sk-toggleable__label sk-toggleable__label-arrow\">Pipeline</label><div class=\"sk-toggleable__content\"><pre>Pipeline(steps=[(&#x27;scaler&#x27;, MinMaxScaler()), (&#x27;selector&#x27;, None),\n",
       "                (&#x27;model&#x27;,\n",
       "                 RandomForestClassifier(bootstrap=False, criterion=&#x27;entropy&#x27;,\n",
       "                                        max_depth=9, n_estimators=450,\n",
       "                                        n_jobs=-1, random_state=42,\n",
       "                                        verbose=1))])</pre></div></div></div><div class=\"sk-serial\"><div class=\"sk-item\"><div class=\"sk-estimator sk-toggleable\"><input class=\"sk-toggleable__control sk-hidden--visually\" id=\"sk-estimator-id-6\" type=\"checkbox\" ><label for=\"sk-estimator-id-6\" class=\"sk-toggleable__label sk-toggleable__label-arrow\">MinMaxScaler</label><div class=\"sk-toggleable__content\"><pre>MinMaxScaler()</pre></div></div></div><div class=\"sk-item\"><div class=\"sk-estimator sk-toggleable\"><input class=\"sk-toggleable__control sk-hidden--visually\" id=\"sk-estimator-id-7\" type=\"checkbox\" ><label for=\"sk-estimator-id-7\" class=\"sk-toggleable__label sk-toggleable__label-arrow\">None</label><div class=\"sk-toggleable__content\"><pre>None</pre></div></div></div><div class=\"sk-item\"><div class=\"sk-estimator sk-toggleable\"><input class=\"sk-toggleable__control sk-hidden--visually\" id=\"sk-estimator-id-8\" type=\"checkbox\" ><label for=\"sk-estimator-id-8\" class=\"sk-toggleable__label sk-toggleable__label-arrow\">RandomForestClassifier</label><div class=\"sk-toggleable__content\"><pre>RandomForestClassifier(bootstrap=False, criterion=&#x27;entropy&#x27;, max_depth=9,\n",
       "                       n_estimators=450, n_jobs=-1, random_state=42, verbose=1)</pre></div></div></div></div></div></div></div>"
      ],
      "text/plain": [
       "Pipeline(steps=[('scaler', MinMaxScaler()), ('selector', None),\n",
       "                ('model',\n",
       "                 RandomForestClassifier(bootstrap=False, criterion='entropy',\n",
       "                                        max_depth=9, n_estimators=450,\n",
       "                                        n_jobs=-1, random_state=42,\n",
       "                                        verbose=1))])"
      ]
     },
     "execution_count": 9,
     "metadata": {},
     "output_type": "execute_result"
    }
   ],
   "source": [
    "#features = fusion.get_features(c, data)\n",
    "model_file = os.path.join(c['exp_dir'], c['exp_name'], c['mode'], c['model'], 'best_model.pkl')\n",
    "model = joblib.load(model_file)\n",
    "#preds = model.predict(data[features])\n",
    "model"
   ]
  },
  {
   "cell_type": "code",
   "execution_count": 7,
   "id": "b5104f2b-3978-49fc-9b07-b4b6adc42437",
   "metadata": {
    "tags": []
   },
   "outputs": [
    {
     "data": {
      "text/plain": [
       "\u001b[1;31mType:\u001b[0m        Pipeline\n",
       "\u001b[1;31mString form:\u001b[0m\n",
       "Pipeline(steps=[('scaler', MinMaxScaler()), ('selector', None),\n",
       "           ('model',\n",
       "           <...> gression(C=0.1, max_iter=1000, n_jobs=-1,\n",
       "           random_state=42))])\n",
       "\u001b[1;31mLength:\u001b[0m      3\n",
       "\u001b[1;31mFile:\u001b[0m        c:\\users\\issa\\miniconda3\\envs\\gfdrr\\lib\\site-packages\\sklearn\\pipeline.py\n",
       "\u001b[1;31mDocstring:\u001b[0m  \n",
       "Pipeline of transforms with a final estimator.\n",
       "\n",
       "Sequentially apply a list of transforms and a final estimator.\n",
       "Intermediate steps of the pipeline must be 'transforms', that is, they\n",
       "must implement `fit` and `transform` methods.\n",
       "The final estimator only needs to implement `fit`.\n",
       "The transformers in the pipeline can be cached using ``memory`` argument.\n",
       "\n",
       "The purpose of the pipeline is to assemble several steps that can be\n",
       "cross-validated together while setting different parameters. For this, it\n",
       "enables setting parameters of the various steps using their names and the\n",
       "parameter name separated by a `'__'`, as in the example below. A step's\n",
       "estimator may be replaced entirely by setting the parameter with its name\n",
       "to another estimator, or a transformer removed by setting it to\n",
       "`'passthrough'` or `None`.\n",
       "\n",
       "Read more in the :ref:`User Guide <pipeline>`.\n",
       "\n",
       ".. versionadded:: 0.5\n",
       "\n",
       "Parameters\n",
       "----------\n",
       "steps : list of tuple\n",
       "    List of (name, transform) tuples (implementing `fit`/`transform`) that\n",
       "    are chained in sequential order. The last transform must be an\n",
       "    estimator.\n",
       "\n",
       "memory : str or object with the joblib.Memory interface, default=None\n",
       "    Used to cache the fitted transformers of the pipeline. By default,\n",
       "    no caching is performed. If a string is given, it is the path to\n",
       "    the caching directory. Enabling caching triggers a clone of\n",
       "    the transformers before fitting. Therefore, the transformer\n",
       "    instance given to the pipeline cannot be inspected\n",
       "    directly. Use the attribute ``named_steps`` or ``steps`` to\n",
       "    inspect estimators within the pipeline. Caching the\n",
       "    transformers is advantageous when fitting is time consuming.\n",
       "\n",
       "verbose : bool, default=False\n",
       "    If True, the time elapsed while fitting each step will be printed as it\n",
       "    is completed.\n",
       "\n",
       "Attributes\n",
       "----------\n",
       "named_steps : :class:`~sklearn.utils.Bunch`\n",
       "    Dictionary-like object, with the following attributes.\n",
       "    Read-only attribute to access any step parameter by user given name.\n",
       "    Keys are step names and values are steps parameters.\n",
       "\n",
       "classes_ : ndarray of shape (n_classes,)\n",
       "    The classes labels. Only exist if the last step of the pipeline is a\n",
       "    classifier.\n",
       "\n",
       "n_features_in_ : int\n",
       "    Number of features seen during :term:`fit`. Only defined if the\n",
       "    underlying first estimator in `steps` exposes such an attribute\n",
       "    when fit.\n",
       "\n",
       "    .. versionadded:: 0.24\n",
       "\n",
       "feature_names_in_ : ndarray of shape (`n_features_in_`,)\n",
       "    Names of features seen during :term:`fit`. Only defined if the\n",
       "    underlying estimator exposes such an attribute when fit.\n",
       "\n",
       "    .. versionadded:: 1.0\n",
       "\n",
       "See Also\n",
       "--------\n",
       "make_pipeline : Convenience function for simplified pipeline construction.\n",
       "\n",
       "Examples\n",
       "--------\n",
       ">>> from sklearn.svm import SVC\n",
       ">>> from sklearn.preprocessing import StandardScaler\n",
       ">>> from sklearn.datasets import make_classification\n",
       ">>> from sklearn.model_selection import train_test_split\n",
       ">>> from sklearn.pipeline import Pipeline\n",
       ">>> X, y = make_classification(random_state=0)\n",
       ">>> X_train, X_test, y_train, y_test = train_test_split(X, y,\n",
       "...                                                     random_state=0)\n",
       ">>> pipe = Pipeline([('scaler', StandardScaler()), ('svc', SVC())])\n",
       ">>> # The pipeline can be used as any other estimator\n",
       ">>> # and avoids leaking the test set into the train set\n",
       ">>> pipe.fit(X_train, y_train)\n",
       "Pipeline(steps=[('scaler', StandardScaler()), ('svc', SVC())])\n",
       ">>> pipe.score(X_test, y_test)\n",
       "0.88"
      ]
     },
     "metadata": {},
     "output_type": "display_data"
    }
   ],
   "source": [
    "?model."
   ]
  },
  {
   "cell_type": "code",
   "execution_count": 104,
   "id": "42eedc1b-7f38-4c9c-a2dc-700836aed0fd",
   "metadata": {
    "tags": []
   },
   "outputs": [],
   "source": [
    "bldgs['roof_material'] = preds\n",
    "out_path = '../output/'\n",
    "if not os.path.isdir(out_path):\n",
    "    os.makedirs(out_path)\n",
    "out_file = os.path.join(out_path, f'{name}-ortho-20230613.gpkg')\n",
    "bldgs.to_file(out_file, driver='GPKG')"
   ]
  },
  {
   "cell_type": "code",
   "execution_count": 64,
   "id": "5ce6f9f4-940b-4ba9-b5e3-c54eeba0bc7b",
   "metadata": {
    "tags": []
   },
   "outputs": [
    {
     "data": {
      "text/plain": [
       "array(['HEALTHY_METAL'], dtype=object)"
      ]
     },
     "execution_count": 64,
     "metadata": {},
     "output_type": "execute_result"
    }
   ],
   "source": [
    "preds"
   ]
  },
  {
   "cell_type": "code",
   "execution_count": null,
   "id": "84ae3fd6-b286-4a43-afc7-f8e8039c2c60",
   "metadata": {
    "tags": []
   },
   "outputs": [],
   "source": [
    "bldgs[bldgs.UID == 35171]"
   ]
  }
 ],
 "metadata": {
  "kernelspec": {
   "display_name": "GFDRR",
   "language": "python",
   "name": "gfdrr"
  },
  "language_info": {
   "codemirror_mode": {
    "name": "ipython",
    "version": 3
   },
   "file_extension": ".py",
   "mimetype": "text/x-python",
   "name": "python",
   "nbconvert_exporter": "python",
   "pygments_lexer": "ipython3",
   "version": "3.10.10"
  }
 },
 "nbformat": 4,
 "nbformat_minor": 5
}
