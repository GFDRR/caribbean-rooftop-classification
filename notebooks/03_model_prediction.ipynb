{
 "cells": [
  {
   "cell_type": "markdown",
   "id": "b4f80cd1-c02b-4e83-be53-b44042b4e76f",
   "metadata": {},
   "source": [
    "## Imports and Setup"
   ]
  },
  {
   "cell_type": "code",
   "execution_count": 1,
   "id": "669f2a6b-23b9-45ad-b421-7e57054425b6",
   "metadata": {
    "tags": []
   },
   "outputs": [],
   "source": [
    "import os\n",
    "import sys\n",
    "import subprocess\n",
    "sys.path.insert(0, \"../utils/\")\n",
    "import predict\n",
    "import config\n",
    "\n",
    "import pandas as pd\n",
    "import numpy as np\n",
    "import geopandas as gpd\n",
    "from tqdm.notebook import tqdm\n",
    "\n",
    "pd.set_option('mode.chained_assignment', None)\n",
    "\n",
    "%load_ext autoreload\n",
    "%autoreload 2"
   ]
  },
  {
   "cell_type": "markdown",
   "id": "101b4cdd-4ac8-4764-ab45-8765578194ba",
   "metadata": {},
   "source": [
    "## Load Dataset"
   ]
  },
  {
   "cell_type": "code",
   "execution_count": 2,
   "id": "7273e0aa-9051-4838-9894-684e637a0019",
   "metadata": {},
   "outputs": [
    {
     "name": "stdout",
     "output_type": "stream",
     "text": [
      "Data dimensions: (1272, 8)\n"
     ]
    },
    {
     "data": {
      "text/html": [
       "<div>\n",
       "<style scoped>\n",
       "    .dataframe tbody tr th:only-of-type {\n",
       "        vertical-align: middle;\n",
       "    }\n",
       "\n",
       "    .dataframe tbody tr th {\n",
       "        vertical-align: top;\n",
       "    }\n",
       "\n",
       "    .dataframe thead th {\n",
       "        text-align: right;\n",
       "    }\n",
       "</style>\n",
       "<table border=\"1\" class=\"dataframe\">\n",
       "  <thead>\n",
       "    <tr style=\"text-align: right;\">\n",
       "      <th></th>\n",
       "      <th>UID</th>\n",
       "      <th>Elevation</th>\n",
       "      <th>Layer</th>\n",
       "      <th>roof_type</th>\n",
       "      <th>roof_material</th>\n",
       "      <th>roof_condition</th>\n",
       "      <th>shape_name</th>\n",
       "      <th>geometry</th>\n",
       "    </tr>\n",
       "  </thead>\n",
       "  <tbody>\n",
       "    <tr>\n",
       "      <th>34411</th>\n",
       "      <td>34413</td>\n",
       "      <td>17.535746</td>\n",
       "      <td>BLD_GEN_OUTLINE</td>\n",
       "      <td>NaN</td>\n",
       "      <td>NaN</td>\n",
       "      <td>NaN</td>\n",
       "      <td>Saint Peter</td>\n",
       "      <td>MULTIPOLYGON Z (((665583.468 1710787.345 14.89...</td>\n",
       "    </tr>\n",
       "    <tr>\n",
       "      <th>34476</th>\n",
       "      <td>34478</td>\n",
       "      <td>5.934477</td>\n",
       "      <td>BLD_GEN_OUTLINE</td>\n",
       "      <td>NaN</td>\n",
       "      <td>NaN</td>\n",
       "      <td>NaN</td>\n",
       "      <td>Saint Peter</td>\n",
       "      <td>MULTIPOLYGON Z (((665565.273 1710859.963 5.669...</td>\n",
       "    </tr>\n",
       "    <tr>\n",
       "      <th>34487</th>\n",
       "      <td>34489</td>\n",
       "      <td>6.699960</td>\n",
       "      <td>BLD_RESIDENTIAL_TRAILER</td>\n",
       "      <td>NaN</td>\n",
       "      <td>NaN</td>\n",
       "      <td>NaN</td>\n",
       "      <td>Saint Peter</td>\n",
       "      <td>MULTIPOLYGON Z (((665534.946 1710892.122 6.222...</td>\n",
       "    </tr>\n",
       "  </tbody>\n",
       "</table>\n",
       "</div>"
      ],
      "text/plain": [
       "         UID  Elevation                    Layer roof_type roof_material   \n",
       "34411  34413  17.535746          BLD_GEN_OUTLINE       NaN           NaN  \\\n",
       "34476  34478   5.934477          BLD_GEN_OUTLINE       NaN           NaN   \n",
       "34487  34489   6.699960  BLD_RESIDENTIAL_TRAILER       NaN           NaN   \n",
       "\n",
       "       roof_condition   shape_name   \n",
       "34411             NaN  Saint Peter  \\\n",
       "34476             NaN  Saint Peter   \n",
       "34487             NaN  Saint Peter   \n",
       "\n",
       "                                                geometry  \n",
       "34411  MULTIPOLYGON Z (((665583.468 1710787.345 14.89...  \n",
       "34476  MULTIPOLYGON Z (((665565.273 1710859.963 5.669...  \n",
       "34487  MULTIPOLYGON Z (((665534.946 1710892.122 6.222...  "
      ]
     },
     "execution_count": 2,
     "metadata": {},
     "output_type": "execute_result"
    }
   ],
   "source": [
    "name = 'Saint Peter'\n",
    "bldgs_file = f'../data/vectors/building_footprints_annotated_DOM.gpkg'\n",
    "\n",
    "bldgs = gpd.read_file(bldgs_file)\n",
    "bldgs = bldgs[bldgs.shape_name == name]\n",
    "print(f\"Data dimensions: {bldgs.shape}\")\n",
    "bldgs.head(3)"
   ]
  },
  {
   "cell_type": "markdown",
   "id": "ebac135f-bb1c-4527-85a5-cac442ea90e6",
   "metadata": {},
   "source": [
    "## Generate Post-disaster Predictions"
   ]
  },
  {
   "cell_type": "code",
   "execution_count": 5,
   "id": "801e6fb6-6fe3-4e1b-a6e0-1f873b1c4a83",
   "metadata": {},
   "outputs": [
    {
     "name": "stderr",
     "output_type": "stream",
     "text": [
      "C:\\Users\\Issa\\miniconda3\\envs\\GFDRR\\lib\\site-packages\\torchvision\\models\\_utils.py:208: UserWarning: The parameter 'pretrained' is deprecated since 0.13 and may be removed in the future, please use 'weights' instead.\n",
      "  warnings.warn(\n",
      "C:\\Users\\Issa\\miniconda3\\envs\\GFDRR\\lib\\site-packages\\torchvision\\models\\_utils.py:223: UserWarning: Arguments other than a weight enum or `None` for 'weights' are deprecated since 0.13 and may be removed in the future. The current behavior is equivalent to passing `weights=Inception_V3_Weights.IMAGENET1K_V1`. You can also use `weights=Inception_V3_Weights.DEFAULT` to get the most up-to-date weights.\n",
      "  warnings.warn(msg)\n"
     ]
    },
    {
     "name": "stdout",
     "output_type": "stream",
     "text": [
      "Model file ../exp/exp-03/best_model.pth successfully loaded.\n"
     ]
    },
    {
     "name": "stderr",
     "output_type": "stream",
     "text": [
      "100%|██████████████████████████████████████████████████████████████████████████████| 1272/1272 [12:01<00:00,  1.76it/s]\n"
     ]
    },
    {
     "data": {
      "text/html": [
       "<div>\n",
       "<style scoped>\n",
       "    .dataframe tbody tr th:only-of-type {\n",
       "        vertical-align: middle;\n",
       "    }\n",
       "\n",
       "    .dataframe tbody tr th {\n",
       "        vertical-align: top;\n",
       "    }\n",
       "\n",
       "    .dataframe thead th {\n",
       "        text-align: right;\n",
       "    }\n",
       "</style>\n",
       "<table border=\"1\" class=\"dataframe\">\n",
       "  <thead>\n",
       "    <tr style=\"text-align: right;\">\n",
       "      <th></th>\n",
       "      <th>UID</th>\n",
       "      <th>Elevation</th>\n",
       "      <th>Layer</th>\n",
       "      <th>roof_type</th>\n",
       "      <th>roof_material</th>\n",
       "      <th>roof_condition</th>\n",
       "      <th>shape_name</th>\n",
       "      <th>geometry</th>\n",
       "    </tr>\n",
       "  </thead>\n",
       "  <tbody>\n",
       "    <tr>\n",
       "      <th>34411</th>\n",
       "      <td>34413</td>\n",
       "      <td>17.535746</td>\n",
       "      <td>BLD_GEN_OUTLINE</td>\n",
       "      <td>NaN</td>\n",
       "      <td>HEALTHY_METAL</td>\n",
       "      <td>NaN</td>\n",
       "      <td>Saint Peter</td>\n",
       "      <td>MULTIPOLYGON Z (((665583.468 1710787.345 14.89...</td>\n",
       "    </tr>\n",
       "    <tr>\n",
       "      <th>34476</th>\n",
       "      <td>34478</td>\n",
       "      <td>5.934477</td>\n",
       "      <td>BLD_GEN_OUTLINE</td>\n",
       "      <td>NaN</td>\n",
       "      <td>HEALTHY_METAL</td>\n",
       "      <td>NaN</td>\n",
       "      <td>Saint Peter</td>\n",
       "      <td>MULTIPOLYGON Z (((665565.273 1710859.963 5.669...</td>\n",
       "    </tr>\n",
       "    <tr>\n",
       "      <th>34487</th>\n",
       "      <td>34489</td>\n",
       "      <td>6.699960</td>\n",
       "      <td>BLD_RESIDENTIAL_TRAILER</td>\n",
       "      <td>NaN</td>\n",
       "      <td>HEALTHY_METAL</td>\n",
       "      <td>NaN</td>\n",
       "      <td>Saint Peter</td>\n",
       "      <td>MULTIPOLYGON Z (((665534.946 1710892.122 6.222...</td>\n",
       "    </tr>\n",
       "  </tbody>\n",
       "</table>\n",
       "</div>"
      ],
      "text/plain": [
       "         UID  Elevation                    Layer roof_type  roof_material   \n",
       "34411  34413  17.535746          BLD_GEN_OUTLINE       NaN  HEALTHY_METAL  \\\n",
       "34476  34478   5.934477          BLD_GEN_OUTLINE       NaN  HEALTHY_METAL   \n",
       "34487  34489   6.699960  BLD_RESIDENTIAL_TRAILER       NaN  HEALTHY_METAL   \n",
       "\n",
       "       roof_condition   shape_name   \n",
       "34411             NaN  Saint Peter  \\\n",
       "34476             NaN  Saint Peter   \n",
       "34487             NaN  Saint Peter   \n",
       "\n",
       "                                                geometry  \n",
       "34411  MULTIPOLYGON Z (((665583.468 1710787.345 14.89...  \n",
       "34476  MULTIPOLYGON Z (((665565.273 1710859.963 5.669...  \n",
       "34487  MULTIPOLYGON Z (((665534.946 1710892.122 6.222...  "
      ]
     },
     "execution_count": 5,
     "metadata": {},
     "output_type": "execute_result"
    }
   ],
   "source": [
    "in_file = '../data/rasters/Ortho/ortho_DOM.tif'\n",
    "exp_config = '../configs/config_03.yaml'\n",
    "c = config.create_config(exp_config)\n",
    "exp_name = c['exp_name']\n",
    "exp_dir = f'../exp/{exp_name}/'\n",
    "\n",
    "classes = ['BLUE_TARP', 'CONCRETE_CEMENT', 'HEALTHY_METAL', 'INCOMPLETE', 'IRREGULAR_METAL']\n",
    "model = predict.load_model(c['model'], exp_dir, n_classes=len(classes), dropout=c['dropout'])\n",
    "bldgs = predict.generate_predictions(\n",
    "    bldgs, model, in_file, exp_dir, class_name='roof_material', classes=classes, scale=1.5\n",
    ")   \n",
    "bldgs.head(3)"
   ]
  },
  {
   "cell_type": "code",
   "execution_count": 10,
   "id": "ff736b57-c5ac-484f-b10e-930ee6337229",
   "metadata": {
    "tags": []
   },
   "outputs": [
    {
     "name": "stdout",
     "output_type": "stream",
     "text": [
      "Model file ../exp/exp-02/best_model.pth successfully loaded.\n"
     ]
    },
    {
     "data": {
      "application/vnd.jupyter.widget-view+json": {
       "model_id": "429809162cf54d8f90b4bd44623e72bf",
       "version_major": 2,
       "version_minor": 0
      },
      "text/plain": [
       "  0%|          | 0/1272 [00:00<?, ?it/s]"
      ]
     },
     "metadata": {},
     "output_type": "display_data"
    },
    {
     "data": {
      "text/html": [
       "<div>\n",
       "<style scoped>\n",
       "    .dataframe tbody tr th:only-of-type {\n",
       "        vertical-align: middle;\n",
       "    }\n",
       "\n",
       "    .dataframe tbody tr th {\n",
       "        vertical-align: top;\n",
       "    }\n",
       "\n",
       "    .dataframe thead th {\n",
       "        text-align: right;\n",
       "    }\n",
       "</style>\n",
       "<table border=\"1\" class=\"dataframe\">\n",
       "  <thead>\n",
       "    <tr style=\"text-align: right;\">\n",
       "      <th></th>\n",
       "      <th>UID</th>\n",
       "      <th>Elevation</th>\n",
       "      <th>Layer</th>\n",
       "      <th>roof_type</th>\n",
       "      <th>roof_material</th>\n",
       "      <th>roof_condition</th>\n",
       "      <th>shape_name</th>\n",
       "      <th>geometry</th>\n",
       "    </tr>\n",
       "  </thead>\n",
       "  <tbody>\n",
       "    <tr>\n",
       "      <th>34411</th>\n",
       "      <td>34413</td>\n",
       "      <td>17.535746</td>\n",
       "      <td>BLD_GEN_OUTLINE</td>\n",
       "      <td>HIP</td>\n",
       "      <td>HEALTHY_METAL</td>\n",
       "      <td>NaN</td>\n",
       "      <td>Saint Peter</td>\n",
       "      <td>MULTIPOLYGON Z (((665583.468 1710787.345 14.89...</td>\n",
       "    </tr>\n",
       "    <tr>\n",
       "      <th>34476</th>\n",
       "      <td>34478</td>\n",
       "      <td>5.934477</td>\n",
       "      <td>BLD_GEN_OUTLINE</td>\n",
       "      <td>GABLE</td>\n",
       "      <td>HEALTHY_METAL</td>\n",
       "      <td>NaN</td>\n",
       "      <td>Saint Peter</td>\n",
       "      <td>MULTIPOLYGON Z (((665565.273 1710859.963 5.669...</td>\n",
       "    </tr>\n",
       "    <tr>\n",
       "      <th>34487</th>\n",
       "      <td>34489</td>\n",
       "      <td>6.699960</td>\n",
       "      <td>BLD_RESIDENTIAL_TRAILER</td>\n",
       "      <td>GABLE</td>\n",
       "      <td>HEALTHY_METAL</td>\n",
       "      <td>NaN</td>\n",
       "      <td>Saint Peter</td>\n",
       "      <td>MULTIPOLYGON Z (((665534.946 1710892.122 6.222...</td>\n",
       "    </tr>\n",
       "  </tbody>\n",
       "</table>\n",
       "</div>"
      ],
      "text/plain": [
       "         UID  Elevation                    Layer roof_type  roof_material   \n",
       "34411  34413  17.535746          BLD_GEN_OUTLINE       HIP  HEALTHY_METAL  \\\n",
       "34476  34478   5.934477          BLD_GEN_OUTLINE     GABLE  HEALTHY_METAL   \n",
       "34487  34489   6.699960  BLD_RESIDENTIAL_TRAILER     GABLE  HEALTHY_METAL   \n",
       "\n",
       "       roof_condition   shape_name   \n",
       "34411             NaN  Saint Peter  \\\n",
       "34476             NaN  Saint Peter   \n",
       "34487             NaN  Saint Peter   \n",
       "\n",
       "                                                geometry  \n",
       "34411  MULTIPOLYGON Z (((665583.468 1710787.345 14.89...  \n",
       "34476  MULTIPOLYGON Z (((665565.273 1710859.963 5.669...  \n",
       "34487  MULTIPOLYGON Z (((665534.946 1710892.122 6.222...  "
      ]
     },
     "execution_count": 10,
     "metadata": {},
     "output_type": "execute_result"
    }
   ],
   "source": [
    "in_file = '../data/rasters/Ortho/ortho_DOM.tif'\n",
    "exp_config = '../configs/config_03.yaml'\n",
    "c = config.create_config(exp_config)\n",
    "exp_name = c['exp_name']\n",
    "exp_dir = f'../exp/{exp_name}/'\n",
    "\n",
    "classes = ['FLAT', 'GABLE', 'HIP', 'NO_ROOF']\n",
    "model = predict.load_model(c['model'], exp_dir, n_classes=len(classes), dropout=c['dropout'])\n",
    "bldgs = predict.generate_predictions(\n",
    "    bldgs, model, in_file, exp_dir, class_name='roof_type', classes=classes, scale=1.5\n",
    ")\n",
    "bldgs.head(3)"
   ]
  },
  {
   "cell_type": "code",
   "execution_count": 11,
   "id": "eea61d71-e42c-44dc-ab17-4ee120643cf9",
   "metadata": {
    "tags": []
   },
   "outputs": [
    {
     "name": "stdout",
     "output_type": "stream",
     "text": [
      "{'data_dir': './data/rasters/Tiles/ndsm/', 'csv_dir': './data/csv/', 'attribute': 'roof_type', 'mode': 'GRAYSCALE', 'exp_name': 'exp-05', 'batch_size': 32, 'n_workers': 4, 'n_epochs': 30, 'model': 'resnet50', 'pretrained': True, 'scheduler': 'ReduceLROnPlateau', 'optimizer': 'Adam', 'lr': 1e-05, 'img_size': 224, 'momentum': None, 'gamma': None, 'step_size': None, 'patience': 7, 'dropout': 0.5}\n",
      "Model file ../exp/exp-05/best_model.pth successfully loaded.\n"
     ]
    },
    {
     "name": "stderr",
     "output_type": "stream",
     "text": [
      "100%|██████████████████████████████████████████████████████████████████████████████| 1272/1272 [11:07<00:00,  1.91it/s]\n"
     ]
    },
    {
     "data": {
      "text/html": [
       "<div>\n",
       "<style scoped>\n",
       "    .dataframe tbody tr th:only-of-type {\n",
       "        vertical-align: middle;\n",
       "    }\n",
       "\n",
       "    .dataframe tbody tr th {\n",
       "        vertical-align: top;\n",
       "    }\n",
       "\n",
       "    .dataframe thead th {\n",
       "        text-align: right;\n",
       "    }\n",
       "</style>\n",
       "<table border=\"1\" class=\"dataframe\">\n",
       "  <thead>\n",
       "    <tr style=\"text-align: right;\">\n",
       "      <th></th>\n",
       "      <th>UID</th>\n",
       "      <th>Elevation</th>\n",
       "      <th>Layer</th>\n",
       "      <th>roof_type</th>\n",
       "      <th>roof_material</th>\n",
       "      <th>roof_condition</th>\n",
       "      <th>shape_name</th>\n",
       "      <th>geometry</th>\n",
       "    </tr>\n",
       "  </thead>\n",
       "  <tbody>\n",
       "    <tr>\n",
       "      <th>34411</th>\n",
       "      <td>34413</td>\n",
       "      <td>17.535746</td>\n",
       "      <td>BLD_GEN_OUTLINE</td>\n",
       "      <td>HIP</td>\n",
       "      <td>NaN</td>\n",
       "      <td>NaN</td>\n",
       "      <td>Saint Peter</td>\n",
       "      <td>MULTIPOLYGON Z (((665583.468 1710787.345 14.89...</td>\n",
       "    </tr>\n",
       "    <tr>\n",
       "      <th>34476</th>\n",
       "      <td>34478</td>\n",
       "      <td>5.934477</td>\n",
       "      <td>BLD_GEN_OUTLINE</td>\n",
       "      <td>GABLE</td>\n",
       "      <td>NaN</td>\n",
       "      <td>NaN</td>\n",
       "      <td>Saint Peter</td>\n",
       "      <td>MULTIPOLYGON Z (((665565.273 1710859.963 5.669...</td>\n",
       "    </tr>\n",
       "    <tr>\n",
       "      <th>34487</th>\n",
       "      <td>34489</td>\n",
       "      <td>6.699960</td>\n",
       "      <td>BLD_RESIDENTIAL_TRAILER</td>\n",
       "      <td>FLAT</td>\n",
       "      <td>NaN</td>\n",
       "      <td>NaN</td>\n",
       "      <td>Saint Peter</td>\n",
       "      <td>MULTIPOLYGON Z (((665534.946 1710892.122 6.222...</td>\n",
       "    </tr>\n",
       "  </tbody>\n",
       "</table>\n",
       "</div>"
      ],
      "text/plain": [
       "         UID  Elevation                    Layer roof_type roof_material   \n",
       "34411  34413  17.535746          BLD_GEN_OUTLINE       HIP           NaN  \\\n",
       "34476  34478   5.934477          BLD_GEN_OUTLINE     GABLE           NaN   \n",
       "34487  34489   6.699960  BLD_RESIDENTIAL_TRAILER      FLAT           NaN   \n",
       "\n",
       "       roof_condition   shape_name   \n",
       "34411             NaN  Saint Peter  \\\n",
       "34476             NaN  Saint Peter   \n",
       "34487             NaN  Saint Peter   \n",
       "\n",
       "                                                geometry  \n",
       "34411  MULTIPOLYGON Z (((665583.468 1710787.345 14.89...  \n",
       "34476  MULTIPOLYGON Z (((665565.273 1710859.963 5.669...  \n",
       "34487  MULTIPOLYGON Z (((665534.946 1710892.122 6.222...  "
      ]
     },
     "execution_count": 11,
     "metadata": {},
     "output_type": "execute_result"
    }
   ],
   "source": [
    "in_file = '../data/rasters/DSM/ndsm_DOM.tif'\n",
    "exp_config = '../configs/config_05.yaml'\n",
    "c = config.create_config(exp_config)\n",
    "exp_name = c['exp_name']\n",
    "exp_dir = f'../exp/{exp_name}/'\n",
    "print(c)\n",
    "\n",
    "classes = ['FLAT', 'GABLE', 'HIP', 'NO_ROOF']\n",
    "model = predict.load_model(c['model'], exp_dir, n_classes=len(classes), dropout=c['dropout'], mode=c['mode'])\n",
    "bldgs = predict.generate_predictions(\n",
    "    bldgs, model, c, in_file, exp_dir, class_name='roof_type', classes=classes, scale=1.5\n",
    ")\n",
    "bldgs.head(3)"
   ]
  },
  {
   "cell_type": "code",
   "execution_count": 12,
   "id": "6c231200-d1ad-48eb-94d5-fd51c2cb368f",
   "metadata": {
    "tags": []
   },
   "outputs": [],
   "source": [
    "out_path = '../output/'\n",
    "if not os.path.isdir(out_path):\n",
    "    os.makedirs(out_path)\n",
    "out_file = os.path.join(out_path, f'{name}-ortho-lidar.gpkg')\n",
    "bldgs.to_file(out_file, driver='GPKG')"
   ]
  },
  {
   "cell_type": "markdown",
   "id": "e4deb8ff-02b6-4075-8ef4-3a56a62f9502",
   "metadata": {},
   "source": [
    "## Generate Pre-disaster Predictions"
   ]
  },
  {
   "cell_type": "code",
   "execution_count": 9,
   "id": "8deca654-48af-4d21-9953-2409c21a5a64",
   "metadata": {
    "tags": []
   },
   "outputs": [
    {
     "name": "stderr",
     "output_type": "stream",
     "text": [
      "C:\\Users\\Issa\\miniconda3\\envs\\GFDRR\\lib\\site-packages\\torchvision\\models\\_utils.py:208: UserWarning: The parameter 'pretrained' is deprecated since 0.13 and may be removed in the future, please use 'weights' instead.\n",
      "  warnings.warn(\n",
      "C:\\Users\\Issa\\miniconda3\\envs\\GFDRR\\lib\\site-packages\\torchvision\\models\\_utils.py:223: UserWarning: Arguments other than a weight enum or `None` for 'weights' are deprecated since 0.13 and may be removed in the future. The current behavior is equivalent to passing `weights=Inception_V3_Weights.IMAGENET1K_V1`. You can also use `weights=Inception_V3_Weights.DEFAULT` to get the most up-to-date weights.\n",
      "  warnings.warn(msg)\n"
     ]
    },
    {
     "name": "stdout",
     "output_type": "stream",
     "text": [
      "Model file ../exp/exp-03/best_model.pth successfully loaded.\n"
     ]
    },
    {
     "name": "stderr",
     "output_type": "stream",
     "text": [
      "100%|██████████████████████████████████████████████████████████████████████████████| 1272/1272 [11:55<00:00,  1.78it/s]\n"
     ]
    },
    {
     "data": {
      "text/html": [
       "<div>\n",
       "<style scoped>\n",
       "    .dataframe tbody tr th:only-of-type {\n",
       "        vertical-align: middle;\n",
       "    }\n",
       "\n",
       "    .dataframe tbody tr th {\n",
       "        vertical-align: top;\n",
       "    }\n",
       "\n",
       "    .dataframe thead th {\n",
       "        text-align: right;\n",
       "    }\n",
       "</style>\n",
       "<table border=\"1\" class=\"dataframe\">\n",
       "  <thead>\n",
       "    <tr style=\"text-align: right;\">\n",
       "      <th></th>\n",
       "      <th>UID</th>\n",
       "      <th>Elevation</th>\n",
       "      <th>Layer</th>\n",
       "      <th>roof_type</th>\n",
       "      <th>roof_material</th>\n",
       "      <th>roof_condition</th>\n",
       "      <th>shape_name</th>\n",
       "      <th>geometry</th>\n",
       "    </tr>\n",
       "  </thead>\n",
       "  <tbody>\n",
       "    <tr>\n",
       "      <th>34411</th>\n",
       "      <td>34413</td>\n",
       "      <td>17.535746</td>\n",
       "      <td>BLD_GEN_OUTLINE</td>\n",
       "      <td>NaN</td>\n",
       "      <td>INCOMPLETE</td>\n",
       "      <td>NaN</td>\n",
       "      <td>Saint Peter</td>\n",
       "      <td>MULTIPOLYGON Z (((665583.468 1710787.345 14.89...</td>\n",
       "    </tr>\n",
       "    <tr>\n",
       "      <th>34476</th>\n",
       "      <td>34478</td>\n",
       "      <td>5.934477</td>\n",
       "      <td>BLD_GEN_OUTLINE</td>\n",
       "      <td>NaN</td>\n",
       "      <td>INCOMPLETE</td>\n",
       "      <td>NaN</td>\n",
       "      <td>Saint Peter</td>\n",
       "      <td>MULTIPOLYGON Z (((665565.273 1710859.963 5.669...</td>\n",
       "    </tr>\n",
       "    <tr>\n",
       "      <th>34487</th>\n",
       "      <td>34489</td>\n",
       "      <td>6.699960</td>\n",
       "      <td>BLD_RESIDENTIAL_TRAILER</td>\n",
       "      <td>NaN</td>\n",
       "      <td>INCOMPLETE</td>\n",
       "      <td>NaN</td>\n",
       "      <td>Saint Peter</td>\n",
       "      <td>MULTIPOLYGON Z (((665534.946 1710892.122 6.222...</td>\n",
       "    </tr>\n",
       "  </tbody>\n",
       "</table>\n",
       "</div>"
      ],
      "text/plain": [
       "         UID  Elevation                    Layer roof_type roof_material   \n",
       "34411  34413  17.535746          BLD_GEN_OUTLINE       NaN    INCOMPLETE  \\\n",
       "34476  34478   5.934477          BLD_GEN_OUTLINE       NaN    INCOMPLETE   \n",
       "34487  34489   6.699960  BLD_RESIDENTIAL_TRAILER       NaN    INCOMPLETE   \n",
       "\n",
       "       roof_condition   shape_name   \n",
       "34411             NaN  Saint Peter  \\\n",
       "34476             NaN  Saint Peter   \n",
       "34487             NaN  Saint Peter   \n",
       "\n",
       "                                                geometry  \n",
       "34411  MULTIPOLYGON Z (((665583.468 1710787.345 14.89...  \n",
       "34476  MULTIPOLYGON Z (((665565.273 1710859.963 5.669...  \n",
       "34487  MULTIPOLYGON Z (((665534.946 1710892.122 6.222...  "
      ]
     },
     "execution_count": 9,
     "metadata": {},
     "output_type": "execute_result"
    }
   ],
   "source": [
    "in_file = '../data/rasters/Drone/drone_colihaut_DOM.tif'\n",
    "exp_config = '../configs/config_03.yaml'\n",
    "c = config.create_config(exp_config)\n",
    "exp_name = c['exp_name']\n",
    "exp_dir = f'../exp/{exp_name}/'\n",
    "\n",
    "classes = ['BLUE_TARP', 'CONCRETE', 'HEALTHY_METAL', 'INCOMPLETE', 'IRREGULAR_METAL']\n",
    "model = predict.load_model(c['model'], exp_dir, n_classes=len(classes), dropout=c['dropout'])\n",
    "bldgs = predict.generate_predictions(\n",
    "    bldgs, model, in_file, exp_dir, class_name='roof_material', classes=classes, scale=1.5\n",
    ")   \n",
    "bldgs.head(3)"
   ]
  },
  {
   "cell_type": "code",
   "execution_count": 13,
   "id": "cbf20b01-6bd6-46ed-aa2a-6d209984a961",
   "metadata": {
    "tags": []
   },
   "outputs": [
    {
     "name": "stdout",
     "output_type": "stream",
     "text": [
      "Model file ../exp/exp-02/best_model.pth successfully loaded.\n"
     ]
    },
    {
     "data": {
      "application/vnd.jupyter.widget-view+json": {
       "model_id": "a30435c20bd64fe5b139354fb5b8889f",
       "version_major": 2,
       "version_minor": 0
      },
      "text/plain": [
       "  0%|          | 0/1272 [00:00<?, ?it/s]"
      ]
     },
     "metadata": {},
     "output_type": "display_data"
    },
    {
     "data": {
      "text/html": [
       "<div>\n",
       "<style scoped>\n",
       "    .dataframe tbody tr th:only-of-type {\n",
       "        vertical-align: middle;\n",
       "    }\n",
       "\n",
       "    .dataframe tbody tr th {\n",
       "        vertical-align: top;\n",
       "    }\n",
       "\n",
       "    .dataframe thead th {\n",
       "        text-align: right;\n",
       "    }\n",
       "</style>\n",
       "<table border=\"1\" class=\"dataframe\">\n",
       "  <thead>\n",
       "    <tr style=\"text-align: right;\">\n",
       "      <th></th>\n",
       "      <th>UID</th>\n",
       "      <th>Elevation</th>\n",
       "      <th>Layer</th>\n",
       "      <th>roof_type</th>\n",
       "      <th>roof_material</th>\n",
       "      <th>roof_condition</th>\n",
       "      <th>shape_name</th>\n",
       "      <th>geometry</th>\n",
       "    </tr>\n",
       "  </thead>\n",
       "  <tbody>\n",
       "    <tr>\n",
       "      <th>34411</th>\n",
       "      <td>34413</td>\n",
       "      <td>17.535746</td>\n",
       "      <td>BLD_GEN_OUTLINE</td>\n",
       "      <td>HIP</td>\n",
       "      <td>IRREGULAR_METAL</td>\n",
       "      <td>NaN</td>\n",
       "      <td>Saint Peter</td>\n",
       "      <td>MULTIPOLYGON Z (((665583.468 1710787.345 14.89...</td>\n",
       "    </tr>\n",
       "    <tr>\n",
       "      <th>34476</th>\n",
       "      <td>34478</td>\n",
       "      <td>5.934477</td>\n",
       "      <td>BLD_GEN_OUTLINE</td>\n",
       "      <td>HIP</td>\n",
       "      <td>IRREGULAR_METAL</td>\n",
       "      <td>NaN</td>\n",
       "      <td>Saint Peter</td>\n",
       "      <td>MULTIPOLYGON Z (((665565.273 1710859.963 5.669...</td>\n",
       "    </tr>\n",
       "    <tr>\n",
       "      <th>34487</th>\n",
       "      <td>34489</td>\n",
       "      <td>6.699960</td>\n",
       "      <td>BLD_RESIDENTIAL_TRAILER</td>\n",
       "      <td>HIP</td>\n",
       "      <td>IRREGULAR_METAL</td>\n",
       "      <td>NaN</td>\n",
       "      <td>Saint Peter</td>\n",
       "      <td>MULTIPOLYGON Z (((665534.946 1710892.122 6.222...</td>\n",
       "    </tr>\n",
       "  </tbody>\n",
       "</table>\n",
       "</div>"
      ],
      "text/plain": [
       "         UID  Elevation                    Layer roof_type    roof_material   \n",
       "34411  34413  17.535746          BLD_GEN_OUTLINE       HIP  IRREGULAR_METAL  \\\n",
       "34476  34478   5.934477          BLD_GEN_OUTLINE       HIP  IRREGULAR_METAL   \n",
       "34487  34489   6.699960  BLD_RESIDENTIAL_TRAILER       HIP  IRREGULAR_METAL   \n",
       "\n",
       "       roof_condition   shape_name   \n",
       "34411             NaN  Saint Peter  \\\n",
       "34476             NaN  Saint Peter   \n",
       "34487             NaN  Saint Peter   \n",
       "\n",
       "                                                geometry  \n",
       "34411  MULTIPOLYGON Z (((665583.468 1710787.345 14.89...  \n",
       "34476  MULTIPOLYGON Z (((665565.273 1710859.963 5.669...  \n",
       "34487  MULTIPOLYGON Z (((665534.946 1710892.122 6.222...  "
      ]
     },
     "execution_count": 13,
     "metadata": {},
     "output_type": "execute_result"
    }
   ],
   "source": [
    "exp_config = '../configs/config_02.yaml'\n",
    "c = config.create_config(exp_config)\n",
    "exp_name = c['exp_name']\n",
    "exp_dir = f'../exp/{exp_name}/'\n",
    "\n",
    "classes = ['FLAT', 'GABLE', 'HIP', 'NO_ROOF']\n",
    "model = predict.load_model(c['model'], exp_dir, n_classes=len(classes), dropout=c['dropout'])\n",
    "bldgs = predict.generate_predictions(\n",
    "    bldgs, model, in_file, exp_dir, class_name='roof_type', classes=classes, scale=1.5\n",
    ")\n",
    "bldgs.head(3)"
   ]
  },
  {
   "cell_type": "code",
   "execution_count": 10,
   "id": "cd4209ad-70c1-46a4-84e9-f92488ec2d5e",
   "metadata": {
    "tags": []
   },
   "outputs": [],
   "source": [
    "out_path = '../output/'\n",
    "if not os.path.isdir(out_path):\n",
    "    os.makedirs(out_path)\n",
    "out_file = os.path.join(out_path, f'{name}-drone.gpkg')\n",
    "bldgs.to_file(out_file, driver='GPKG')"
   ]
  }
 ],
 "metadata": {
  "kernelspec": {
   "display_name": "GFDRR",
   "language": "python",
   "name": "gfdrr"
  },
  "language_info": {
   "codemirror_mode": {
    "name": "ipython",
    "version": 3
   },
   "file_extension": ".py",
   "mimetype": "text/x-python",
   "name": "python",
   "nbconvert_exporter": "python",
   "pygments_lexer": "ipython3",
   "version": "3.10.10"
  }
 },
 "nbformat": 4,
 "nbformat_minor": 5
}
