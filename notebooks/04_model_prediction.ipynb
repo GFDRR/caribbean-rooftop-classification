{
 "cells": [
  {
   "cell_type": "markdown",
   "id": "b4f80cd1-c02b-4e83-be53-b44042b4e76f",
   "metadata": {},
   "source": [
    "## Imports and Setup"
   ]
  },
  {
   "cell_type": "code",
   "execution_count": 1,
   "id": "21005e6c-9716-4ad6-bcb8-211a090f12eb",
   "metadata": {
    "tags": []
   },
   "outputs": [
    {
     "name": "stderr",
     "output_type": "stream",
     "text": [
      "C:\\Users\\Issa\\miniconda3\\envs\\GFDRR\\lib\\site-packages\\groundingdino\\models\\GroundingDINO\\ms_deform_attn.py:31: UserWarning: Failed to load custom C++ ops. Running on CPU mode Only!\n",
      "  warnings.warn(\"Failed to load custom C++ ops. Running on CPU mode Only!\")\n"
     ]
    }
   ],
   "source": [
    "import os\n",
    "import sys\n",
    "import joblib\n",
    "import subprocess\n",
    "\n",
    "import pandas as pd\n",
    "import numpy as np\n",
    "import geopandas as gpd\n",
    "from tqdm.notebook import tqdm\n",
    "\n",
    "sys.path.insert(0, \"../utils/\")\n",
    "import pred_utils\n",
    "import config\n",
    "import geoutils\n",
    "import eval_utils\n",
    "import fusion_utils\n",
    "\n",
    "import logging\n",
    "logging.basicConfig(level=logging.INFO)\n",
    "pd.set_option('mode.chained_assignment', None)\n",
    "\n",
    "%load_ext autoreload\n",
    "%autoreload 2"
   ]
  },
  {
   "cell_type": "markdown",
   "id": "ebac135f-bb1c-4527-85a5-cac442ea90e6",
   "metadata": {},
   "source": [
    "## Generate Post-disaster Predictions"
   ]
  },
  {
   "cell_type": "code",
   "execution_count": 2,
   "id": "7273e0aa-9051-4838-9894-684e637a0019",
   "metadata": {},
   "outputs": [
    {
     "name": "stderr",
     "output_type": "stream",
     "text": [
      "ERROR:fiona._env:Pointer 'hGeom' is NULL in 'OGR_G_GetGeometryType'.\n",
      "\n"
     ]
    },
    {
     "name": "stdout",
     "output_type": "stream",
     "text": [
      "(69296, 2)\n"
     ]
    },
    {
     "data": {
      "text/html": [
       "<div>\n",
       "<style scoped>\n",
       "    .dataframe tbody tr th:only-of-type {\n",
       "        vertical-align: middle;\n",
       "    }\n",
       "\n",
       "    .dataframe tbody tr th {\n",
       "        vertical-align: top;\n",
       "    }\n",
       "\n",
       "    .dataframe thead th {\n",
       "        text-align: right;\n",
       "    }\n",
       "</style>\n",
       "<table border=\"1\" class=\"dataframe\">\n",
       "  <thead>\n",
       "    <tr style=\"text-align: right;\">\n",
       "      <th></th>\n",
       "      <th>UID</th>\n",
       "      <th>geometry</th>\n",
       "    </tr>\n",
       "  </thead>\n",
       "  <tbody>\n",
       "    <tr>\n",
       "      <th>0</th>\n",
       "      <td>0.0</td>\n",
       "      <td>MULTIPOLYGON Z (((717760.366 1520511.462 0.000...</td>\n",
       "    </tr>\n",
       "    <tr>\n",
       "      <th>1</th>\n",
       "      <td>1.0</td>\n",
       "      <td>MULTIPOLYGON Z (((717797.038 1520510.844 0.000...</td>\n",
       "    </tr>\n",
       "    <tr>\n",
       "      <th>2</th>\n",
       "      <td>2.0</td>\n",
       "      <td>MULTIPOLYGON Z (((717926.809 1520525.188 0.000...</td>\n",
       "    </tr>\n",
       "  </tbody>\n",
       "</table>\n",
       "</div>"
      ],
      "text/plain": [
       "   UID                                           geometry\n",
       "0  0.0  MULTIPOLYGON Z (((717760.366 1520511.462 0.000...\n",
       "1  1.0  MULTIPOLYGON Z (((717797.038 1520510.844 0.000...\n",
       "2  2.0  MULTIPOLYGON Z (((717926.809 1520525.188 0.000..."
      ]
     },
     "execution_count": 2,
     "metadata": {},
     "output_type": "execute_result"
    }
   ],
   "source": [
    "filename = '../data/vectors/bldgs_ortho_LCA.gpkg'\n",
    "bldgs = gpd.read_file(filename).reset_index(drop=True)[['UID', 'geometry']].dropna()\n",
    "print(bldgs.shape)\n",
    "bldgs.head(3)"
   ]
  },
  {
   "cell_type": "code",
   "execution_count": 3,
   "id": "4c21818e-c742-4986-ab6d-be28d76fc5b0",
   "metadata": {
    "tags": []
   },
   "outputs": [
    {
     "name": "stderr",
     "output_type": "stream",
     "text": [
      "INFO:root:Config: {'attribute': 'roof_material', 'data': 'RGB_LCA', 'batch_size': 32, 'n_workers': 4, 'n_epochs': 60, 'model': 'inceptionv3', 'pretrained': True, 'resampler': 'RandomOverSampler', 'scheduler': 'ReduceLROnPlateau', 'optimizer': 'Adam', 'label_smoothing': 0.1, 'lr': 1e-05, 'img_size': 299, 'momentum': None, 'gamma': None, 'step_size': None, 'patience': 7, 'dropout': None, 'config_name': 'cnn-roof_material-inceptionv3-RGB_LCA', 'rasters_dir': '../data/rasters/', 'vectors_dir': '../data/vectors/', 'tile_dir': '../data/tiles/', 'csv_dir': '../data/csv/', 'out_dir': '../outputs/', 'exp_dir': '../exp/', 'log_dir': '../logs/'}\n",
      "INFO:root:Model file ../exp/cnn-roof_material-inceptionv3-RGB_LCA\\cnn-roof_material-inceptionv3-RGB_LCA.pth successfully loaded.\n",
      "100%|███████████████| 69296/69296 [4:59:40<00:00,  3.85it/s]                                                           \n"
     ]
    },
    {
     "data": {
      "text/html": [
       "<div>\n",
       "<style scoped>\n",
       "    .dataframe tbody tr th:only-of-type {\n",
       "        vertical-align: middle;\n",
       "    }\n",
       "\n",
       "    .dataframe tbody tr th {\n",
       "        vertical-align: top;\n",
       "    }\n",
       "\n",
       "    .dataframe thead th {\n",
       "        text-align: right;\n",
       "    }\n",
       "</style>\n",
       "<table border=\"1\" class=\"dataframe\">\n",
       "  <thead>\n",
       "    <tr style=\"text-align: right;\">\n",
       "      <th></th>\n",
       "      <th>UID</th>\n",
       "      <th>geometry</th>\n",
       "      <th>ROOF_MATERIAL</th>\n",
       "      <th>ROOF_MATERIAL_PROB</th>\n",
       "      <th>INCOMPLETE_PROB</th>\n",
       "      <th>CONCRETE_CEMENT_PROB</th>\n",
       "      <th>HEALTHY_METAL_PROB</th>\n",
       "      <th>IRREGULAR_METAL_PROB</th>\n",
       "    </tr>\n",
       "  </thead>\n",
       "  <tbody>\n",
       "    <tr>\n",
       "      <th>0</th>\n",
       "      <td>0.0</td>\n",
       "      <td>MULTIPOLYGON Z (((717760.366 1520511.462 0.000...</td>\n",
       "      <td>HEALTHY_METAL</td>\n",
       "      <td>0.628981</td>\n",
       "      <td>0.029425</td>\n",
       "      <td>0.046993</td>\n",
       "      <td>0.628981</td>\n",
       "      <td>0.294601</td>\n",
       "    </tr>\n",
       "    <tr>\n",
       "      <th>1</th>\n",
       "      <td>1.0</td>\n",
       "      <td>MULTIPOLYGON Z (((717797.038 1520510.844 0.000...</td>\n",
       "      <td>INCOMPLETE</td>\n",
       "      <td>0.904224</td>\n",
       "      <td>0.904224</td>\n",
       "      <td>0.027334</td>\n",
       "      <td>0.034043</td>\n",
       "      <td>0.034399</td>\n",
       "    </tr>\n",
       "    <tr>\n",
       "      <th>2</th>\n",
       "      <td>2.0</td>\n",
       "      <td>MULTIPOLYGON Z (((717926.809 1520525.188 0.000...</td>\n",
       "      <td>HEALTHY_METAL</td>\n",
       "      <td>0.916309</td>\n",
       "      <td>0.029696</td>\n",
       "      <td>0.031742</td>\n",
       "      <td>0.916309</td>\n",
       "      <td>0.022253</td>\n",
       "    </tr>\n",
       "  </tbody>\n",
       "</table>\n",
       "</div>"
      ],
      "text/plain": [
       "   UID                                           geometry  ROOF_MATERIAL   \n",
       "0  0.0  MULTIPOLYGON Z (((717760.366 1520511.462 0.000...  HEALTHY_METAL  \\\n",
       "1  1.0  MULTIPOLYGON Z (((717797.038 1520510.844 0.000...     INCOMPLETE   \n",
       "2  2.0  MULTIPOLYGON Z (((717926.809 1520525.188 0.000...  HEALTHY_METAL   \n",
       "\n",
       "   ROOF_MATERIAL_PROB  INCOMPLETE_PROB  CONCRETE_CEMENT_PROB   \n",
       "0            0.628981         0.029425              0.046993  \\\n",
       "1            0.904224         0.904224              0.027334   \n",
       "2            0.916309         0.029696              0.031742   \n",
       "\n",
       "   HEALTHY_METAL_PROB  IRREGULAR_METAL_PROB  \n",
       "0            0.628981              0.294601  \n",
       "1            0.034043              0.034399  \n",
       "2            0.916309              0.022253  "
      ]
     },
     "execution_count": 3,
     "metadata": {},
     "output_type": "execute_result"
    }
   ],
   "source": [
    "in_file = '../data/rasters/ortho/ortho_LCA.tif'\n",
    "exp_config = '../configs/cnn/cnn-roof_material-inceptionv3-RGB_LCA.yaml'\n",
    "c = config.load_config(exp_config, prefix='.')\n",
    "bldgs = pred_utils.predict_image(bldgs, in_file, exp_config, prefix='.')\n",
    "bldgs.head(3)"
   ]
  },
  {
   "cell_type": "code",
   "execution_count": 4,
   "id": "02eb0483-639b-4103-9acb-9c7805142d94",
   "metadata": {
    "tags": []
   },
   "outputs": [
    {
     "name": "stderr",
     "output_type": "stream",
     "text": [
      "INFO:root:Config: {'attribute': 'roof_type', 'data': 'RGB_LCA', 'batch_size': 32, 'n_workers': 4, 'n_epochs': 60, 'model': 'efficientnetb0', 'pretrained': True, 'resampler': 'RandomOverSampler', 'scheduler': 'ReduceLROnPlateau', 'optimizer': 'Adam', 'label_smoothing': 0.1, 'lr': 1e-05, 'img_size': 224, 'momentum': None, 'gamma': None, 'step_size': None, 'patience': 7, 'dropout': None, 'config_name': 'cnn-roof_type-efficientnetb0-RGB_LCA', 'rasters_dir': '../data/rasters/', 'vectors_dir': '../data/vectors/', 'tile_dir': '../data/tiles/', 'csv_dir': '../data/csv/', 'out_dir': '../outputs/', 'exp_dir': '../exp/', 'log_dir': '../logs/'}\n",
      "INFO:root:Model file ../exp/cnn-roof_type-efficientnetb0-RGB_LCA\\cnn-roof_type-efficientnetb0-RGB_LCA.pth successfully loaded.\n",
      "100%|███████████████| 69296/69296 [2:42:01<00:00,  7.13it/s]                                                           \n"
     ]
    },
    {
     "data": {
      "text/html": [
       "<div>\n",
       "<style scoped>\n",
       "    .dataframe tbody tr th:only-of-type {\n",
       "        vertical-align: middle;\n",
       "    }\n",
       "\n",
       "    .dataframe tbody tr th {\n",
       "        vertical-align: top;\n",
       "    }\n",
       "\n",
       "    .dataframe thead th {\n",
       "        text-align: right;\n",
       "    }\n",
       "</style>\n",
       "<table border=\"1\" class=\"dataframe\">\n",
       "  <thead>\n",
       "    <tr style=\"text-align: right;\">\n",
       "      <th></th>\n",
       "      <th>UID</th>\n",
       "      <th>geometry</th>\n",
       "      <th>ROOF_MATERIAL</th>\n",
       "      <th>ROOF_MATERIAL_PROB</th>\n",
       "      <th>INCOMPLETE_PROB</th>\n",
       "      <th>CONCRETE_CEMENT_PROB</th>\n",
       "      <th>HEALTHY_METAL_PROB</th>\n",
       "      <th>IRREGULAR_METAL_PROB</th>\n",
       "      <th>ROOF_TYPE</th>\n",
       "      <th>ROOF_TYPE_PROB</th>\n",
       "      <th>NO_ROOF_PROB</th>\n",
       "      <th>FLAT_PROB</th>\n",
       "      <th>GABLE_PROB</th>\n",
       "      <th>HIP_PROB</th>\n",
       "    </tr>\n",
       "  </thead>\n",
       "  <tbody>\n",
       "    <tr>\n",
       "      <th>0</th>\n",
       "      <td>0.0</td>\n",
       "      <td>MULTIPOLYGON Z (((717760.366 1520511.462 0.000...</td>\n",
       "      <td>HEALTHY_METAL</td>\n",
       "      <td>0.628981</td>\n",
       "      <td>0.029425</td>\n",
       "      <td>0.046993</td>\n",
       "      <td>0.628981</td>\n",
       "      <td>0.294601</td>\n",
       "      <td>HIP</td>\n",
       "      <td>0.898036</td>\n",
       "      <td>0.035153</td>\n",
       "      <td>0.026654</td>\n",
       "      <td>0.040157</td>\n",
       "      <td>0.898036</td>\n",
       "    </tr>\n",
       "    <tr>\n",
       "      <th>1</th>\n",
       "      <td>1.0</td>\n",
       "      <td>MULTIPOLYGON Z (((717797.038 1520510.844 0.000...</td>\n",
       "      <td>INCOMPLETE</td>\n",
       "      <td>0.904224</td>\n",
       "      <td>0.904224</td>\n",
       "      <td>0.027334</td>\n",
       "      <td>0.034043</td>\n",
       "      <td>0.034399</td>\n",
       "      <td>NO_ROOF</td>\n",
       "      <td>0.747590</td>\n",
       "      <td>0.747590</td>\n",
       "      <td>0.102935</td>\n",
       "      <td>0.028217</td>\n",
       "      <td>0.121258</td>\n",
       "    </tr>\n",
       "    <tr>\n",
       "      <th>2</th>\n",
       "      <td>2.0</td>\n",
       "      <td>MULTIPOLYGON Z (((717926.809 1520525.188 0.000...</td>\n",
       "      <td>HEALTHY_METAL</td>\n",
       "      <td>0.916309</td>\n",
       "      <td>0.029696</td>\n",
       "      <td>0.031742</td>\n",
       "      <td>0.916309</td>\n",
       "      <td>0.022253</td>\n",
       "      <td>GABLE</td>\n",
       "      <td>0.560529</td>\n",
       "      <td>0.023673</td>\n",
       "      <td>0.390195</td>\n",
       "      <td>0.560529</td>\n",
       "      <td>0.025602</td>\n",
       "    </tr>\n",
       "  </tbody>\n",
       "</table>\n",
       "</div>"
      ],
      "text/plain": [
       "   UID                                           geometry  ROOF_MATERIAL   \n",
       "0  0.0  MULTIPOLYGON Z (((717760.366 1520511.462 0.000...  HEALTHY_METAL  \\\n",
       "1  1.0  MULTIPOLYGON Z (((717797.038 1520510.844 0.000...     INCOMPLETE   \n",
       "2  2.0  MULTIPOLYGON Z (((717926.809 1520525.188 0.000...  HEALTHY_METAL   \n",
       "\n",
       "   ROOF_MATERIAL_PROB  INCOMPLETE_PROB  CONCRETE_CEMENT_PROB   \n",
       "0            0.628981         0.029425              0.046993  \\\n",
       "1            0.904224         0.904224              0.027334   \n",
       "2            0.916309         0.029696              0.031742   \n",
       "\n",
       "   HEALTHY_METAL_PROB  IRREGULAR_METAL_PROB ROOF_TYPE  ROOF_TYPE_PROB   \n",
       "0            0.628981              0.294601       HIP        0.898036  \\\n",
       "1            0.034043              0.034399   NO_ROOF        0.747590   \n",
       "2            0.916309              0.022253     GABLE        0.560529   \n",
       "\n",
       "   NO_ROOF_PROB  FLAT_PROB  GABLE_PROB  HIP_PROB  \n",
       "0      0.035153   0.026654    0.040157  0.898036  \n",
       "1      0.747590   0.102935    0.028217  0.121258  \n",
       "2      0.023673   0.390195    0.560529  0.025602  "
      ]
     },
     "execution_count": 4,
     "metadata": {},
     "output_type": "execute_result"
    }
   ],
   "source": [
    "exp_config = '../configs/cnn/cnn-roof_type-efficientnetb0-RGB_LCA.yaml'\n",
    "c = config.load_config(exp_config, prefix='.')\n",
    "bldgs = pred_utils.predict_image(bldgs, in_file, exp_config, prefix='.')\n",
    "bldgs.head(3)"
   ]
  },
  {
   "cell_type": "code",
   "execution_count": 5,
   "id": "6c231200-d1ad-48eb-94d5-fd51c2cb368f",
   "metadata": {
    "tags": []
   },
   "outputs": [],
   "source": [
    "name = 'ortho_LCA'\n",
    "out_path = os.path.join(c['out_dir'])\n",
    "if not os.path.isdir(out_path):\n",
    "    os.makedirs(out_path)\n",
    "out_file = os.path.join(out_path, f'{name}.gpkg')\n",
    "bldgs.to_file(out_file, driver='GPKG')"
   ]
  },
  {
   "cell_type": "code",
   "execution_count": 6,
   "id": "11a860ab-457b-40dd-a563-e818ac930018",
   "metadata": {
    "tags": []
   },
   "outputs": [
    {
     "data": {
      "text/plain": [
       "ROOF_MATERIAL\n",
       "HEALTHY_METAL      41169\n",
       "IRREGULAR_METAL    19365\n",
       "INCOMPLETE          5642\n",
       "CONCRETE_CEMENT     3120\n",
       "Name: count, dtype: int64"
      ]
     },
     "execution_count": 6,
     "metadata": {},
     "output_type": "execute_result"
    }
   ],
   "source": [
    "bldgs.ROOF_MATERIAL.value_counts()"
   ]
  },
  {
   "cell_type": "code",
   "execution_count": 7,
   "id": "cfd0dac3-41b9-4624-b1b0-31f11ff70e8f",
   "metadata": {
    "tags": []
   },
   "outputs": [
    {
     "data": {
      "text/plain": [
       "ROOF_TYPE\n",
       "GABLE      30253\n",
       "FLAT       19287\n",
       "HIP        15096\n",
       "NO_ROOF     4660\n",
       "Name: count, dtype: int64"
      ]
     },
     "execution_count": 7,
     "metadata": {},
     "output_type": "execute_result"
    }
   ],
   "source": [
    "bldgs.ROOF_TYPE.value_counts()"
   ]
  },
  {
   "cell_type": "markdown",
   "id": "e4deb8ff-02b6-4075-8ef4-3a56a62f9502",
   "metadata": {},
   "source": [
    "## Generate Pre-disaster Predictions"
   ]
  },
  {
   "cell_type": "code",
   "execution_count": null,
   "id": "d12e16f3-8f87-43c8-a32b-064628578282",
   "metadata": {},
   "outputs": [],
   "source": [
    "name = 'Colihat'\n",
    "filename = '../data/vectors/bldgs_drone_colihaut_DOM.gpkg'\n",
    "bldgs = gpd.read_file(filename).reset_index(drop=True)[['UID', 'geometry']]\n",
    "bldgs.head(3)"
   ]
  },
  {
   "cell_type": "code",
   "execution_count": null,
   "id": "7ba6d1b3-2676-49a6-9d96-0ecffcc963d8",
   "metadata": {
    "tags": []
   },
   "outputs": [],
   "source": [
    "in_file = '../data/rasters/drone/drone_colihaut_DOM.tif'\n",
    "exp_config = '../configs/cnn/cnn-roof_material-resnet50-RGB_DOM.yaml'\n",
    "bldgs = pred_utils.predict_image(bldgs, in_file, exp_config, prefix='.')\n",
    "bldgs.head(3)"
   ]
  },
  {
   "cell_type": "code",
   "execution_count": 6,
   "id": "cd4209ad-70c1-46a4-84e9-f92488ec2d5e",
   "metadata": {
    "tags": []
   },
   "outputs": [],
   "source": [
    "out_path = os.path.join(c['out_dir'], c['config_name'])\n",
    "if not os.path.isdir(out_path):\n",
    "    os.makedirs(out_path)\n",
    "out_file = os.path.join(out_path, f'{name}.gpkg')\n",
    "bldgs.to_file(out_file, driver='GPKG')"
   ]
  },
  {
   "cell_type": "markdown",
   "id": "cb2d412b-e299-44a1-963b-5b49910a585d",
   "metadata": {},
   "source": [
    "## Model Evaluation"
   ]
  },
  {
   "cell_type": "code",
   "execution_count": 19,
   "id": "695fc091-3e21-4c89-aa4f-03d591150297",
   "metadata": {
    "tags": []
   },
   "outputs": [
    {
     "name": "stdout",
     "output_type": "stream",
     "text": [
      "Data dimensions: (373, 4)\n",
      "roof_type\n",
      "GABLE      247\n",
      "FLAT        72\n",
      "HIP         44\n",
      "NO_ROOF     10\n",
      "Name: count, dtype: int64\n",
      "roof_material\n",
      "HEALTHY_METAL      187\n",
      "IRREGULAR_METAL    130\n",
      "CONCRETE_CEMENT     46\n",
      "INCOMPLETE          10\n",
      "Name: count, dtype: int64\n"
     ]
    },
    {
     "data": {
      "text/html": [
       "<div>\n",
       "<style scoped>\n",
       "    .dataframe tbody tr th:only-of-type {\n",
       "        vertical-align: middle;\n",
       "    }\n",
       "\n",
       "    .dataframe tbody tr th {\n",
       "        vertical-align: top;\n",
       "    }\n",
       "\n",
       "    .dataframe thead th {\n",
       "        text-align: right;\n",
       "    }\n",
       "</style>\n",
       "<table border=\"1\" class=\"dataframe\">\n",
       "  <thead>\n",
       "    <tr style=\"text-align: right;\">\n",
       "      <th></th>\n",
       "      <th>UID</th>\n",
       "      <th>roof_type</th>\n",
       "      <th>roof_material</th>\n",
       "      <th>geometry</th>\n",
       "    </tr>\n",
       "  </thead>\n",
       "  <tbody>\n",
       "    <tr>\n",
       "      <th>4</th>\n",
       "      <td>34876</td>\n",
       "      <td>NO_ROOF</td>\n",
       "      <td>INCOMPLETE</td>\n",
       "      <td>POLYGON Z ((665060.888 1712479.780 35.786, 665...</td>\n",
       "    </tr>\n",
       "    <tr>\n",
       "      <th>5</th>\n",
       "      <td>34887</td>\n",
       "      <td>GABLE</td>\n",
       "      <td>HEALTHY_METAL</td>\n",
       "      <td>POLYGON Z ((665078.259 1712486.585 32.366, 665...</td>\n",
       "    </tr>\n",
       "    <tr>\n",
       "      <th>6</th>\n",
       "      <td>34890</td>\n",
       "      <td>GABLE</td>\n",
       "      <td>IRREGULAR_METAL</td>\n",
       "      <td>POLYGON Z ((665070.715 1712492.135 27.175, 665...</td>\n",
       "    </tr>\n",
       "  </tbody>\n",
       "</table>\n",
       "</div>"
      ],
      "text/plain": [
       "     UID roof_type    roof_material   \n",
       "4  34876   NO_ROOF       INCOMPLETE  \\\n",
       "5  34887     GABLE    HEALTHY_METAL   \n",
       "6  34890     GABLE  IRREGULAR_METAL   \n",
       "\n",
       "                                            geometry  \n",
       "4  POLYGON Z ((665060.888 1712479.780 35.786, 665...  \n",
       "5  POLYGON Z ((665078.259 1712486.585 32.366, 665...  \n",
       "6  POLYGON Z ((665070.715 1712492.135 27.175, 665...  "
      ]
     },
     "execution_count": 19,
     "metadata": {},
     "output_type": "execute_result"
    }
   ],
   "source": [
    "ytrue_file = '../data/vectors/building_footprints_annotated_COLIHAUT.gpkg'\n",
    "ytrue = gpd.read_file(ytrue_file)[['UID', 'roof_type', 'roof_material', 'geometry']].dropna()\n",
    "ytrue.roof_type = ytrue.roof_type.replace({'PYRAMID': 'HIP', 'HALF_HIP': 'HIP'})\n",
    "print(f\"Data dimensions: {ytrue.shape}\")\n",
    "print(ytrue.roof_type.value_counts())\n",
    "print(ytrue.roof_material.value_counts())\n",
    "ytrue.head(3)"
   ]
  },
  {
   "cell_type": "code",
   "execution_count": 18,
   "id": "76080552-0265-4bc8-9e43-a3b21e1b386e",
   "metadata": {
    "tags": []
   },
   "outputs": [
    {
     "name": "stdout",
     "output_type": "stream",
     "text": [
      "Data dimensions: (373, 4)\n",
      "roof_type\n",
      "GABLE      250\n",
      "HIP         59\n",
      "FLAT        54\n",
      "NO_ROOF     10\n",
      "Name: count, dtype: int64\n",
      "roof_material\n",
      "HEALTHY_METAL      204\n",
      "IRREGULAR_METAL    113\n",
      "CONCRETE_CEMENT     48\n",
      "INCOMPLETE           7\n",
      "BLUE_TARP            1\n",
      "Name: count, dtype: int64\n"
     ]
    },
    {
     "data": {
      "text/html": [
       "<div>\n",
       "<style scoped>\n",
       "    .dataframe tbody tr th:only-of-type {\n",
       "        vertical-align: middle;\n",
       "    }\n",
       "\n",
       "    .dataframe tbody tr th {\n",
       "        vertical-align: top;\n",
       "    }\n",
       "\n",
       "    .dataframe thead th {\n",
       "        text-align: right;\n",
       "    }\n",
       "</style>\n",
       "<table border=\"1\" class=\"dataframe\">\n",
       "  <thead>\n",
       "    <tr style=\"text-align: right;\">\n",
       "      <th></th>\n",
       "      <th>UID</th>\n",
       "      <th>roof_type</th>\n",
       "      <th>roof_material</th>\n",
       "      <th>geometry</th>\n",
       "    </tr>\n",
       "  </thead>\n",
       "  <tbody>\n",
       "    <tr>\n",
       "      <th>0</th>\n",
       "      <td>34876</td>\n",
       "      <td>NO_ROOF</td>\n",
       "      <td>CONCRETE_CEMENT</td>\n",
       "      <td>POLYGON Z ((665060.888 1712479.780 35.786, 665...</td>\n",
       "    </tr>\n",
       "    <tr>\n",
       "      <th>1</th>\n",
       "      <td>34887</td>\n",
       "      <td>GABLE</td>\n",
       "      <td>HEALTHY_METAL</td>\n",
       "      <td>POLYGON Z ((665078.259 1712486.585 32.366, 665...</td>\n",
       "    </tr>\n",
       "    <tr>\n",
       "      <th>2</th>\n",
       "      <td>34890</td>\n",
       "      <td>GABLE</td>\n",
       "      <td>HEALTHY_METAL</td>\n",
       "      <td>POLYGON Z ((665070.715 1712492.135 27.175, 665...</td>\n",
       "    </tr>\n",
       "  </tbody>\n",
       "</table>\n",
       "</div>"
      ],
      "text/plain": [
       "     UID roof_type    roof_material   \n",
       "0  34876   NO_ROOF  CONCRETE_CEMENT  \\\n",
       "1  34887     GABLE    HEALTHY_METAL   \n",
       "2  34890     GABLE    HEALTHY_METAL   \n",
       "\n",
       "                                            geometry  \n",
       "0  POLYGON Z ((665060.888 1712479.780 35.786, 665...  \n",
       "1  POLYGON Z ((665078.259 1712486.585 32.366, 665...  \n",
       "2  POLYGON Z ((665070.715 1712492.135 27.175, 665...  "
      ]
     },
     "execution_count": 18,
     "metadata": {},
     "output_type": "execute_result"
    }
   ],
   "source": [
    "ypred_file = f'../output/{name}-drone-20230616.gpkg'\n",
    "ypred = gpd.read_file(ypred_file)[['UID', 'roof_type', 'roof_material', 'geometry']].dropna()\n",
    "print(f\"Data dimensions: {ypred.shape}\")\n",
    "print(ypred.roof_type.value_counts())\n",
    "print(ypred.roof_material.value_counts())\n",
    "ypred.head(3)"
   ]
  },
  {
   "cell_type": "code",
   "execution_count": 26,
   "id": "1fb41696-ef38-4735-877b-f55d2978dd1e",
   "metadata": {
    "tags": []
   },
   "outputs": [
    {
     "data": {
      "text/plain": [
       "{'overall_accuracy': 89.27613941018767,\n",
       " 'balanced_accuracy': 87.45253649858913,\n",
       " 'f1_score_micro': 89.27613941018767,\n",
       " 'f1_score': 86.36588137237665,\n",
       " 'precision_score': 87.00772128060264,\n",
       " 'recall_score': 87.45253649858913,\n",
       " 'f1_per_class': array([80.95238095, 92.95774648, 81.55339806, 90.        ]),\n",
       " 'precision_per_class': array([94.44444444, 92.4       , 71.18644068, 90.        ]),\n",
       " 'recall_per_class': array([70.83333333, 93.52226721, 95.45454545, 90.        ])}"
      ]
     },
     "execution_count": 26,
     "metadata": {},
     "output_type": "execute_result"
    }
   ],
   "source": [
    "attribute = 'roof_type'\n",
    "classes = geoutils.classes_dict[attribute]\n",
    "cm = eval_utils.get_confusion_matrix(ytrue[attribute], ypred[attribute], classes)\n",
    "eval_utils.evaluate(ytrue[attribute], ypred[attribute])"
   ]
  },
  {
   "cell_type": "markdown",
   "id": "66e9536e-43f0-462b-9420-198b32e09d55",
   "metadata": {},
   "source": [
    "## Data Fusion"
   ]
  },
  {
   "cell_type": "code",
   "execution_count": 8,
   "id": "c9401d87-f819-44f8-9cef-2fd4056e70cd",
   "metadata": {
    "tags": []
   },
   "outputs": [
    {
     "name": "stdout",
     "output_type": "stream",
     "text": [
      "Model file ../exp/exp-09\\best_model.pth successfully loaded.\n",
      "{'data_dir': '../data/rasters/Tiles/ortho/', 'csv_dir': '../data/csv/', 'attribute': 'roof_material', 'exp_name': 'exp-09', 'mode': 'RGB', 'batch_size': 32, 'n_workers': 4, 'n_epochs': 30, 'model': 'efficientnetb0', 'pretrained': True, 'scheduler': 'ReduceLROnPlateau', 'optimizer': 'Adam', 'lr': 1e-05, 'img_size': 224, 'momentum': None, 'gamma': None, 'step_size': None, 'patience': 7, 'dropout': None}\n",
      "Model file ../exp/exp-06\\best_model.pth successfully loaded.\n",
      "{'data_dir': '../data/rasters/Tiles/ndsm/', 'csv_dir': '../data/csv/', 'attribute': 'roof_material', 'exp_name': 'exp-06', 'mode': 'GRAYSCALE', 'batch_size': 32, 'n_workers': 4, 'n_epochs': 30, 'model': 'inceptionv3', 'pretrained': True, 'scheduler': 'ReduceLROnPlateau', 'optimizer': 'Adam', 'lr': 1e-05, 'img_size': 299, 'momentum': None, 'gamma': None, 'step_size': None, 'patience': 7, 'dropout': None}\n"
     ]
    }
   ],
   "source": [
    "c = config.create_config(\"../configs/fusion_06.yaml\")\n",
    "c = {key: '.' + value if 'config' in key or 'dir' in key else value for key, value in c.items()}\n",
    "\n",
    "c1 = config.create_config(c['config1'])\n",
    "c1 = {key: '.' + value if 'dir' in key else value for key, value in c1.items()}\n",
    "classes = geoutils.classes_dict[c1['attribute']]\n",
    "exp_dir = os.path.join(c['exp_dir'], c1['exp_name'])\n",
    "model1 = pred_utils.load_model(c1, exp_dir=exp_dir , n_classes=len(classes))\n",
    "print(c1)\n",
    "\n",
    "c2 = config.create_config(c['config2'])\n",
    "exp_dir = os.path.join(c['exp_dir'], c2['exp_name'])\n",
    "c2 = {key: '.' + value if 'dir' in key else value for key, value in c2.items()}\n",
    "model2 = pred_utils.load_model(c2, exp_dir=exp_dir, n_classes=len(classes))\n",
    "print(c2)"
   ]
  },
  {
   "cell_type": "code",
   "execution_count": 101,
   "id": "343b3b81-e3ec-4383-98dc-e0c6a241797a",
   "metadata": {
    "tags": []
   },
   "outputs": [
    {
     "name": "stderr",
     "output_type": "stream",
     "text": [
      "100%|███████████████| 522/522 [11:29<00:00,  1.32s/it]                                                                 \n"
     ]
    }
   ],
   "source": [
    "source1 = '../data/rasters/Ortho/ortho_DOM.tif'\n",
    "source2 = '../data/rasters/DSM/ndsm_DOM.tif'\n",
    "data = fusion.predict(bldgs, c1, c2, model1, model2, source1=source1, source2=source2)"
   ]
  },
  {
   "cell_type": "code",
   "execution_count": 9,
   "id": "690d0367-3f2e-41af-917b-52e092f02060",
   "metadata": {
    "tags": []
   },
   "outputs": [
    {
     "data": {
      "text/html": [
       "<style>#sk-container-id-2 {color: black;background-color: white;}#sk-container-id-2 pre{padding: 0;}#sk-container-id-2 div.sk-toggleable {background-color: white;}#sk-container-id-2 label.sk-toggleable__label {cursor: pointer;display: block;width: 100%;margin-bottom: 0;padding: 0.3em;box-sizing: border-box;text-align: center;}#sk-container-id-2 label.sk-toggleable__label-arrow:before {content: \"▸\";float: left;margin-right: 0.25em;color: #696969;}#sk-container-id-2 label.sk-toggleable__label-arrow:hover:before {color: black;}#sk-container-id-2 div.sk-estimator:hover label.sk-toggleable__label-arrow:before {color: black;}#sk-container-id-2 div.sk-toggleable__content {max-height: 0;max-width: 0;overflow: hidden;text-align: left;background-color: #f0f8ff;}#sk-container-id-2 div.sk-toggleable__content pre {margin: 0.2em;color: black;border-radius: 0.25em;background-color: #f0f8ff;}#sk-container-id-2 input.sk-toggleable__control:checked~div.sk-toggleable__content {max-height: 200px;max-width: 100%;overflow: auto;}#sk-container-id-2 input.sk-toggleable__control:checked~label.sk-toggleable__label-arrow:before {content: \"▾\";}#sk-container-id-2 div.sk-estimator input.sk-toggleable__control:checked~label.sk-toggleable__label {background-color: #d4ebff;}#sk-container-id-2 div.sk-label input.sk-toggleable__control:checked~label.sk-toggleable__label {background-color: #d4ebff;}#sk-container-id-2 input.sk-hidden--visually {border: 0;clip: rect(1px 1px 1px 1px);clip: rect(1px, 1px, 1px, 1px);height: 1px;margin: -1px;overflow: hidden;padding: 0;position: absolute;width: 1px;}#sk-container-id-2 div.sk-estimator {font-family: monospace;background-color: #f0f8ff;border: 1px dotted black;border-radius: 0.25em;box-sizing: border-box;margin-bottom: 0.5em;}#sk-container-id-2 div.sk-estimator:hover {background-color: #d4ebff;}#sk-container-id-2 div.sk-parallel-item::after {content: \"\";width: 100%;border-bottom: 1px solid gray;flex-grow: 1;}#sk-container-id-2 div.sk-label:hover label.sk-toggleable__label {background-color: #d4ebff;}#sk-container-id-2 div.sk-serial::before {content: \"\";position: absolute;border-left: 1px solid gray;box-sizing: border-box;top: 0;bottom: 0;left: 50%;z-index: 0;}#sk-container-id-2 div.sk-serial {display: flex;flex-direction: column;align-items: center;background-color: white;padding-right: 0.2em;padding-left: 0.2em;position: relative;}#sk-container-id-2 div.sk-item {position: relative;z-index: 1;}#sk-container-id-2 div.sk-parallel {display: flex;align-items: stretch;justify-content: center;background-color: white;position: relative;}#sk-container-id-2 div.sk-item::before, #sk-container-id-2 div.sk-parallel-item::before {content: \"\";position: absolute;border-left: 1px solid gray;box-sizing: border-box;top: 0;bottom: 0;left: 50%;z-index: -1;}#sk-container-id-2 div.sk-parallel-item {display: flex;flex-direction: column;z-index: 1;position: relative;background-color: white;}#sk-container-id-2 div.sk-parallel-item:first-child::after {align-self: flex-end;width: 50%;}#sk-container-id-2 div.sk-parallel-item:last-child::after {align-self: flex-start;width: 50%;}#sk-container-id-2 div.sk-parallel-item:only-child::after {width: 0;}#sk-container-id-2 div.sk-dashed-wrapped {border: 1px dashed gray;margin: 0 0.4em 0.5em 0.4em;box-sizing: border-box;padding-bottom: 0.4em;background-color: white;}#sk-container-id-2 div.sk-label label {font-family: monospace;font-weight: bold;display: inline-block;line-height: 1.2em;}#sk-container-id-2 div.sk-label-container {text-align: center;}#sk-container-id-2 div.sk-container {/* jupyter's `normalize.less` sets `[hidden] { display: none; }` but bootstrap.min.css set `[hidden] { display: none !important; }` so we also need the `!important` here to be able to override the default hidden behavior on the sphinx rendered scikit-learn.org. See: https://github.com/scikit-learn/scikit-learn/issues/21755 */display: inline-block !important;position: relative;}#sk-container-id-2 div.sk-text-repr-fallback {display: none;}</style><div id=\"sk-container-id-2\" class=\"sk-top-container\"><div class=\"sk-text-repr-fallback\"><pre>Pipeline(steps=[(&#x27;scaler&#x27;, MinMaxScaler()), (&#x27;selector&#x27;, None),\n",
       "                (&#x27;model&#x27;,\n",
       "                 RandomForestClassifier(bootstrap=False, criterion=&#x27;entropy&#x27;,\n",
       "                                        max_depth=9, n_estimators=450,\n",
       "                                        n_jobs=-1, random_state=42,\n",
       "                                        verbose=1))])</pre><b>In a Jupyter environment, please rerun this cell to show the HTML representation or trust the notebook. <br />On GitHub, the HTML representation is unable to render, please try loading this page with nbviewer.org.</b></div><div class=\"sk-container\" hidden><div class=\"sk-item sk-dashed-wrapped\"><div class=\"sk-label-container\"><div class=\"sk-label sk-toggleable\"><input class=\"sk-toggleable__control sk-hidden--visually\" id=\"sk-estimator-id-5\" type=\"checkbox\" ><label for=\"sk-estimator-id-5\" class=\"sk-toggleable__label sk-toggleable__label-arrow\">Pipeline</label><div class=\"sk-toggleable__content\"><pre>Pipeline(steps=[(&#x27;scaler&#x27;, MinMaxScaler()), (&#x27;selector&#x27;, None),\n",
       "                (&#x27;model&#x27;,\n",
       "                 RandomForestClassifier(bootstrap=False, criterion=&#x27;entropy&#x27;,\n",
       "                                        max_depth=9, n_estimators=450,\n",
       "                                        n_jobs=-1, random_state=42,\n",
       "                                        verbose=1))])</pre></div></div></div><div class=\"sk-serial\"><div class=\"sk-item\"><div class=\"sk-estimator sk-toggleable\"><input class=\"sk-toggleable__control sk-hidden--visually\" id=\"sk-estimator-id-6\" type=\"checkbox\" ><label for=\"sk-estimator-id-6\" class=\"sk-toggleable__label sk-toggleable__label-arrow\">MinMaxScaler</label><div class=\"sk-toggleable__content\"><pre>MinMaxScaler()</pre></div></div></div><div class=\"sk-item\"><div class=\"sk-estimator sk-toggleable\"><input class=\"sk-toggleable__control sk-hidden--visually\" id=\"sk-estimator-id-7\" type=\"checkbox\" ><label for=\"sk-estimator-id-7\" class=\"sk-toggleable__label sk-toggleable__label-arrow\">None</label><div class=\"sk-toggleable__content\"><pre>None</pre></div></div></div><div class=\"sk-item\"><div class=\"sk-estimator sk-toggleable\"><input class=\"sk-toggleable__control sk-hidden--visually\" id=\"sk-estimator-id-8\" type=\"checkbox\" ><label for=\"sk-estimator-id-8\" class=\"sk-toggleable__label sk-toggleable__label-arrow\">RandomForestClassifier</label><div class=\"sk-toggleable__content\"><pre>RandomForestClassifier(bootstrap=False, criterion=&#x27;entropy&#x27;, max_depth=9,\n",
       "                       n_estimators=450, n_jobs=-1, random_state=42, verbose=1)</pre></div></div></div></div></div></div></div>"
      ],
      "text/plain": [
       "Pipeline(steps=[('scaler', MinMaxScaler()), ('selector', None),\n",
       "                ('model',\n",
       "                 RandomForestClassifier(bootstrap=False, criterion='entropy',\n",
       "                                        max_depth=9, n_estimators=450,\n",
       "                                        n_jobs=-1, random_state=42,\n",
       "                                        verbose=1))])"
      ]
     },
     "execution_count": 9,
     "metadata": {},
     "output_type": "execute_result"
    }
   ],
   "source": [
    "features = fusion.get_features(c, data)\n",
    "model_file = os.path.join(c['exp_dir'], c['exp_name'], c['mode'], c['model'], 'best_model.pkl')\n",
    "model = joblib.load(model_file)\n",
    "preds = model.predict(data[features])"
   ]
  },
  {
   "cell_type": "code",
   "execution_count": 104,
   "id": "42eedc1b-7f38-4c9c-a2dc-700836aed0fd",
   "metadata": {
    "tags": []
   },
   "outputs": [],
   "source": [
    "bldgs['roof_material'] = preds\n",
    "out_path = '../output/'\n",
    "if not os.path.isdir(out_path):\n",
    "    os.makedirs(out_path)\n",
    "out_file = os.path.join(out_path, f'{name}-ortho-20230613.gpkg')\n",
    "bldgs.to_file(out_file, driver='GPKG')"
   ]
  }
 ],
 "metadata": {
  "kernelspec": {
   "display_name": "GFDRR",
   "language": "python",
   "name": "gfdrr"
  },
  "language_info": {
   "codemirror_mode": {
    "name": "ipython",
    "version": 3
   },
   "file_extension": ".py",
   "mimetype": "text/x-python",
   "name": "python",
   "nbconvert_exporter": "python",
   "pygments_lexer": "ipython3",
   "version": "3.10.10"
  }
 },
 "nbformat": 4,
 "nbformat_minor": 5
}
