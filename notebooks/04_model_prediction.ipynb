{
 "cells": [
  {
   "cell_type": "markdown",
   "id": "b4f80cd1-c02b-4e83-be53-b44042b4e76f",
   "metadata": {},
   "source": [
    "## Imports and Setup"
   ]
  },
  {
   "cell_type": "code",
   "execution_count": 1,
   "id": "21005e6c-9716-4ad6-bcb8-211a090f12eb",
   "metadata": {
    "tags": []
   },
   "outputs": [
    {
     "name": "stderr",
     "output_type": "stream",
     "text": [
      "C:\\Users\\Issa\\miniconda3\\envs\\GFDRR\\lib\\site-packages\\groundingdino\\models\\GroundingDINO\\ms_deform_attn.py:31: UserWarning: Failed to load custom C++ ops. Running on CPU mode Only!\n",
      "  warnings.warn(\"Failed to load custom C++ ops. Running on CPU mode Only!\")\n"
     ]
    }
   ],
   "source": [
    "import os\n",
    "import sys\n",
    "import joblib\n",
    "import subprocess\n",
    "\n",
    "import pandas as pd\n",
    "import numpy as np\n",
    "import geopandas as gpd\n",
    "from tqdm.notebook import tqdm\n",
    "\n",
    "sys.path.insert(0, \"../utils/\")\n",
    "import pred_utils\n",
    "import config\n",
    "import geoutils\n",
    "import eval_utils\n",
    "import fusion_utils\n",
    "\n",
    "import logging\n",
    "logging.basicConfig(level=logging.INFO)\n",
    "pd.set_option('mode.chained_assignment', None)\n",
    "\n",
    "%load_ext autoreload\n",
    "%autoreload 2"
   ]
  },
  {
   "cell_type": "markdown",
   "id": "ebac135f-bb1c-4527-85a5-cac442ea90e6",
   "metadata": {},
   "source": [
    "## Generate Predictions"
   ]
  },
  {
   "cell_type": "code",
   "execution_count": 2,
   "id": "7273e0aa-9051-4838-9894-684e637a0019",
   "metadata": {},
   "outputs": [
    {
     "name": "stdout",
     "output_type": "stream",
     "text": [
      "(50410, 2)\n"
     ]
    },
    {
     "data": {
      "text/html": [
       "<div>\n",
       "<style scoped>\n",
       "    .dataframe tbody tr th:only-of-type {\n",
       "        vertical-align: middle;\n",
       "    }\n",
       "\n",
       "    .dataframe tbody tr th {\n",
       "        vertical-align: top;\n",
       "    }\n",
       "\n",
       "    .dataframe thead th {\n",
       "        text-align: right;\n",
       "    }\n",
       "</style>\n",
       "<table border=\"1\" class=\"dataframe\">\n",
       "  <thead>\n",
       "    <tr style=\"text-align: right;\">\n",
       "      <th></th>\n",
       "      <th>UID</th>\n",
       "      <th>geometry</th>\n",
       "    </tr>\n",
       "  </thead>\n",
       "  <tbody>\n",
       "    <tr>\n",
       "      <th>0</th>\n",
       "      <td>0</td>\n",
       "      <td>MULTIPOLYGON Z (((675912.759 1682212.635 99.94...</td>\n",
       "    </tr>\n",
       "    <tr>\n",
       "      <th>1</th>\n",
       "      <td>1</td>\n",
       "      <td>MULTIPOLYGON Z (((675731.846 1682256.863 68.50...</td>\n",
       "    </tr>\n",
       "    <tr>\n",
       "      <th>2</th>\n",
       "      <td>2</td>\n",
       "      <td>MULTIPOLYGON Z (((675723.312 1682258.156 67.15...</td>\n",
       "    </tr>\n",
       "  </tbody>\n",
       "</table>\n",
       "</div>"
      ],
      "text/plain": [
       "   UID                                           geometry\n",
       "0    0  MULTIPOLYGON Z (((675912.759 1682212.635 99.94...\n",
       "1    1  MULTIPOLYGON Z (((675731.846 1682256.863 68.50...\n",
       "2    2  MULTIPOLYGON Z (((675723.312 1682258.156 67.15..."
      ]
     },
     "execution_count": 2,
     "metadata": {},
     "output_type": "execute_result"
    }
   ],
   "source": [
    "filename = '../data/vectors/bldgs_ortho_DOM.gpkg'\n",
    "bldgs = gpd.read_file(filename).reset_index(drop=True)[['UID', 'geometry']].dropna()\n",
    "print(bldgs.shape)\n",
    "bldgs.head(3)"
   ]
  },
  {
   "cell_type": "code",
   "execution_count": 3,
   "id": "5c35f66c-012f-40d3-99f9-e566d99a483a",
   "metadata": {
    "tags": []
   },
   "outputs": [
    {
     "name": "stderr",
     "output_type": "stream",
     "text": [
      "INFO:root:Config: {'attribute': 'roof_material', 'data': 'RGB_DOM', 'mode': 'RGB', 'batch_size': 32, 'n_workers': 4, 'n_epochs': 60, 'model': 'resnet50', 'resampler': 'RandomOverSampler', 'pretrained': True, 'scheduler': 'ReduceLROnPlateau', 'optimizer': 'Adam', 'label_smoothing': 0.1, 'lr': 1e-05, 'img_size': 224, 'patience': 7, 'dropout': 0.5, 'momentum': None, 'gamma': None, 'step_size': None, 'config_name': 'cnn-roof_material-resnet50-RGB_DOM', 'rasters_dir': '../data/rasters/', 'vectors_dir': '../data/vectors/', 'tile_dir': '../data/tiles/', 'csv_dir': '../data/csv/', 'out_dir': '../outputs/', 'exp_dir': '../exp/', 'log_dir': '../logs/'}\n",
      "INFO:root:Model file ../exp/cnn-roof_material-resnet50-RGB_DOM\\cnn-roof_material-resnet50-RGB_DOM.pth successfully loaded.\n",
      "100%|███████████████| 50410/50410 [3:53:43<00:00,  3.59it/s]                                                           \n"
     ]
    },
    {
     "data": {
      "text/html": [
       "<div>\n",
       "<style scoped>\n",
       "    .dataframe tbody tr th:only-of-type {\n",
       "        vertical-align: middle;\n",
       "    }\n",
       "\n",
       "    .dataframe tbody tr th {\n",
       "        vertical-align: top;\n",
       "    }\n",
       "\n",
       "    .dataframe thead th {\n",
       "        text-align: right;\n",
       "    }\n",
       "</style>\n",
       "<table border=\"1\" class=\"dataframe\">\n",
       "  <thead>\n",
       "    <tr style=\"text-align: right;\">\n",
       "      <th></th>\n",
       "      <th>UID</th>\n",
       "      <th>geometry</th>\n",
       "      <th>ROOF_MATERIAL</th>\n",
       "      <th>ROOF_MATERIAL_PROB</th>\n",
       "      <th>INCOMPLETE_PROB</th>\n",
       "      <th>HEALTHY_METAL_PROB</th>\n",
       "      <th>IRREGULAR_METAL_PROB</th>\n",
       "      <th>CONCRETE_CEMENT_PROB</th>\n",
       "      <th>BLUE_TARP_PROB</th>\n",
       "    </tr>\n",
       "  </thead>\n",
       "  <tbody>\n",
       "    <tr>\n",
       "      <th>0</th>\n",
       "      <td>0</td>\n",
       "      <td>MULTIPOLYGON Z (((675912.759 1682212.635 99.94...</td>\n",
       "      <td>BLUE_TARP</td>\n",
       "      <td>0.357583</td>\n",
       "      <td>0.048491</td>\n",
       "      <td>0.147591</td>\n",
       "      <td>0.272941</td>\n",
       "      <td>0.173394</td>\n",
       "      <td>0.357583</td>\n",
       "    </tr>\n",
       "    <tr>\n",
       "      <th>1</th>\n",
       "      <td>1</td>\n",
       "      <td>MULTIPOLYGON Z (((675731.846 1682256.863 68.50...</td>\n",
       "      <td>IRREGULAR_METAL</td>\n",
       "      <td>0.769993</td>\n",
       "      <td>0.028491</td>\n",
       "      <td>0.160160</td>\n",
       "      <td>0.769993</td>\n",
       "      <td>0.018792</td>\n",
       "      <td>0.022564</td>\n",
       "    </tr>\n",
       "    <tr>\n",
       "      <th>2</th>\n",
       "      <td>2</td>\n",
       "      <td>MULTIPOLYGON Z (((675723.312 1682258.156 67.15...</td>\n",
       "      <td>IRREGULAR_METAL</td>\n",
       "      <td>0.953958</td>\n",
       "      <td>0.010803</td>\n",
       "      <td>0.012412</td>\n",
       "      <td>0.953958</td>\n",
       "      <td>0.005902</td>\n",
       "      <td>0.016925</td>\n",
       "    </tr>\n",
       "  </tbody>\n",
       "</table>\n",
       "</div>"
      ],
      "text/plain": [
       "   UID                                           geometry    ROOF_MATERIAL   \n",
       "0    0  MULTIPOLYGON Z (((675912.759 1682212.635 99.94...        BLUE_TARP  \\\n",
       "1    1  MULTIPOLYGON Z (((675731.846 1682256.863 68.50...  IRREGULAR_METAL   \n",
       "2    2  MULTIPOLYGON Z (((675723.312 1682258.156 67.15...  IRREGULAR_METAL   \n",
       "\n",
       "   ROOF_MATERIAL_PROB  INCOMPLETE_PROB  HEALTHY_METAL_PROB   \n",
       "0            0.357583         0.048491            0.147591  \\\n",
       "1            0.769993         0.028491            0.160160   \n",
       "2            0.953958         0.010803            0.012412   \n",
       "\n",
       "   IRREGULAR_METAL_PROB  CONCRETE_CEMENT_PROB  BLUE_TARP_PROB  \n",
       "0              0.272941              0.173394        0.357583  \n",
       "1              0.769993              0.018792        0.022564  \n",
       "2              0.953958              0.005902        0.016925  "
      ]
     },
     "execution_count": 3,
     "metadata": {},
     "output_type": "execute_result"
    }
   ],
   "source": [
    "in_file = '../data/rasters/ortho/ortho_DOM.tif'\n",
    "exp_config = '../configs/cnn/cnn-roof_material-resnet50-RGB_DOM.yaml'\n",
    "c = config.load_config(exp_config, prefix='.')\n",
    "bldgs = pred_utils.predict_image(bldgs, in_file, exp_config, prefix='.')\n",
    "bldgs.head(3)"
   ]
  },
  {
   "cell_type": "code",
   "execution_count": 4,
   "id": "02eb0483-639b-4103-9acb-9c7805142d94",
   "metadata": {
    "tags": []
   },
   "outputs": [
    {
     "name": "stderr",
     "output_type": "stream",
     "text": [
      "INFO:root:Config: {'attribute': 'roof_type', 'data': 'RGB_DOM_LCA', 'mode': 'RGB', 'batch_size': 32, 'n_workers': 4, 'n_epochs': 60, 'model': 'inceptionv3', 'pretrained': True, 'resampler': 'RandomOverSampler', 'scheduler': 'ReduceLROnPlateau', 'optimizer': 'Adam', 'label_smoothing': 0.1, 'lr': 1e-05, 'img_size': 299, 'momentum': None, 'gamma': None, 'step_size': None, 'patience': 7, 'dropout': None, 'config_name': 'cnn-roof_type-inceptionv3-RGB_DOM_LCA', 'rasters_dir': '../data/rasters/', 'vectors_dir': '../data/vectors/', 'tile_dir': '../data/tiles/', 'csv_dir': '../data/csv/', 'out_dir': '../outputs/', 'exp_dir': '../exp/', 'log_dir': '../logs/'}\n",
      "INFO:root:Model file ../exp/cnn-roof_type-inceptionv3-RGB_DOM_LCA\\cnn-roof_type-inceptionv3-RGB_DOM_LCA.pth successfully loaded.\n",
      "100%|███████████████| 50410/50410 [4:45:17<00:00,  2.94it/s]                                                           \n"
     ]
    },
    {
     "data": {
      "text/html": [
       "<div>\n",
       "<style scoped>\n",
       "    .dataframe tbody tr th:only-of-type {\n",
       "        vertical-align: middle;\n",
       "    }\n",
       "\n",
       "    .dataframe tbody tr th {\n",
       "        vertical-align: top;\n",
       "    }\n",
       "\n",
       "    .dataframe thead th {\n",
       "        text-align: right;\n",
       "    }\n",
       "</style>\n",
       "<table border=\"1\" class=\"dataframe\">\n",
       "  <thead>\n",
       "    <tr style=\"text-align: right;\">\n",
       "      <th></th>\n",
       "      <th>UID</th>\n",
       "      <th>geometry</th>\n",
       "      <th>ROOF_MATERIAL</th>\n",
       "      <th>ROOF_MATERIAL_PROB</th>\n",
       "      <th>INCOMPLETE_PROB</th>\n",
       "      <th>HEALTHY_METAL_PROB</th>\n",
       "      <th>IRREGULAR_METAL_PROB</th>\n",
       "      <th>CONCRETE_CEMENT_PROB</th>\n",
       "      <th>BLUE_TARP_PROB</th>\n",
       "      <th>ROOF_TYPE</th>\n",
       "      <th>ROOF_TYPE_PROB</th>\n",
       "      <th>NO_ROOF_PROB</th>\n",
       "      <th>GABLE_PROB</th>\n",
       "      <th>HIP_PROB</th>\n",
       "      <th>FLAT_PROB</th>\n",
       "    </tr>\n",
       "  </thead>\n",
       "  <tbody>\n",
       "    <tr>\n",
       "      <th>0</th>\n",
       "      <td>0</td>\n",
       "      <td>MULTIPOLYGON Z (((675912.759 1682212.635 99.94...</td>\n",
       "      <td>BLUE_TARP</td>\n",
       "      <td>0.357583</td>\n",
       "      <td>0.048491</td>\n",
       "      <td>0.147591</td>\n",
       "      <td>0.272941</td>\n",
       "      <td>0.173394</td>\n",
       "      <td>0.357583</td>\n",
       "      <td>GABLE</td>\n",
       "      <td>0.737536</td>\n",
       "      <td>0.074953</td>\n",
       "      <td>0.737536</td>\n",
       "      <td>0.087074</td>\n",
       "      <td>0.100438</td>\n",
       "    </tr>\n",
       "    <tr>\n",
       "      <th>1</th>\n",
       "      <td>1</td>\n",
       "      <td>MULTIPOLYGON Z (((675731.846 1682256.863 68.50...</td>\n",
       "      <td>IRREGULAR_METAL</td>\n",
       "      <td>0.769993</td>\n",
       "      <td>0.028491</td>\n",
       "      <td>0.160160</td>\n",
       "      <td>0.769993</td>\n",
       "      <td>0.018792</td>\n",
       "      <td>0.022564</td>\n",
       "      <td>GABLE</td>\n",
       "      <td>0.937156</td>\n",
       "      <td>0.017032</td>\n",
       "      <td>0.937156</td>\n",
       "      <td>0.028361</td>\n",
       "      <td>0.017451</td>\n",
       "    </tr>\n",
       "    <tr>\n",
       "      <th>2</th>\n",
       "      <td>2</td>\n",
       "      <td>MULTIPOLYGON Z (((675723.312 1682258.156 67.15...</td>\n",
       "      <td>IRREGULAR_METAL</td>\n",
       "      <td>0.953958</td>\n",
       "      <td>0.010803</td>\n",
       "      <td>0.012412</td>\n",
       "      <td>0.953958</td>\n",
       "      <td>0.005902</td>\n",
       "      <td>0.016925</td>\n",
       "      <td>GABLE</td>\n",
       "      <td>0.873958</td>\n",
       "      <td>0.024965</td>\n",
       "      <td>0.873958</td>\n",
       "      <td>0.056632</td>\n",
       "      <td>0.044446</td>\n",
       "    </tr>\n",
       "  </tbody>\n",
       "</table>\n",
       "</div>"
      ],
      "text/plain": [
       "   UID                                           geometry    ROOF_MATERIAL   \n",
       "0    0  MULTIPOLYGON Z (((675912.759 1682212.635 99.94...        BLUE_TARP  \\\n",
       "1    1  MULTIPOLYGON Z (((675731.846 1682256.863 68.50...  IRREGULAR_METAL   \n",
       "2    2  MULTIPOLYGON Z (((675723.312 1682258.156 67.15...  IRREGULAR_METAL   \n",
       "\n",
       "   ROOF_MATERIAL_PROB  INCOMPLETE_PROB  HEALTHY_METAL_PROB   \n",
       "0            0.357583         0.048491            0.147591  \\\n",
       "1            0.769993         0.028491            0.160160   \n",
       "2            0.953958         0.010803            0.012412   \n",
       "\n",
       "   IRREGULAR_METAL_PROB  CONCRETE_CEMENT_PROB  BLUE_TARP_PROB ROOF_TYPE   \n",
       "0              0.272941              0.173394        0.357583     GABLE  \\\n",
       "1              0.769993              0.018792        0.022564     GABLE   \n",
       "2              0.953958              0.005902        0.016925     GABLE   \n",
       "\n",
       "   ROOF_TYPE_PROB  NO_ROOF_PROB  GABLE_PROB  HIP_PROB  FLAT_PROB  \n",
       "0        0.737536      0.074953    0.737536  0.087074   0.100438  \n",
       "1        0.937156      0.017032    0.937156  0.028361   0.017451  \n",
       "2        0.873958      0.024965    0.873958  0.056632   0.044446  "
      ]
     },
     "execution_count": 4,
     "metadata": {},
     "output_type": "execute_result"
    }
   ],
   "source": [
    "exp_config = '../configs/cnn/cnn-roof_type-inceptionv3-RGB_DOM_LCA.yaml'\n",
    "c = config.load_config(exp_config, prefix='.')\n",
    "bldgs = pred_utils.predict_image(bldgs, in_file, exp_config, prefix='.')\n",
    "bldgs.head(3)"
   ]
  },
  {
   "cell_type": "code",
   "execution_count": 5,
   "id": "6c231200-d1ad-48eb-94d5-fd51c2cb368f",
   "metadata": {
    "tags": []
   },
   "outputs": [],
   "source": [
    "name = 'ortho_DOM'\n",
    "out_path = os.path.join(c['out_dir'])\n",
    "if not os.path.isdir(out_path):\n",
    "    os.makedirs(out_path)\n",
    "out_file = os.path.join(out_path, f'{name}.gpkg')\n",
    "bldgs.to_file(out_file, driver='GPKG')"
   ]
  },
  {
   "cell_type": "markdown",
   "id": "cb2d412b-e299-44a1-963b-5b49910a585d",
   "metadata": {},
   "source": [
    "## Model Evaluation"
   ]
  },
  {
   "cell_type": "code",
   "execution_count": null,
   "id": "695fc091-3e21-4c89-aa4f-03d591150297",
   "metadata": {
    "tags": []
   },
   "outputs": [],
   "source": [
    "ytrue_file = '../data/vectors/building_footprints_annotated_COLIHAUT.gpkg'\n",
    "ytrue = gpd.read_file(ytrue_file)[['UID', 'roof_type', 'roof_material', 'geometry']].dropna()\n",
    "ytrue.roof_type = ytrue.roof_type.replace({'PYRAMID': 'HIP', 'HALF_HIP': 'HIP'})\n",
    "print(f\"Data dimensions: {ytrue.shape}\")\n",
    "print(ytrue.roof_type.value_counts())\n",
    "print(ytrue.roof_material.value_counts())\n",
    "ytrue.head(3)"
   ]
  },
  {
   "cell_type": "code",
   "execution_count": null,
   "id": "76080552-0265-4bc8-9e43-a3b21e1b386e",
   "metadata": {
    "tags": []
   },
   "outputs": [],
   "source": [
    "ypred_file = f'../output/{name}-drone-20230616.gpkg'\n",
    "ypred = gpd.read_file(ypred_file)[['UID', 'roof_type', 'roof_material', 'geometry']].dropna()\n",
    "print(f\"Data dimensions: {ypred.shape}\")\n",
    "print(ypred.roof_type.value_counts())\n",
    "print(ypred.roof_material.value_counts())\n",
    "ypred.head(3)"
   ]
  },
  {
   "cell_type": "code",
   "execution_count": null,
   "id": "1fb41696-ef38-4735-877b-f55d2978dd1e",
   "metadata": {
    "tags": []
   },
   "outputs": [],
   "source": [
    "attribute = 'roof_type'\n",
    "classes = geoutils.classes_dict[attribute]\n",
    "cm = eval_utils.get_confusion_matrix(ytrue[attribute], ypred[attribute], classes)\n",
    "eval_utils.evaluate(ytrue[attribute], ypred[attribute])"
   ]
  },
  {
   "cell_type": "markdown",
   "id": "66e9536e-43f0-462b-9420-198b32e09d55",
   "metadata": {},
   "source": [
    "## Data Fusion"
   ]
  },
  {
   "cell_type": "code",
   "execution_count": 19,
   "id": "c5bdb754-2118-4e20-b415-6c66d014669e",
   "metadata": {
    "tags": []
   },
   "outputs": [
    {
     "name": "stdout",
     "output_type": "stream",
     "text": [
      "(50410, 2)\n"
     ]
    },
    {
     "data": {
      "text/html": [
       "<div>\n",
       "<style scoped>\n",
       "    .dataframe tbody tr th:only-of-type {\n",
       "        vertical-align: middle;\n",
       "    }\n",
       "\n",
       "    .dataframe tbody tr th {\n",
       "        vertical-align: top;\n",
       "    }\n",
       "\n",
       "    .dataframe thead th {\n",
       "        text-align: right;\n",
       "    }\n",
       "</style>\n",
       "<table border=\"1\" class=\"dataframe\">\n",
       "  <thead>\n",
       "    <tr style=\"text-align: right;\">\n",
       "      <th></th>\n",
       "      <th>UID</th>\n",
       "      <th>geometry</th>\n",
       "    </tr>\n",
       "  </thead>\n",
       "  <tbody>\n",
       "    <tr>\n",
       "      <th>0</th>\n",
       "      <td>0</td>\n",
       "      <td>MULTIPOLYGON Z (((675912.759 1682212.635 99.94...</td>\n",
       "    </tr>\n",
       "    <tr>\n",
       "      <th>1</th>\n",
       "      <td>1</td>\n",
       "      <td>MULTIPOLYGON Z (((675731.846 1682256.863 68.50...</td>\n",
       "    </tr>\n",
       "    <tr>\n",
       "      <th>2</th>\n",
       "      <td>2</td>\n",
       "      <td>MULTIPOLYGON Z (((675723.312 1682258.156 67.15...</td>\n",
       "    </tr>\n",
       "  </tbody>\n",
       "</table>\n",
       "</div>"
      ],
      "text/plain": [
       "   UID                                           geometry\n",
       "0    0  MULTIPOLYGON Z (((675912.759 1682212.635 99.94...\n",
       "1    1  MULTIPOLYGON Z (((675731.846 1682256.863 68.50...\n",
       "2    2  MULTIPOLYGON Z (((675723.312 1682258.156 67.15..."
      ]
     },
     "execution_count": 19,
     "metadata": {},
     "output_type": "execute_result"
    }
   ],
   "source": [
    "filename = '../data/vectors/bldgs_ortho_DOM.gpkg'\n",
    "bldgs = gpd.read_file(filename).reset_index(drop=True)[['UID', 'geometry']].dropna()\n",
    "print(bldgs.shape)\n",
    "bldgs.head(3)"
   ]
  },
  {
   "cell_type": "code",
   "execution_count": 8,
   "id": "c9401d87-f819-44f8-9cef-2fd4056e70cd",
   "metadata": {
    "tags": []
   },
   "outputs": [
    {
     "name": "stdout",
     "output_type": "stream",
     "text": [
      "{'config1': '../configs/cnn/cnn-roof_type-efficientnetb0-RGB_DOM.yaml', 'config2': '../configs/cnn/cnn-roof_type-inceptionv3-LIDAR_DOM.yaml', 'mode': 'fusion_embeds', 'model': 'LogisticRegression', 'model_params': {'solver': ['lbfgs', 'liblinear'], 'penalty': ['l1', 'l2'], 'C': [0.001, 0.01, 0.1, 1.0]}, 'selector': None, 'selector_params': None, 'scalers': ['MinMaxScaler', 'StandardScaler', 'RobustScaler'], 'cv': 'GridSearchCV', 'cv_params': {'refit': 'f1_score', 'verbose': 2, 'n_jobs': -1, 'cv': 5}, 'config_name': 'fusion_LR_embeds', 'rasters_dir': '../data/rasters/', 'vectors_dir': '../data/vectors/', 'tile_dir': '../data/tiles/', 'csv_dir': '../data/csv/', 'out_dir': '../outputs/', 'exp_dir': '../exp/', 'log_dir': '../logs/'}\n"
     ]
    },
    {
     "name": "stderr",
     "output_type": "stream",
     "text": [
      "INFO:root:Model file ../exp/cnn-roof_type-efficientnetb0-RGB_DOM\\cnn-roof_type-efficientnetb0-RGB_DOM.pth successfully loaded.\n"
     ]
    },
    {
     "name": "stdout",
     "output_type": "stream",
     "text": [
      "{'attribute': 'roof_type', 'data': 'RGB_DOM', 'mode': 'RGB', 'batch_size': 32, 'n_workers': 4, 'n_epochs': 60, 'model': 'efficientnetb0', 'pretrained': True, 'resampler': 'RandomOverSampler', 'scheduler': 'ReduceLROnPlateau', 'optimizer': 'Adam', 'label_smoothing': 0.1, 'lr': 1e-05, 'img_size': 224, 'momentum': None, 'gamma': None, 'step_size': None, 'patience': 7, 'dropout': None, 'config_name': 'cnn-roof_type-efficientnetb0-RGB_DOM', 'rasters_dir': '../data/rasters/', 'vectors_dir': '../data/vectors/', 'tile_dir': '../data/tiles/', 'csv_dir': '../data/csv/', 'out_dir': '../outputs/', 'exp_dir': '../exp/', 'log_dir': '../logs/'}\n"
     ]
    },
    {
     "name": "stderr",
     "output_type": "stream",
     "text": [
      "INFO:root:Model file ../exp/cnn-roof_type-inceptionv3-LIDAR_DOM\\cnn-roof_type-inceptionv3-LIDAR_DOM.pth successfully loaded.\n"
     ]
    },
    {
     "name": "stdout",
     "output_type": "stream",
     "text": [
      "{'attribute': 'roof_type', 'data': 'LIDAR_DOM', 'mode': 'LIDAR', 'batch_size': 32, 'n_workers': 4, 'n_epochs': 60, 'model': 'inceptionv3', 'pretrained': True, 'resampler': 'RandomOverSampler', 'scheduler': 'ReduceLROnPlateau', 'optimizer': 'Adam', 'label_smoothing': 0.1, 'lr': 1e-05, 'img_size': 299, 'momentum': None, 'gamma': None, 'step_size': None, 'patience': 7, 'dropout': None, 'config_name': 'cnn-roof_type-inceptionv3-LIDAR_DOM', 'rasters_dir': '../data/rasters/', 'vectors_dir': '../data/vectors/', 'tile_dir': '../data/tiles/', 'csv_dir': '../data/csv/', 'out_dir': '../outputs/', 'exp_dir': '../exp/', 'log_dir': '../logs/'}\n"
     ]
    }
   ],
   "source": [
    "c = config.load_config(\"../configs/fusion/fusion_LR_embeds.yaml\", prefix='.')\n",
    "c = {key: '.' + value if 'config1' in key or 'config2' in key else value for key, value in c.items()}\n",
    "print(c)\n",
    "\n",
    "c1 = config.load_config(c['config1'], prefix='.')\n",
    "classes = geoutils.get_classes_dict(c1['attribute'])\n",
    "model1 = pred_utils.load_model(c1, classes=classes)\n",
    "print(c1)\n",
    "\n",
    "c2 = config.load_config(c['config2'], prefix='.')\n",
    "model2 = pred_utils.load_model(c2, classes=classes)\n",
    "print(c2)"
   ]
  },
  {
   "cell_type": "code",
   "execution_count": 9,
   "id": "343b3b81-e3ec-4383-98dc-e0c6a241797a",
   "metadata": {
    "tags": []
   },
   "outputs": [
    {
     "name": "stderr",
     "output_type": "stream",
     "text": [
      "100%|███████████████| 50410/50410 [6:36:20<00:00,  2.12it/s]                                                           \n"
     ]
    }
   ],
   "source": [
    "source1 = '../data/rasters/ortho/ortho_DOM.tif'\n",
    "source2 = '../data/rasters/lidar/ndsm_DOM.tif'\n",
    "data = fusion_utils.predict(bldgs, c1, c2, model1, model2, source1=source1, source2=source2)"
   ]
  },
  {
   "cell_type": "code",
   "execution_count": 12,
   "id": "304598fa-4313-4516-8d24-4c03c3a527fc",
   "metadata": {
    "tags": []
   },
   "outputs": [],
   "source": [
    "data.to_csv(os.path.join(c['out_dir'], 'ortho_DOM.csv'))"
   ]
  },
  {
   "cell_type": "code",
   "execution_count": 14,
   "id": "690d0367-3f2e-41af-917b-52e092f02060",
   "metadata": {
    "tags": []
   },
   "outputs": [
    {
     "data": {
      "text/plain": [
       "'../exp/fusion_LR_embeds\\\\fusion_embeds\\\\LogisticRegression\\\\fusion_LR_embeds.pkl'"
      ]
     },
     "execution_count": 14,
     "metadata": {},
     "output_type": "execute_result"
    }
   ],
   "source": [
    "features = fusion_utils.get_features(c, data)\n",
    "model_file = os.path.join(\n",
    "    c['exp_dir'], \n",
    "    c['config_name'], \n",
    "    c['mode'], \n",
    "    c['model'], \n",
    "    f\"{c['config_name']}.pkl\"\n",
    ")\n",
    "model_file"
   ]
  },
  {
   "cell_type": "code",
   "execution_count": 23,
   "id": "70842bc5-bd14-4ed3-8b39-51741ed00b20",
   "metadata": {
    "tags": []
   },
   "outputs": [
    {
     "data": {
      "text/html": [
       "<div>\n",
       "<style scoped>\n",
       "    .dataframe tbody tr th:only-of-type {\n",
       "        vertical-align: middle;\n",
       "    }\n",
       "\n",
       "    .dataframe tbody tr th {\n",
       "        vertical-align: top;\n",
       "    }\n",
       "\n",
       "    .dataframe thead th {\n",
       "        text-align: right;\n",
       "    }\n",
       "</style>\n",
       "<table border=\"1\" class=\"dataframe\">\n",
       "  <thead>\n",
       "    <tr style=\"text-align: right;\">\n",
       "      <th></th>\n",
       "      <th>NO_ROOF_PROB</th>\n",
       "      <th>GABLE_PROB</th>\n",
       "      <th>HIP_PROB</th>\n",
       "      <th>FLAT_PROB</th>\n",
       "    </tr>\n",
       "  </thead>\n",
       "  <tbody>\n",
       "    <tr>\n",
       "      <th>0</th>\n",
       "      <td>0.085731</td>\n",
       "      <td>0.021490</td>\n",
       "      <td>0.002926</td>\n",
       "      <td>0.889853</td>\n",
       "    </tr>\n",
       "    <tr>\n",
       "      <th>1</th>\n",
       "      <td>0.000974</td>\n",
       "      <td>0.981742</td>\n",
       "      <td>0.001839</td>\n",
       "      <td>0.015445</td>\n",
       "    </tr>\n",
       "    <tr>\n",
       "      <th>2</th>\n",
       "      <td>0.001433</td>\n",
       "      <td>0.979017</td>\n",
       "      <td>0.002901</td>\n",
       "      <td>0.016649</td>\n",
       "    </tr>\n",
       "  </tbody>\n",
       "</table>\n",
       "</div>"
      ],
      "text/plain": [
       "   NO_ROOF_PROB  GABLE_PROB  HIP_PROB  FLAT_PROB\n",
       "0      0.085731    0.021490  0.002926   0.889853\n",
       "1      0.000974    0.981742  0.001839   0.015445\n",
       "2      0.001433    0.979017  0.002901   0.016649"
      ]
     },
     "execution_count": 23,
     "metadata": {},
     "output_type": "execute_result"
    }
   ],
   "source": [
    "model = joblib.load(model_file)\n",
    "preds = model.predict(data[features])\n",
    "probs = model.predict_proba(data[features])\n",
    "probs_col = [f\"{classes[index]}_PROB\" for index in range(len(classes))]\n",
    "probs = pd.DataFrame(probs, columns=probs_col)\n",
    "probs.head(3)"
   ]
  },
  {
   "cell_type": "code",
   "execution_count": 24,
   "id": "42eedc1b-7f38-4c9c-a2dc-700836aed0fd",
   "metadata": {
    "tags": []
   },
   "outputs": [],
   "source": [
    "name = 'ortho_lidar_DOM'\n",
    "bldgs[c1[\"attribute\"]] = preds\n",
    "bldgs[f\"{c1['attribute']}_PROB\"] = probs.max(axis=1)\n",
    "results = gpd.GeoDataFrame(pd.concat([bldgs, probs], axis=1))\n",
    "results.columns = [\n",
    "    col.upper() if col != \"geometry\" else col for col in results.columns\n",
    "]\n",
    "out_file = os.path.join(c['out_dir'], f'{name}.gpkg')\n",
    "results.to_file(out_file, driver='GPKG')"
   ]
  }
 ],
 "metadata": {
  "kernelspec": {
   "display_name": "GFDRR",
   "language": "python",
   "name": "gfdrr"
  },
  "language_info": {
   "codemirror_mode": {
    "name": "ipython",
    "version": 3
   },
   "file_extension": ".py",
   "mimetype": "text/x-python",
   "name": "python",
   "nbconvert_exporter": "python",
   "pygments_lexer": "ipython3",
   "version": "3.10.10"
  }
 },
 "nbformat": 4,
 "nbformat_minor": 5
}
