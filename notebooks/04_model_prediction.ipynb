{
 "cells": [
  {
   "cell_type": "markdown",
   "id": "b4f80cd1-c02b-4e83-be53-b44042b4e76f",
   "metadata": {},
   "source": [
    "## Imports and Setup"
   ]
  },
  {
   "cell_type": "code",
   "execution_count": 1,
   "id": "21005e6c-9716-4ad6-bcb8-211a090f12eb",
   "metadata": {
    "tags": []
   },
   "outputs": [
    {
     "name": "stderr",
     "output_type": "stream",
     "text": [
      "C:\\Users\\Issa\\miniconda3\\envs\\GFDRR\\lib\\site-packages\\groundingdino\\models\\GroundingDINO\\ms_deform_attn.py:31: UserWarning: Failed to load custom C++ ops. Running on CPU mode Only!\n",
      "  warnings.warn(\"Failed to load custom C++ ops. Running on CPU mode Only!\")\n"
     ]
    }
   ],
   "source": [
    "import os\n",
    "import sys\n",
    "import joblib\n",
    "import subprocess\n",
    "\n",
    "import pandas as pd\n",
    "import numpy as np\n",
    "import geopandas as gpd\n",
    "from tqdm.notebook import tqdm\n",
    "\n",
    "sys.path.insert(0, \"../utils/\")\n",
    "import pred_utils\n",
    "import config\n",
    "import geoutils\n",
    "import eval_utils\n",
    "import fusion_utils\n",
    "\n",
    "import logging\n",
    "logging.basicConfig(level=logging.INFO)\n",
    "pd.set_option('mode.chained_assignment', None)\n",
    "\n",
    "%load_ext autoreload\n",
    "%autoreload 2"
   ]
  },
  {
   "cell_type": "markdown",
   "id": "ebac135f-bb1c-4527-85a5-cac442ea90e6",
   "metadata": {},
   "source": [
    "## Generate Predictions"
   ]
  },
  {
   "cell_type": "code",
   "execution_count": 46,
   "id": "19375065-219f-4be2-8204-2a4cc21f54c8",
   "metadata": {
    "tags": []
   },
   "outputs": [],
   "source": [
    "name = 'LCA_08'\n",
    "in_file = f'../data/rasters/ortho/ortho_LCA.tif'\n",
    "bldg_file = f'../data/vectors/{name}.gpkg'"
   ]
  },
  {
   "cell_type": "code",
   "execution_count": 47,
   "id": "7273e0aa-9051-4838-9894-684e637a0019",
   "metadata": {},
   "outputs": [
    {
     "name": "stdout",
     "output_type": "stream",
     "text": [
      "(578, 2)\n"
     ]
    },
    {
     "data": {
      "text/html": [
       "<div>\n",
       "<style scoped>\n",
       "    .dataframe tbody tr th:only-of-type {\n",
       "        vertical-align: middle;\n",
       "    }\n",
       "\n",
       "    .dataframe tbody tr th {\n",
       "        vertical-align: top;\n",
       "    }\n",
       "\n",
       "    .dataframe thead th {\n",
       "        text-align: right;\n",
       "    }\n",
       "</style>\n",
       "<table border=\"1\" class=\"dataframe\">\n",
       "  <thead>\n",
       "    <tr style=\"text-align: right;\">\n",
       "      <th></th>\n",
       "      <th>UID</th>\n",
       "      <th>geometry</th>\n",
       "    </tr>\n",
       "  </thead>\n",
       "  <tbody>\n",
       "    <tr>\n",
       "      <th>0</th>\n",
       "      <td>0</td>\n",
       "      <td>POLYGON ((710665.900 1523895.900, 710675.600 1...</td>\n",
       "    </tr>\n",
       "    <tr>\n",
       "      <th>1</th>\n",
       "      <td>1</td>\n",
       "      <td>POLYGON ((710696.200 1523891.700, 710698.900 1...</td>\n",
       "    </tr>\n",
       "    <tr>\n",
       "      <th>2</th>\n",
       "      <td>2</td>\n",
       "      <td>POLYGON ((710646.900 1523914.100, 710660.900 1...</td>\n",
       "    </tr>\n",
       "  </tbody>\n",
       "</table>\n",
       "</div>"
      ],
      "text/plain": [
       "   UID                                           geometry\n",
       "0    0  POLYGON ((710665.900 1523895.900, 710675.600 1...\n",
       "1    1  POLYGON ((710696.200 1523891.700, 710698.900 1...\n",
       "2    2  POLYGON ((710646.900 1523914.100, 710660.900 1..."
      ]
     },
     "execution_count": 47,
     "metadata": {},
     "output_type": "execute_result"
    }
   ],
   "source": [
    "#bldgs = gpd.read_file(bldg_file).reset_index(drop=True)[['UID', 'geometry']].dropna()\n",
    "bldgs = gpd.read_file(bldg_file)\n",
    "bldgs = bldgs.reset_index(drop=True)\n",
    "bldgs['UID'] = bldgs.index\n",
    "bldgs = bldgs[['UID', 'geometry']]\n",
    "print(bldgs.shape)\n",
    "bldgs.head(3)"
   ]
  },
  {
   "cell_type": "code",
   "execution_count": 48,
   "id": "02eb0483-639b-4103-9acb-9c7805142d94",
   "metadata": {
    "tags": []
   },
   "outputs": [
    {
     "name": "stderr",
     "output_type": "stream",
     "text": [
      "INFO:root:Config: {'attribute': 'roof_type', 'data': 'RGB_DOM_LCA', 'mode': 'RGB', 'batch_size': 32, 'n_workers': 4, 'n_epochs': 60, 'model': 'efficientnetb0', 'pretrained': True, 'resampler': 'RandomOverSampler', 'scheduler': 'ReduceLROnPlateau', 'optimizer': 'Adam', 'label_smoothing': 0.1, 'lr': 1e-05, 'img_size': 224, 'momentum': None, 'gamma': None, 'step_size': None, 'patience': 7, 'dropout': None, 'config_name': 'cnn-roof_type-efficientnetb0-RGB_DOM_LCA', 'rasters_dir': '../data/rasters/', 'vectors_dir': '../data/vectors/', 'tile_dir': '../data/tiles/', 'csv_dir': '../data/csv/', 'out_dir': '../outputs/', 'exp_dir': '../exp/', 'log_dir': '../logs/'}\n",
      "INFO:root:Model file ../exp/cnn-roof_type-efficientnetb0-RGB_DOM_LCA\\cnn-roof_type-efficientnetb0-RGB_DOM_LCA.pth successfully loaded.\n",
      "100%|███████████████| 578/578 [01:50<00:00,  5.22it/s]                                                                 \n"
     ]
    },
    {
     "data": {
      "text/html": [
       "<div>\n",
       "<style scoped>\n",
       "    .dataframe tbody tr th:only-of-type {\n",
       "        vertical-align: middle;\n",
       "    }\n",
       "\n",
       "    .dataframe tbody tr th {\n",
       "        vertical-align: top;\n",
       "    }\n",
       "\n",
       "    .dataframe thead th {\n",
       "        text-align: right;\n",
       "    }\n",
       "</style>\n",
       "<table border=\"1\" class=\"dataframe\">\n",
       "  <thead>\n",
       "    <tr style=\"text-align: right;\">\n",
       "      <th></th>\n",
       "      <th>UID</th>\n",
       "      <th>geometry</th>\n",
       "      <th>ROOF_TYPE</th>\n",
       "      <th>ROOF_TYPE_PROB</th>\n",
       "      <th>NO_ROOF_PROB</th>\n",
       "      <th>GABLE_PROB</th>\n",
       "      <th>HIP_PROB</th>\n",
       "      <th>FLAT_PROB</th>\n",
       "    </tr>\n",
       "  </thead>\n",
       "  <tbody>\n",
       "    <tr>\n",
       "      <th>0</th>\n",
       "      <td>0</td>\n",
       "      <td>POLYGON ((710665.900 1523895.900, 710675.600 1...</td>\n",
       "      <td>HIP</td>\n",
       "      <td>0.946960</td>\n",
       "      <td>0.015347</td>\n",
       "      <td>0.016730</td>\n",
       "      <td>0.946960</td>\n",
       "      <td>0.020964</td>\n",
       "    </tr>\n",
       "    <tr>\n",
       "      <th>1</th>\n",
       "      <td>1</td>\n",
       "      <td>POLYGON ((710696.200 1523891.700, 710698.900 1...</td>\n",
       "      <td>GABLE</td>\n",
       "      <td>0.949959</td>\n",
       "      <td>0.015253</td>\n",
       "      <td>0.949959</td>\n",
       "      <td>0.006668</td>\n",
       "      <td>0.028121</td>\n",
       "    </tr>\n",
       "    <tr>\n",
       "      <th>2</th>\n",
       "      <td>2</td>\n",
       "      <td>POLYGON ((710646.900 1523914.100, 710660.900 1...</td>\n",
       "      <td>HIP</td>\n",
       "      <td>0.915768</td>\n",
       "      <td>0.034023</td>\n",
       "      <td>0.028584</td>\n",
       "      <td>0.915768</td>\n",
       "      <td>0.021626</td>\n",
       "    </tr>\n",
       "  </tbody>\n",
       "</table>\n",
       "</div>"
      ],
      "text/plain": [
       "   UID                                           geometry ROOF_TYPE   \n",
       "0    0  POLYGON ((710665.900 1523895.900, 710675.600 1...       HIP  \\\n",
       "1    1  POLYGON ((710696.200 1523891.700, 710698.900 1...     GABLE   \n",
       "2    2  POLYGON ((710646.900 1523914.100, 710660.900 1...       HIP   \n",
       "\n",
       "   ROOF_TYPE_PROB  NO_ROOF_PROB  GABLE_PROB  HIP_PROB  FLAT_PROB  \n",
       "0        0.946960      0.015347    0.016730  0.946960   0.020964  \n",
       "1        0.949959      0.015253    0.949959  0.006668   0.028121  \n",
       "2        0.915768      0.034023    0.028584  0.915768   0.021626  "
      ]
     },
     "execution_count": 48,
     "metadata": {},
     "output_type": "execute_result"
    }
   ],
   "source": [
    "exp_config = '../configs/cnn/cnn-roof_type-efficientnetb0-RGB_DOM_LCA.yaml'\n",
    "c = config.load_config(exp_config, prefix='.')\n",
    "bldgs = pred_utils.predict_image(bldgs, in_file, exp_config, prefix='.')\n",
    "bldgs.head(3)"
   ]
  },
  {
   "cell_type": "code",
   "execution_count": 49,
   "id": "5c35f66c-012f-40d3-99f9-e566d99a483a",
   "metadata": {
    "tags": []
   },
   "outputs": [
    {
     "name": "stderr",
     "output_type": "stream",
     "text": [
      "INFO:root:Config: {'data': 'RGB_LCA', 'mode': 'RGB', 'attribute': 'roof_material', 'batch_size': 32, 'n_workers': 4, 'n_epochs': 60, 'model': 'efficientnetb0', 'pretrained': True, 'resampler': 'RandomOverSampler', 'scheduler': 'ReduceLROnPlateau', 'optimizer': 'Adam', 'label_smoothing': 0.1, 'lr': 1e-05, 'img_size': 224, 'momentum': None, 'gamma': None, 'step_size': None, 'patience': 7, 'dropout': None, 'config_name': 'cnn-roof_material-efficientnetb0-RGB_LCA', 'rasters_dir': '../data/rasters/', 'vectors_dir': '../data/vectors/', 'tile_dir': '../data/tiles/', 'csv_dir': '../data/csv/', 'out_dir': '../outputs/', 'exp_dir': '../exp/', 'log_dir': '../logs/'}\n",
      "INFO:root:Model file ../exp/cnn-roof_material-efficientnetb0-RGB_LCA\\cnn-roof_material-efficientnetb0-RGB_LCA.pth successfully loaded.\n",
      "100%|███████████████| 578/578 [01:57<00:00,  4.90it/s]                                                                 \n"
     ]
    },
    {
     "data": {
      "text/html": [
       "<div>\n",
       "<style scoped>\n",
       "    .dataframe tbody tr th:only-of-type {\n",
       "        vertical-align: middle;\n",
       "    }\n",
       "\n",
       "    .dataframe tbody tr th {\n",
       "        vertical-align: top;\n",
       "    }\n",
       "\n",
       "    .dataframe thead th {\n",
       "        text-align: right;\n",
       "    }\n",
       "</style>\n",
       "<table border=\"1\" class=\"dataframe\">\n",
       "  <thead>\n",
       "    <tr style=\"text-align: right;\">\n",
       "      <th></th>\n",
       "      <th>UID</th>\n",
       "      <th>geometry</th>\n",
       "      <th>ROOF_TYPE</th>\n",
       "      <th>ROOF_TYPE_PROB</th>\n",
       "      <th>NO_ROOF_PROB</th>\n",
       "      <th>GABLE_PROB</th>\n",
       "      <th>HIP_PROB</th>\n",
       "      <th>FLAT_PROB</th>\n",
       "      <th>ROOF_MATERIAL</th>\n",
       "      <th>ROOF_MATERIAL_PROB</th>\n",
       "      <th>INCOMPLETE_PROB</th>\n",
       "      <th>HEALTHY_METAL_PROB</th>\n",
       "      <th>IRREGULAR_METAL_PROB</th>\n",
       "      <th>CONCRETE_CEMENT_PROB</th>\n",
       "    </tr>\n",
       "  </thead>\n",
       "  <tbody>\n",
       "    <tr>\n",
       "      <th>0</th>\n",
       "      <td>0</td>\n",
       "      <td>POLYGON ((710665.900 1523895.900, 710675.600 1...</td>\n",
       "      <td>HIP</td>\n",
       "      <td>0.946960</td>\n",
       "      <td>0.015347</td>\n",
       "      <td>0.016730</td>\n",
       "      <td>0.946960</td>\n",
       "      <td>0.020964</td>\n",
       "      <td>HEALTHY_METAL</td>\n",
       "      <td>0.911675</td>\n",
       "      <td>0.029389</td>\n",
       "      <td>0.911675</td>\n",
       "      <td>0.028507</td>\n",
       "      <td>0.030429</td>\n",
       "    </tr>\n",
       "    <tr>\n",
       "      <th>1</th>\n",
       "      <td>1</td>\n",
       "      <td>POLYGON ((710696.200 1523891.700, 710698.900 1...</td>\n",
       "      <td>GABLE</td>\n",
       "      <td>0.949959</td>\n",
       "      <td>0.015253</td>\n",
       "      <td>0.949959</td>\n",
       "      <td>0.006668</td>\n",
       "      <td>0.028121</td>\n",
       "      <td>IRREGULAR_METAL</td>\n",
       "      <td>0.928734</td>\n",
       "      <td>0.024777</td>\n",
       "      <td>0.035255</td>\n",
       "      <td>0.928734</td>\n",
       "      <td>0.011234</td>\n",
       "    </tr>\n",
       "    <tr>\n",
       "      <th>2</th>\n",
       "      <td>2</td>\n",
       "      <td>POLYGON ((710646.900 1523914.100, 710660.900 1...</td>\n",
       "      <td>HIP</td>\n",
       "      <td>0.915768</td>\n",
       "      <td>0.034023</td>\n",
       "      <td>0.028584</td>\n",
       "      <td>0.915768</td>\n",
       "      <td>0.021626</td>\n",
       "      <td>HEALTHY_METAL</td>\n",
       "      <td>0.857821</td>\n",
       "      <td>0.031317</td>\n",
       "      <td>0.857821</td>\n",
       "      <td>0.087956</td>\n",
       "      <td>0.022906</td>\n",
       "    </tr>\n",
       "  </tbody>\n",
       "</table>\n",
       "</div>"
      ],
      "text/plain": [
       "   UID                                           geometry ROOF_TYPE   \n",
       "0    0  POLYGON ((710665.900 1523895.900, 710675.600 1...       HIP  \\\n",
       "1    1  POLYGON ((710696.200 1523891.700, 710698.900 1...     GABLE   \n",
       "2    2  POLYGON ((710646.900 1523914.100, 710660.900 1...       HIP   \n",
       "\n",
       "   ROOF_TYPE_PROB  NO_ROOF_PROB  GABLE_PROB  HIP_PROB  FLAT_PROB   \n",
       "0        0.946960      0.015347    0.016730  0.946960   0.020964  \\\n",
       "1        0.949959      0.015253    0.949959  0.006668   0.028121   \n",
       "2        0.915768      0.034023    0.028584  0.915768   0.021626   \n",
       "\n",
       "     ROOF_MATERIAL  ROOF_MATERIAL_PROB  INCOMPLETE_PROB  HEALTHY_METAL_PROB   \n",
       "0    HEALTHY_METAL            0.911675         0.029389            0.911675  \\\n",
       "1  IRREGULAR_METAL            0.928734         0.024777            0.035255   \n",
       "2    HEALTHY_METAL            0.857821         0.031317            0.857821   \n",
       "\n",
       "   IRREGULAR_METAL_PROB  CONCRETE_CEMENT_PROB  \n",
       "0              0.028507              0.030429  \n",
       "1              0.928734              0.011234  \n",
       "2              0.087956              0.022906  "
      ]
     },
     "execution_count": 49,
     "metadata": {},
     "output_type": "execute_result"
    }
   ],
   "source": [
    "n_classes = None\n",
    "exp_config = '../configs/cnn/cnn-roof_material-resnet50-RGB_DOM.yaml'\n",
    "if 'DOM' not in name: \n",
    "    n_classes = 4\n",
    "    exp_config = '../configs/cnn/cnn-roof_material-efficientnetb0-RGB_LCA.yaml'\n",
    "c = config.load_config(exp_config, prefix='.')\n",
    "bldgs = pred_utils.predict_image(bldgs, in_file, exp_config, n_classes=n_classes, prefix='.')\n",
    "bldgs.head(3)"
   ]
  },
  {
   "cell_type": "code",
   "execution_count": 50,
   "id": "6c231200-d1ad-48eb-94d5-fd51c2cb368f",
   "metadata": {
    "tags": []
   },
   "outputs": [],
   "source": [
    "out_path = os.path.join(c['out_dir'])\n",
    "if not os.path.isdir(out_path):\n",
    "    os.makedirs(out_path)\n",
    "out_file = os.path.join(out_path, f'{name}.gpkg')\n",
    "bldgs.to_file(out_file, driver='GPKG')"
   ]
  },
  {
   "cell_type": "markdown",
   "id": "bfa2add9-b56d-4c49-ba2f-168b0d0438a5",
   "metadata": {},
   "source": [
    "## Data Processing"
   ]
  },
  {
   "cell_type": "code",
   "execution_count": 60,
   "id": "30ee46e9-4ce6-4096-8d3e-632e930783d7",
   "metadata": {
    "tags": []
   },
   "outputs": [
    {
     "data": {
      "text/html": [
       "<div>\n",
       "<style scoped>\n",
       "    .dataframe tbody tr th:only-of-type {\n",
       "        vertical-align: middle;\n",
       "    }\n",
       "\n",
       "    .dataframe tbody tr th {\n",
       "        vertical-align: top;\n",
       "    }\n",
       "\n",
       "    .dataframe thead th {\n",
       "        text-align: right;\n",
       "    }\n",
       "</style>\n",
       "<table border=\"1\" class=\"dataframe\">\n",
       "  <thead>\n",
       "    <tr style=\"text-align: right;\">\n",
       "      <th></th>\n",
       "      <th>UID</th>\n",
       "      <th>ROOF_TYPE</th>\n",
       "      <th>ROOF_TYPE_PROB</th>\n",
       "      <th>NO_ROOF_PROB</th>\n",
       "      <th>GABLE_PROB</th>\n",
       "      <th>HIP_PROB</th>\n",
       "      <th>FLAT_PROB</th>\n",
       "      <th>ROOF_MATERIAL</th>\n",
       "      <th>ROOF_MATERIAL_PROB</th>\n",
       "      <th>INCOMPLETE_PROB</th>\n",
       "      <th>HEALTHY_METAL_PROB</th>\n",
       "      <th>IRREGULAR_METAL_PROB</th>\n",
       "      <th>CONCRETE_CEMENT_PROB</th>\n",
       "      <th>geometry</th>\n",
       "    </tr>\n",
       "  </thead>\n",
       "  <tbody>\n",
       "    <tr>\n",
       "      <th>0</th>\n",
       "      <td>0</td>\n",
       "      <td>GABLE</td>\n",
       "      <td>0.762585</td>\n",
       "      <td>0.017053</td>\n",
       "      <td>0.762585</td>\n",
       "      <td>0.042751</td>\n",
       "      <td>0.177611</td>\n",
       "      <td>HEALTHY_METAL</td>\n",
       "      <td>0.941553</td>\n",
       "      <td>0.039412</td>\n",
       "      <td>0.941553</td>\n",
       "      <td>0.003978</td>\n",
       "      <td>0.015058</td>\n",
       "      <td>POLYGON ((718897.700 1554235.100, 718891.300 1...</td>\n",
       "    </tr>\n",
       "    <tr>\n",
       "      <th>1</th>\n",
       "      <td>1</td>\n",
       "      <td>NO_ROOF</td>\n",
       "      <td>0.935998</td>\n",
       "      <td>0.935998</td>\n",
       "      <td>0.023369</td>\n",
       "      <td>0.022744</td>\n",
       "      <td>0.017888</td>\n",
       "      <td>INCOMPLETE</td>\n",
       "      <td>0.859907</td>\n",
       "      <td>0.859907</td>\n",
       "      <td>0.028522</td>\n",
       "      <td>0.074399</td>\n",
       "      <td>0.037172</td>\n",
       "      <td>POLYGON ((718836.400 1554348.200, 718839.100 1...</td>\n",
       "    </tr>\n",
       "    <tr>\n",
       "      <th>2</th>\n",
       "      <td>2</td>\n",
       "      <td>FLAT</td>\n",
       "      <td>0.465888</td>\n",
       "      <td>0.406486</td>\n",
       "      <td>0.084322</td>\n",
       "      <td>0.043304</td>\n",
       "      <td>0.465888</td>\n",
       "      <td>IRREGULAR_METAL</td>\n",
       "      <td>0.759435</td>\n",
       "      <td>0.043396</td>\n",
       "      <td>0.101301</td>\n",
       "      <td>0.759435</td>\n",
       "      <td>0.095868</td>\n",
       "      <td>POLYGON ((718700.300 1554370.400, 718700.300 1...</td>\n",
       "    </tr>\n",
       "  </tbody>\n",
       "</table>\n",
       "</div>"
      ],
      "text/plain": [
       "   UID ROOF_TYPE  ROOF_TYPE_PROB  NO_ROOF_PROB  GABLE_PROB  HIP_PROB   \n",
       "0    0     GABLE        0.762585      0.017053    0.762585  0.042751  \\\n",
       "1    1   NO_ROOF        0.935998      0.935998    0.023369  0.022744   \n",
       "2    2      FLAT        0.465888      0.406486    0.084322  0.043304   \n",
       "\n",
       "   FLAT_PROB    ROOF_MATERIAL  ROOF_MATERIAL_PROB  INCOMPLETE_PROB   \n",
       "0   0.177611    HEALTHY_METAL            0.941553         0.039412  \\\n",
       "1   0.017888       INCOMPLETE            0.859907         0.859907   \n",
       "2   0.465888  IRREGULAR_METAL            0.759435         0.043396   \n",
       "\n",
       "   HEALTHY_METAL_PROB  IRREGULAR_METAL_PROB  CONCRETE_CEMENT_PROB   \n",
       "0            0.941553              0.003978              0.015058  \\\n",
       "1            0.028522              0.074399              0.037172   \n",
       "2            0.101301              0.759435              0.095868   \n",
       "\n",
       "                                            geometry  \n",
       "0  POLYGON ((718897.700 1554235.100, 718891.300 1...  \n",
       "1  POLYGON ((718836.400 1554348.200, 718839.100 1...  \n",
       "2  POLYGON ((718700.300 1554370.400, 718700.300 1...  "
      ]
     },
     "execution_count": 60,
     "metadata": {},
     "output_type": "execute_result"
    }
   ],
   "source": [
    "files = [f'{out_path}LCA_0{i}.gpkg' for i in range(1,9)]\n",
    "files = files + [out_path+'ortho_LCA.gpkg']\n",
    "data = []\n",
    "for file in files:\n",
    "    subdata = gpd.read_file(file)\n",
    "    data.append(subdata)\n",
    "data = gpd.GeoDataFrame(pd.concat(data), crs=subdata.crs).reset_index(drop=True)\n",
    "data['UID'] = data.index\n",
    "data.to_file(out_path+'ortho_LCA2.gpkg', driver='GPKG')\n",
    "data.head(3)"
   ]
  },
  {
   "cell_type": "markdown",
   "id": "cb2d412b-e299-44a1-963b-5b49910a585d",
   "metadata": {},
   "source": [
    "## Model Evaluation"
   ]
  },
  {
   "cell_type": "code",
   "execution_count": null,
   "id": "695fc091-3e21-4c89-aa4f-03d591150297",
   "metadata": {
    "tags": []
   },
   "outputs": [],
   "source": [
    "ytrue_file = '../data/vectors/building_footprints_annotated_COLIHAUT.gpkg'\n",
    "ytrue = gpd.read_file(ytrue_file)[['UID', 'roof_type', 'roof_material', 'geometry']].dropna()\n",
    "ytrue.roof_type = ytrue.roof_type.replace({'PYRAMID': 'HIP', 'HALF_HIP': 'HIP'})\n",
    "print(f\"Data dimensions: {ytrue.shape}\")\n",
    "print(ytrue.roof_type.value_counts())\n",
    "print(ytrue.roof_material.value_counts())\n",
    "ytrue.head(3)"
   ]
  },
  {
   "cell_type": "code",
   "execution_count": null,
   "id": "76080552-0265-4bc8-9e43-a3b21e1b386e",
   "metadata": {
    "tags": []
   },
   "outputs": [],
   "source": [
    "ypred_file = f'../output/{name}-drone-20230616.gpkg'\n",
    "ypred = gpd.read_file(ypred_file)[['UID', 'roof_type', 'roof_material', 'geometry']].dropna()\n",
    "print(f\"Data dimensions: {ypred.shape}\")\n",
    "print(ypred.roof_type.value_counts())\n",
    "print(ypred.roof_material.value_counts())\n",
    "ypred.head(3)"
   ]
  },
  {
   "cell_type": "code",
   "execution_count": null,
   "id": "1fb41696-ef38-4735-877b-f55d2978dd1e",
   "metadata": {
    "tags": []
   },
   "outputs": [],
   "source": [
    "attribute = 'roof_type'\n",
    "classes = geoutils.classes_dict[attribute]\n",
    "cm = eval_utils.get_confusion_matrix(ytrue[attribute], ypred[attribute], classes)\n",
    "eval_utils.evaluate(ytrue[attribute], ypred[attribute])"
   ]
  },
  {
   "cell_type": "markdown",
   "id": "66e9536e-43f0-462b-9420-198b32e09d55",
   "metadata": {},
   "source": [
    "## Data Fusion"
   ]
  },
  {
   "cell_type": "code",
   "execution_count": null,
   "id": "c5bdb754-2118-4e20-b415-6c66d014669e",
   "metadata": {
    "tags": []
   },
   "outputs": [],
   "source": [
    "filename = '../data/vectors/bldgs_ortho_DOM.gpkg'\n",
    "bldgs = gpd.read_file(filename).reset_index(drop=True)[['UID', 'geometry']].dropna()\n",
    "print(bldgs.shape)\n",
    "bldgs.head(3)"
   ]
  },
  {
   "cell_type": "code",
   "execution_count": null,
   "id": "c9401d87-f819-44f8-9cef-2fd4056e70cd",
   "metadata": {
    "tags": []
   },
   "outputs": [],
   "source": [
    "c = config.load_config(\"../configs/fusion/fusion_LR_embeds.yaml\", prefix='.')\n",
    "c = {key: '.' + value if 'config1' in key or 'config2' in key else value for key, value in c.items()}\n",
    "print(c)\n",
    "\n",
    "c1 = config.load_config(c['config1'], prefix='.')\n",
    "classes = geoutils.get_classes_dict(c1['attribute'])\n",
    "model1 = pred_utils.load_model(c1, classes=classes)\n",
    "print(c1)\n",
    "\n",
    "c2 = config.load_config(c['config2'], prefix='.')\n",
    "model2 = pred_utils.load_model(c2, classes=classes)\n",
    "print(c2)"
   ]
  },
  {
   "cell_type": "code",
   "execution_count": null,
   "id": "343b3b81-e3ec-4383-98dc-e0c6a241797a",
   "metadata": {
    "tags": []
   },
   "outputs": [],
   "source": [
    "source1 = '../data/rasters/ortho/ortho_DOM.tif'\n",
    "source2 = '../data/rasters/lidar/ndsm_DOM.tif'\n",
    "data = fusion_utils.predict(bldgs, c1, c2, model1, model2, source1=source1, source2=source2)"
   ]
  },
  {
   "cell_type": "code",
   "execution_count": null,
   "id": "304598fa-4313-4516-8d24-4c03c3a527fc",
   "metadata": {
    "tags": []
   },
   "outputs": [],
   "source": [
    "data.to_csv(os.path.join(c['out_dir'], 'ortho_DOM.csv'))"
   ]
  },
  {
   "cell_type": "code",
   "execution_count": null,
   "id": "690d0367-3f2e-41af-917b-52e092f02060",
   "metadata": {
    "tags": []
   },
   "outputs": [],
   "source": [
    "features = fusion_utils.get_features(c, data)\n",
    "model_file = os.path.join(\n",
    "    c['exp_dir'], \n",
    "    c['config_name'], \n",
    "    c['mode'], \n",
    "    c['model'], \n",
    "    f\"{c['config_name']}.pkl\"\n",
    ")\n",
    "model_file"
   ]
  },
  {
   "cell_type": "code",
   "execution_count": null,
   "id": "70842bc5-bd14-4ed3-8b39-51741ed00b20",
   "metadata": {
    "tags": []
   },
   "outputs": [],
   "source": [
    "model = joblib.load(model_file)\n",
    "preds = model.predict(data[features])\n",
    "probs = model.predict_proba(data[features])\n",
    "probs_col = [f\"{classes[index]}_PROB\" for index in range(len(classes))]\n",
    "probs = pd.DataFrame(probs, columns=probs_col)\n",
    "probs.head(3)"
   ]
  },
  {
   "cell_type": "code",
   "execution_count": null,
   "id": "42eedc1b-7f38-4c9c-a2dc-700836aed0fd",
   "metadata": {
    "tags": []
   },
   "outputs": [],
   "source": [
    "name = 'ortho_lidar_DOM'\n",
    "bldgs[c1[\"attribute\"]] = preds\n",
    "bldgs[f\"{c1['attribute']}_PROB\"] = probs.max(axis=1)\n",
    "results = gpd.GeoDataFrame(pd.concat([bldgs, probs], axis=1))\n",
    "results.columns = [\n",
    "    col.upper() if col != \"geometry\" else col for col in results.columns\n",
    "]\n",
    "out_file = os.path.join(c['out_dir'], f'{name}.gpkg')\n",
    "results.to_file(out_file, driver='GPKG')"
   ]
  }
 ],
 "metadata": {
  "kernelspec": {
   "display_name": "GFDRR",
   "language": "python",
   "name": "gfdrr"
  },
  "language_info": {
   "codemirror_mode": {
    "name": "ipython",
    "version": 3
   },
   "file_extension": ".py",
   "mimetype": "text/x-python",
   "name": "python",
   "nbconvert_exporter": "python",
   "pygments_lexer": "ipython3",
   "version": "3.10.10"
  }
 },
 "nbformat": 4,
 "nbformat_minor": 5
}
